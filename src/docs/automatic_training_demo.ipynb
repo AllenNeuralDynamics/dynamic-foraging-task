{
 "cells": [
  {
   "cell_type": "code",
   "execution_count": 1,
   "metadata": {},
   "outputs": [
    {
     "name": "stderr",
     "output_type": "stream",
     "text": [
      "2023-12-20 14:22:34 | INFO | aind_auto_train.util.aws_util | AWS credentials not found in environment variables. Try ~/.aws/credentials...\n",
      "2023-12-20 14:22:34 | INFO | aind_auto_train.util.aws_util | Found AWS credential from ~/.aws/credentials!\n"
     ]
    }
   ],
   "source": [
    "from aind_auto_train.auto_train_manager import DynamicForagingAutoTrainManager"
   ]
  },
  {
   "cell_type": "code",
   "execution_count": 4,
   "metadata": {},
   "outputs": [
    {
     "name": "stderr",
     "output_type": "stream",
     "text": [
      "2023-12-20 14:23:29 | INFO | aind_auto_train.util.aws_util | Dataframe imported from s3://aind-behavior-data/foraging_nwb_bonsai_processed/df_sessions.pkl, len(df) = 814\n",
      "2023-12-20 14:23:29 | INFO | aind_auto_train.util.aws_util | Dataframe imported from s3://aind-behavior-data/foraging_auto_training/df_manager_447_demo.pkl, len(df) = 321\n",
      "2023-12-20 14:23:30 | INFO | aind_auto_train.util.aws_util | 17 objects downloaded from s3://aind-behavior-data/foraging_auto_training/saved_curriculums/ to C:\\Users\\admin/capsule/scratch/saved_curriculums/\n",
      "2023-12-20 14:23:30 | INFO | aind_auto_train.curriculum_manager | Found 5 curriculums in C:\\Users\\admin/capsule/scratch/saved_curriculums/\n"
     ]
    }
   ],
   "source": [
    "demo_manager_447 = DynamicForagingAutoTrainManager(manager_name='447_demo',\n",
    "                                     df_behavior_on_s3=dict(bucket='aind-behavior-data',\n",
    "                                                            root='foraging_nwb_bonsai_processed/',\n",
    "                                                            file_name='df_sessions.pkl'),\n",
    "                                     df_manager_root_on_s3=dict(bucket='aind-behavior-data',\n",
    "                                                                root='foraging_auto_training/')\n",
    "                                     )"
   ]
  },
  {
   "cell_type": "code",
   "execution_count": 5,
   "metadata": {},
   "outputs": [
    {
     "data": {
      "text/html": [
       "<div>\n",
       "<style scoped>\n",
       "    .dataframe tbody tr th:only-of-type {\n",
       "        vertical-align: middle;\n",
       "    }\n",
       "\n",
       "    .dataframe tbody tr th {\n",
       "        vertical-align: top;\n",
       "    }\n",
       "\n",
       "    .dataframe thead th {\n",
       "        text-align: right;\n",
       "    }\n",
       "</style>\n",
       "<table border=\"1\" class=\"dataframe\">\n",
       "  <thead>\n",
       "    <tr style=\"text-align: right;\">\n",
       "      <th></th>\n",
       "      <th>subject_id</th>\n",
       "      <th>session_date</th>\n",
       "      <th>task</th>\n",
       "      <th>session</th>\n",
       "      <th>session_at_current_stage</th>\n",
       "      <th>curriculum_task</th>\n",
       "      <th>task_schema_version</th>\n",
       "      <th>curriculum_version</th>\n",
       "      <th>curriculum_schema_version</th>\n",
       "      <th>curriculum_json_name</th>\n",
       "      <th>finished_trials</th>\n",
       "      <th>foraging_efficiency</th>\n",
       "      <th>metrics</th>\n",
       "      <th>current_stage_suggested</th>\n",
       "      <th>current_stage_actual</th>\n",
       "      <th>if_closed_loop</th>\n",
       "      <th>if_overriden_by_trainer</th>\n",
       "      <th>decision</th>\n",
       "      <th>next_stage_suggested</th>\n",
       "    </tr>\n",
       "  </thead>\n",
       "  <tbody>\n",
       "    <tr>\n",
       "      <th>0</th>\n",
       "      <td>00000</td>\n",
       "      <td>2023-09-19</td>\n",
       "      <td>Coupled Baiting</td>\n",
       "      <td>1.0</td>\n",
       "      <td>1</td>\n",
       "      <td>Coupled Baiting</td>\n",
       "      <td>NaN</td>\n",
       "      <td>0.1</td>\n",
       "      <td>0.2</td>\n",
       "      <td>Coupled Baiting_curriculum_v0.1_schema_v0.2.json</td>\n",
       "      <td>0</td>\n",
       "      <td>NaN</td>\n",
       "      <td>{'finished_trials': [0], 'foraging_efficiency'...</td>\n",
       "      <td>STAGE_1</td>\n",
       "      <td>STAGE_1</td>\n",
       "      <td>False</td>\n",
       "      <td>False</td>\n",
       "      <td>STAY</td>\n",
       "      <td>STAGE_1</td>\n",
       "    </tr>\n",
       "    <tr>\n",
       "      <th>1</th>\n",
       "      <td>641733</td>\n",
       "      <td>2023-11-08</td>\n",
       "      <td>Coupled Baiting</td>\n",
       "      <td>1.0</td>\n",
       "      <td>1</td>\n",
       "      <td>Coupled Baiting</td>\n",
       "      <td>NaN</td>\n",
       "      <td>0.1</td>\n",
       "      <td>0.2</td>\n",
       "      <td>Coupled Baiting_curriculum_v0.1_schema_v0.2.json</td>\n",
       "      <td>0</td>\n",
       "      <td>NaN</td>\n",
       "      <td>{'finished_trials': [0], 'foraging_efficiency'...</td>\n",
       "      <td>STAGE_1</td>\n",
       "      <td>STAGE_1</td>\n",
       "      <td>False</td>\n",
       "      <td>False</td>\n",
       "      <td>STAY</td>\n",
       "      <td>STAGE_1</td>\n",
       "    </tr>\n",
       "    <tr>\n",
       "      <th>2</th>\n",
       "      <td>668463</td>\n",
       "      <td>2023-07-07</td>\n",
       "      <td>Coupled Baiting</td>\n",
       "      <td>1.0</td>\n",
       "      <td>1</td>\n",
       "      <td>Coupled Baiting</td>\n",
       "      <td>NaN</td>\n",
       "      <td>0.1</td>\n",
       "      <td>0.2</td>\n",
       "      <td>Coupled Baiting_curriculum_v0.1_schema_v0.2.json</td>\n",
       "      <td>601</td>\n",
       "      <td>0.459235</td>\n",
       "      <td>{'finished_trials': [601], 'foraging_efficienc...</td>\n",
       "      <td>STAGE_1</td>\n",
       "      <td>STAGE_1</td>\n",
       "      <td>False</td>\n",
       "      <td>False</td>\n",
       "      <td>STAY</td>\n",
       "      <td>STAGE_1</td>\n",
       "    </tr>\n",
       "    <tr>\n",
       "      <th>3</th>\n",
       "      <td>668463</td>\n",
       "      <td>2023-07-10</td>\n",
       "      <td>Coupled Baiting</td>\n",
       "      <td>2.0</td>\n",
       "      <td>2</td>\n",
       "      <td>Coupled Baiting</td>\n",
       "      <td>NaN</td>\n",
       "      <td>0.1</td>\n",
       "      <td>0.2</td>\n",
       "      <td>Coupled Baiting_curriculum_v0.1_schema_v0.2.json</td>\n",
       "      <td>849</td>\n",
       "      <td>0.679350</td>\n",
       "      <td>{'finished_trials': [601, 849], 'foraging_effi...</td>\n",
       "      <td>STAGE_1</td>\n",
       "      <td>STAGE_1</td>\n",
       "      <td>False</td>\n",
       "      <td>False</td>\n",
       "      <td>PROGRESS</td>\n",
       "      <td>STAGE_2</td>\n",
       "    </tr>\n",
       "    <tr>\n",
       "      <th>4</th>\n",
       "      <td>668463</td>\n",
       "      <td>2023-07-11</td>\n",
       "      <td>Coupled Baiting</td>\n",
       "      <td>3.0</td>\n",
       "      <td>1</td>\n",
       "      <td>Coupled Baiting</td>\n",
       "      <td>NaN</td>\n",
       "      <td>0.1</td>\n",
       "      <td>0.2</td>\n",
       "      <td>Coupled Baiting_curriculum_v0.1_schema_v0.2.json</td>\n",
       "      <td>857</td>\n",
       "      <td>0.610769</td>\n",
       "      <td>{'finished_trials': [601, 849, 857], 'foraging...</td>\n",
       "      <td>STAGE_2</td>\n",
       "      <td>STAGE_2</td>\n",
       "      <td>False</td>\n",
       "      <td>False</td>\n",
       "      <td>STAY</td>\n",
       "      <td>STAGE_2</td>\n",
       "    </tr>\n",
       "    <tr>\n",
       "      <th>...</th>\n",
       "      <td>...</td>\n",
       "      <td>...</td>\n",
       "      <td>...</td>\n",
       "      <td>...</td>\n",
       "      <td>...</td>\n",
       "      <td>...</td>\n",
       "      <td>...</td>\n",
       "      <td>...</td>\n",
       "      <td>...</td>\n",
       "      <td>...</td>\n",
       "      <td>...</td>\n",
       "      <td>...</td>\n",
       "      <td>...</td>\n",
       "      <td>...</td>\n",
       "      <td>...</td>\n",
       "      <td>...</td>\n",
       "      <td>...</td>\n",
       "      <td>...</td>\n",
       "      <td>...</td>\n",
       "    </tr>\n",
       "    <tr>\n",
       "      <th>316</th>\n",
       "      <td>699982</td>\n",
       "      <td>2023-12-11</td>\n",
       "      <td>Coupled Baiting</td>\n",
       "      <td>20.0</td>\n",
       "      <td>1</td>\n",
       "      <td>Coupled Baiting</td>\n",
       "      <td>NaN</td>\n",
       "      <td>0.2</td>\n",
       "      <td>0.2</td>\n",
       "      <td>Coupled Baiting_curriculum_v0.2_schema_v0.2.json</td>\n",
       "      <td>507</td>\n",
       "      <td>0.778437</td>\n",
       "      <td>{'finished_trials': [119, 246, 221, 128, 289, ...</td>\n",
       "      <td>STAGE_3</td>\n",
       "      <td>STAGE_1</td>\n",
       "      <td>True</td>\n",
       "      <td>True</td>\n",
       "      <td>PROGRESS</td>\n",
       "      <td>STAGE_2</td>\n",
       "    </tr>\n",
       "    <tr>\n",
       "      <th>317</th>\n",
       "      <td>699982</td>\n",
       "      <td>2023-12-12</td>\n",
       "      <td>Coupled Baiting</td>\n",
       "      <td>21.0</td>\n",
       "      <td>1</td>\n",
       "      <td>Coupled Baiting</td>\n",
       "      <td>NaN</td>\n",
       "      <td>0.2</td>\n",
       "      <td>0.2</td>\n",
       "      <td>Coupled Baiting_curriculum_v0.2_schema_v0.2.json</td>\n",
       "      <td>463</td>\n",
       "      <td>0.774388</td>\n",
       "      <td>{'finished_trials': [119, 246, 221, 128, 289, ...</td>\n",
       "      <td>STAGE_2</td>\n",
       "      <td>STAGE_2</td>\n",
       "      <td>True</td>\n",
       "      <td>False</td>\n",
       "      <td>PROGRESS</td>\n",
       "      <td>STAGE_3</td>\n",
       "    </tr>\n",
       "    <tr>\n",
       "      <th>318</th>\n",
       "      <td>699982</td>\n",
       "      <td>2023-12-13</td>\n",
       "      <td>Coupled Baiting</td>\n",
       "      <td>22.0</td>\n",
       "      <td>1</td>\n",
       "      <td>Coupled Baiting</td>\n",
       "      <td>NaN</td>\n",
       "      <td>0.2</td>\n",
       "      <td>0.2</td>\n",
       "      <td>Coupled Baiting_curriculum_v0.2_schema_v0.2.json</td>\n",
       "      <td>509</td>\n",
       "      <td>0.679956</td>\n",
       "      <td>{'finished_trials': [119, 246, 221, 128, 289, ...</td>\n",
       "      <td>STAGE_3</td>\n",
       "      <td>STAGE_FINAL</td>\n",
       "      <td>True</td>\n",
       "      <td>True</td>\n",
       "      <td>STAY</td>\n",
       "      <td>STAGE_FINAL</td>\n",
       "    </tr>\n",
       "    <tr>\n",
       "      <th>319</th>\n",
       "      <td>699982</td>\n",
       "      <td>2023-12-14</td>\n",
       "      <td>Coupled Baiting</td>\n",
       "      <td>23.0</td>\n",
       "      <td>1</td>\n",
       "      <td>Coupled Baiting</td>\n",
       "      <td>NaN</td>\n",
       "      <td>0.2</td>\n",
       "      <td>0.2</td>\n",
       "      <td>Coupled Baiting_curriculum_v0.2_schema_v0.2.json</td>\n",
       "      <td>564</td>\n",
       "      <td>0.786778</td>\n",
       "      <td>{'finished_trials': [119, 246, 221, 128, 289, ...</td>\n",
       "      <td>STAGE_FINAL</td>\n",
       "      <td>STAGE_3</td>\n",
       "      <td>True</td>\n",
       "      <td>True</td>\n",
       "      <td>PROGRESS</td>\n",
       "      <td>STAGE_FINAL</td>\n",
       "    </tr>\n",
       "    <tr>\n",
       "      <th>320</th>\n",
       "      <td>699982</td>\n",
       "      <td>2023-12-15</td>\n",
       "      <td>Coupled Baiting</td>\n",
       "      <td>24.0</td>\n",
       "      <td>2</td>\n",
       "      <td>Coupled Baiting</td>\n",
       "      <td>NaN</td>\n",
       "      <td>0.2</td>\n",
       "      <td>0.2</td>\n",
       "      <td>Coupled Baiting_curriculum_v0.2_schema_v0.2.json</td>\n",
       "      <td>466</td>\n",
       "      <td>0.747817</td>\n",
       "      <td>{'finished_trials': [119, 246, 221, 128, 289, ...</td>\n",
       "      <td>STAGE_FINAL</td>\n",
       "      <td>STAGE_3</td>\n",
       "      <td>True</td>\n",
       "      <td>True</td>\n",
       "      <td>PROGRESS</td>\n",
       "      <td>STAGE_FINAL</td>\n",
       "    </tr>\n",
       "  </tbody>\n",
       "</table>\n",
       "<p>321 rows × 19 columns</p>\n",
       "</div>"
      ],
      "text/plain": [
       "    subject_id session_date             task  session  \\\n",
       "0        00000   2023-09-19  Coupled Baiting      1.0   \n",
       "1       641733   2023-11-08  Coupled Baiting      1.0   \n",
       "2       668463   2023-07-07  Coupled Baiting      1.0   \n",
       "3       668463   2023-07-10  Coupled Baiting      2.0   \n",
       "4       668463   2023-07-11  Coupled Baiting      3.0   \n",
       "..         ...          ...              ...      ...   \n",
       "316     699982   2023-12-11  Coupled Baiting     20.0   \n",
       "317     699982   2023-12-12  Coupled Baiting     21.0   \n",
       "318     699982   2023-12-13  Coupled Baiting     22.0   \n",
       "319     699982   2023-12-14  Coupled Baiting     23.0   \n",
       "320     699982   2023-12-15  Coupled Baiting     24.0   \n",
       "\n",
       "    session_at_current_stage  curriculum_task task_schema_version  \\\n",
       "0                          1  Coupled Baiting                 NaN   \n",
       "1                          1  Coupled Baiting                 NaN   \n",
       "2                          1  Coupled Baiting                 NaN   \n",
       "3                          2  Coupled Baiting                 NaN   \n",
       "4                          1  Coupled Baiting                 NaN   \n",
       "..                       ...              ...                 ...   \n",
       "316                        1  Coupled Baiting                 NaN   \n",
       "317                        1  Coupled Baiting                 NaN   \n",
       "318                        1  Coupled Baiting                 NaN   \n",
       "319                        1  Coupled Baiting                 NaN   \n",
       "320                        2  Coupled Baiting                 NaN   \n",
       "\n",
       "    curriculum_version curriculum_schema_version  \\\n",
       "0                  0.1                       0.2   \n",
       "1                  0.1                       0.2   \n",
       "2                  0.1                       0.2   \n",
       "3                  0.1                       0.2   \n",
       "4                  0.1                       0.2   \n",
       "..                 ...                       ...   \n",
       "316                0.2                       0.2   \n",
       "317                0.2                       0.2   \n",
       "318                0.2                       0.2   \n",
       "319                0.2                       0.2   \n",
       "320                0.2                       0.2   \n",
       "\n",
       "                                 curriculum_json_name finished_trials  \\\n",
       "0    Coupled Baiting_curriculum_v0.1_schema_v0.2.json               0   \n",
       "1    Coupled Baiting_curriculum_v0.1_schema_v0.2.json               0   \n",
       "2    Coupled Baiting_curriculum_v0.1_schema_v0.2.json             601   \n",
       "3    Coupled Baiting_curriculum_v0.1_schema_v0.2.json             849   \n",
       "4    Coupled Baiting_curriculum_v0.1_schema_v0.2.json             857   \n",
       "..                                                ...             ...   \n",
       "316  Coupled Baiting_curriculum_v0.2_schema_v0.2.json             507   \n",
       "317  Coupled Baiting_curriculum_v0.2_schema_v0.2.json             463   \n",
       "318  Coupled Baiting_curriculum_v0.2_schema_v0.2.json             509   \n",
       "319  Coupled Baiting_curriculum_v0.2_schema_v0.2.json             564   \n",
       "320  Coupled Baiting_curriculum_v0.2_schema_v0.2.json             466   \n",
       "\n",
       "     foraging_efficiency                                            metrics  \\\n",
       "0                    NaN  {'finished_trials': [0], 'foraging_efficiency'...   \n",
       "1                    NaN  {'finished_trials': [0], 'foraging_efficiency'...   \n",
       "2               0.459235  {'finished_trials': [601], 'foraging_efficienc...   \n",
       "3               0.679350  {'finished_trials': [601, 849], 'foraging_effi...   \n",
       "4               0.610769  {'finished_trials': [601, 849, 857], 'foraging...   \n",
       "..                   ...                                                ...   \n",
       "316             0.778437  {'finished_trials': [119, 246, 221, 128, 289, ...   \n",
       "317             0.774388  {'finished_trials': [119, 246, 221, 128, 289, ...   \n",
       "318             0.679956  {'finished_trials': [119, 246, 221, 128, 289, ...   \n",
       "319             0.786778  {'finished_trials': [119, 246, 221, 128, 289, ...   \n",
       "320             0.747817  {'finished_trials': [119, 246, 221, 128, 289, ...   \n",
       "\n",
       "    current_stage_suggested current_stage_actual if_closed_loop  \\\n",
       "0                   STAGE_1              STAGE_1          False   \n",
       "1                   STAGE_1              STAGE_1          False   \n",
       "2                   STAGE_1              STAGE_1          False   \n",
       "3                   STAGE_1              STAGE_1          False   \n",
       "4                   STAGE_2              STAGE_2          False   \n",
       "..                      ...                  ...            ...   \n",
       "316                 STAGE_3              STAGE_1           True   \n",
       "317                 STAGE_2              STAGE_2           True   \n",
       "318                 STAGE_3          STAGE_FINAL           True   \n",
       "319             STAGE_FINAL              STAGE_3           True   \n",
       "320             STAGE_FINAL              STAGE_3           True   \n",
       "\n",
       "    if_overriden_by_trainer  decision next_stage_suggested  \n",
       "0                     False      STAY              STAGE_1  \n",
       "1                     False      STAY              STAGE_1  \n",
       "2                     False      STAY              STAGE_1  \n",
       "3                     False  PROGRESS              STAGE_2  \n",
       "4                     False      STAY              STAGE_2  \n",
       "..                      ...       ...                  ...  \n",
       "316                    True  PROGRESS              STAGE_2  \n",
       "317                   False  PROGRESS              STAGE_3  \n",
       "318                    True      STAY          STAGE_FINAL  \n",
       "319                    True  PROGRESS          STAGE_FINAL  \n",
       "320                    True  PROGRESS          STAGE_FINAL  \n",
       "\n",
       "[321 rows x 19 columns]"
      ]
     },
     "execution_count": 5,
     "metadata": {},
     "output_type": "execute_result"
    }
   ],
   "source": [
    "demo_manager_447.df_manager"
   ]
  },
  {
   "cell_type": "code",
   "execution_count": 6,
   "metadata": {},
   "outputs": [
    {
     "data": {
      "application/vnd.plotly.v1+json": {
       "config": {
        "plotlyServerURL": "https://plot.ly"
       },
       "data": [
        {
         "customdata": [
          [
           24,
           "2023-12-15",
           "Coupled Baiting",
           "0.2",
           "STAGE_FINAL",
           "STAGE_3",
           "Coupled Baiting",
           0.748,
           466,
           "PROGRESS",
           "STAGE_FINAL"
          ],
          [
           23,
           "2023-12-14",
           "Coupled Baiting",
           "0.2",
           "STAGE_FINAL",
           "STAGE_3",
           "Coupled Baiting",
           0.787,
           564,
           "PROGRESS",
           "STAGE_FINAL"
          ],
          [
           22,
           "2023-12-13",
           "Coupled Baiting",
           "0.2",
           "STAGE_3",
           "STAGE_FINAL",
           "Coupled Baiting",
           0.68,
           509,
           "STAY",
           "STAGE_FINAL"
          ],
          [
           21,
           "2023-12-12",
           "Coupled Baiting",
           "0.2",
           "STAGE_2",
           "STAGE_2",
           "Coupled Baiting",
           0.774,
           463,
           "PROGRESS",
           "STAGE_3"
          ],
          [
           20,
           "2023-12-11",
           "Coupled Baiting",
           "0.2",
           "STAGE_3",
           "STAGE_1",
           "Coupled Baiting",
           0.778,
           507,
           "PROGRESS",
           "STAGE_2"
          ],
          [
           19,
           "2023-12-08",
           "Coupled Baiting",
           "0.2",
           "STAGE_2",
           "STAGE_2",
           "Coupled Baiting",
           0.94,
           329,
           "PROGRESS",
           "STAGE_3"
          ],
          [
           18,
           "2023-12-07",
           "Coupled Baiting",
           "0.2",
           "STAGE_FINAL",
           "STAGE_1",
           "Coupled Baiting",
           1.044,
           329,
           "PROGRESS",
           "STAGE_2"
          ],
          [
           17,
           "2023-12-05",
           "Coupled Baiting",
           "0.2",
           "STAGE_2",
           "STAGE_3",
           "Coupled Baiting",
           0.902,
           510,
           "PROGRESS",
           "STAGE_FINAL"
          ],
          [
           16,
           "2023-12-04",
           "Coupled Baiting",
           "0.2",
           "STAGE_FINAL",
           "STAGE_1",
           "Coupled Baiting",
           0.824,
           466,
           "PROGRESS",
           "STAGE_2"
          ],
          [
           15,
           "2023-12-01",
           "Coupled Baiting",
           "0.2",
           "STAGE_2",
           "STAGE_FINAL",
           "Coupled Baiting",
           0.753,
           455,
           "STAY",
           "STAGE_FINAL"
          ],
          [
           14,
           "2023-11-30",
           "Coupled Baiting",
           "0.2",
           "STAGE_3",
           "STAGE_1",
           "Coupled Baiting",
           1.011,
           420,
           "PROGRESS",
           "STAGE_2"
          ],
          [
           13,
           "2023-11-29",
           "Coupled Baiting",
           "0.2",
           "STAGE_2",
           "STAGE_3",
           "Coupled Baiting",
           0.826,
           395,
           "STAY",
           "STAGE_3"
          ],
          [
           12,
           "2023-11-27",
           "Coupled Baiting",
           "0.2",
           "STAGE_3",
           "STAGE_1",
           "Coupled Baiting",
           0.97,
           321,
           "PROGRESS",
           "STAGE_2"
          ],
          [
           11,
           "2023-11-22",
           "Coupled Baiting",
           "0.2",
           "STAGE_FINAL",
           "STAGE_3",
           "Coupled Baiting",
           0.906,
           393,
           "STAY",
           "STAGE_3"
          ],
          [
           10,
           "2023-11-21",
           "Coupled Baiting",
           "0.2",
           "STAGE_2",
           "STAGE_3",
           "Coupled Baiting",
           0.791,
           435,
           "PROGRESS",
           "STAGE_FINAL"
          ],
          [
           9,
           "2023-11-20",
           "Coupled Baiting",
           "0.2",
           "STAGE_2",
           "STAGE_1",
           "Coupled Baiting",
           0.761,
           375,
           "PROGRESS",
           "STAGE_2"
          ],
          [
           8,
           "2023-11-15",
           "Coupled Baiting",
           "0.2",
           "STAGE_3",
           "STAGE_1",
           "Coupled Baiting",
           0.878,
           392,
           "PROGRESS",
           "STAGE_2"
          ],
          [
           7,
           "2023-11-14",
           "Coupled Baiting",
           "0.2",
           "STAGE_FINAL",
           "STAGE_2",
           "Coupled Baiting",
           0.826,
           487,
           "PROGRESS",
           "STAGE_3"
          ],
          [
           6,
           "2023-11-13",
           "Coupled Baiting",
           "0.2",
           "STAGE_2",
           "STAGE_FINAL",
           "Coupled Baiting",
           0.74,
           528,
           "STAY",
           "STAGE_FINAL"
          ],
          [
           5,
           "2023-11-10",
           "Coupled Baiting",
           "0.2",
           "STAGE_3",
           "STAGE_1",
           "Coupled Baiting",
           0.852,
           289,
           "PROGRESS",
           "STAGE_2"
          ],
          [
           4,
           "2023-11-09",
           "Coupled Baiting",
           "0.2",
           "STAGE_2",
           "STAGE_FINAL",
           "Coupled Baiting",
           0.623,
           128,
           "ROLLBACK",
           "STAGE_3"
          ],
          [
           3,
           "2023-11-08",
           "Coupled Baiting",
           "0.2",
           "STAGE_2",
           "STAGE_1",
           "Coupled Baiting",
           0.927,
           221,
           "PROGRESS",
           "STAGE_2"
          ],
          [
           2,
           "2023-11-07",
           "Coupled Baiting",
           "0.2",
           "STAGE_2",
           "STAGE_1",
           "Coupled Baiting",
           0.689,
           246,
           "PROGRESS",
           "STAGE_2"
          ],
          [
           1,
           "2023-11-06",
           "Coupled Baiting",
           "0.2",
           "STAGE_1",
           "STAGE_3",
           "Coupled Baiting",
           0,
           119,
           "ROLLBACK",
           "STAGE_2"
          ]
         ],
         "hovertemplate": "<b>Subject 699982 (None)</b><br><b>Session %{customdata[0]}, %{customdata[1]}</b><br>Curriculum: <b>%{customdata[2]}_v%{customdata[3]}</b><br>Suggested: <b>%{customdata[4]}</b><br>Actual: <b>%{customdata[5]}</b><br>Session task: <b>%{customdata[6]}</b><br>foraging_eff = %{customdata[7]}<br>finished_trials = %{customdata[8]}<br>Decision = <b>%{customdata[9]}</b><br>Next suggested: <b>%{customdata[10]}</b><extra></extra>",
         "marker": {
          "color": [
           "yellow",
           "yellow",
           "lightgreen",
           "orange",
           "red",
           "orange",
           "red",
           "yellow",
           "red",
           "lightgreen",
           "red",
           "yellow",
           "red",
           "yellow",
           "yellow",
           "red",
           "red",
           "orange",
           "lightgreen",
           "red",
           "lightgreen",
           "red",
           "red",
           "yellow"
          ],
          "line": {
           "color": [
            "lightgreen",
            "lightgreen",
            "yellow",
            "orange",
            "yellow",
            "orange",
            "lightgreen",
            "orange",
            "lightgreen",
            "orange",
            "yellow",
            "orange",
            "yellow",
            "lightgreen",
            "orange",
            "orange",
            "yellow",
            "lightgreen",
            "orange",
            "yellow",
            "orange",
            "orange",
            "orange",
            "red"
           ],
           "width": 2
          },
          "size": 10
         },
         "mode": "markers",
         "name": "Mouse 699982",
         "showlegend": false,
         "type": "scattergl",
         "x": [
          24,
          23,
          22,
          21,
          20,
          19,
          18,
          17,
          16,
          15,
          14,
          13,
          12,
          11,
          10,
          9,
          8,
          7,
          6,
          5,
          4,
          3,
          2,
          1
         ],
         "y": [
          0,
          0,
          0,
          0,
          0,
          0,
          0,
          0,
          0,
          0,
          0,
          0,
          0,
          0,
          0,
          0,
          0,
          0,
          0,
          0,
          0,
          0,
          0,
          0
         ]
        },
        {
         "marker": {
          "color": "black",
          "line": {
           "width": 1
          },
          "size": 5,
          "symbol": "x-thin"
         },
         "mode": "markers",
         "showlegend": false,
         "type": "scattergl",
         "x": [],
         "y": []
        },
        {
         "customdata": [
          [
           3,
           "2023-10-20",
           "Coupled Baiting",
           "0.2",
           "STAGE_3",
           "STAGE_1",
           "Coupled Baiting",
           0.74,
           145,
           "STAY",
           "STAGE_1"
          ],
          [
           2,
           "2023-10-19",
           "Coupled Baiting",
           "0.2",
           "STAGE_1",
           "STAGE_FINAL",
           "Coupled Baiting",
           0.629,
           156,
           "ROLLBACK",
           "STAGE_3"
          ],
          [
           1,
           "2023-10-18",
           "Coupled Baiting",
           "0.2",
           "STAGE_1",
           "STAGE_1",
           "Coupled Baiting",
           0,
           69,
           "STAY",
           "STAGE_1"
          ]
         ],
         "hovertemplate": "<b>Subject 699979 (None)</b><br><b>Session %{customdata[0]}, %{customdata[1]}</b><br>Curriculum: <b>%{customdata[2]}_v%{customdata[3]}</b><br>Suggested: <b>%{customdata[4]}</b><br>Actual: <b>%{customdata[5]}</b><br>Session task: <b>%{customdata[6]}</b><br>foraging_eff = %{customdata[7]}<br>finished_trials = %{customdata[8]}<br>Decision = <b>%{customdata[9]}</b><br>Next suggested: <b>%{customdata[10]}</b><extra></extra>",
         "marker": {
          "color": [
           "red",
           "lightgreen",
           "red"
          ],
          "line": {
           "color": [
            "yellow",
            "red",
            "red"
           ],
           "width": 2
          },
          "size": 10
         },
         "mode": "markers",
         "name": "Mouse 699979",
         "showlegend": false,
         "type": "scattergl",
         "x": [
          3,
          2,
          1
         ],
         "y": [
          1,
          1,
          1
         ]
        },
        {
         "marker": {
          "color": "black",
          "line": {
           "width": 1
          },
          "size": 5,
          "symbol": "x-thin"
         },
         "mode": "markers",
         "showlegend": false,
         "type": "scattergl",
         "x": [],
         "y": []
        },
        {
         "customdata": [
          [
           16,
           "2023-12-15",
           "Coupled Baiting",
           "0.2",
           "STAGE_2",
           "STAGE_2",
           "Coupled Baiting",
           0.797,
           637,
           "PROGRESS",
           "STAGE_3"
          ],
          [
           15,
           "2023-12-14",
           "Coupled Baiting",
           "0.2",
           "STAGE_3",
           "STAGE_1",
           "Coupled Baiting",
           0.764,
           605,
           "PROGRESS",
           "STAGE_2"
          ],
          [
           14,
           "2023-12-11",
           "Coupled Baiting",
           "0.2",
           "STAGE_2",
           "STAGE_2",
           "Coupled Baiting",
           0.909,
           562,
           "PROGRESS",
           "STAGE_3"
          ],
          [
           13,
           "2023-12-08",
           "Coupled Baiting",
           "0.2",
           "STAGE_2",
           "STAGE_1",
           "Coupled Baiting",
           0.802,
           546,
           "PROGRESS",
           "STAGE_2"
          ],
          [
           12,
           "2023-12-07",
           "Coupled Baiting",
           "0.2",
           "STAGE_FINAL",
           "STAGE_1",
           "Coupled Baiting",
           0.823,
           550,
           "PROGRESS",
           "STAGE_2"
          ],
          [
           11,
           "2023-12-06",
           "Coupled Baiting",
           "0.2",
           "STAGE_FINAL",
           "STAGE_FINAL",
           "Coupled Baiting",
           0.754,
           518,
           "STAY",
           "STAGE_FINAL"
          ],
          [
           10,
           "2023-12-04",
           "Coupled Baiting",
           "0.2",
           "STAGE_2",
           "STAGE_FINAL",
           "Coupled Baiting",
           0.794,
           558,
           "STAY",
           "STAGE_FINAL"
          ],
          [
           9,
           "2023-12-01",
           "Coupled Baiting",
           "0.2",
           "STAGE_2",
           "STAGE_1",
           "Coupled Baiting",
           0.679,
           459,
           "PROGRESS",
           "STAGE_2"
          ],
          [
           8,
           "2023-11-30",
           "Coupled Baiting",
           "0.2",
           "STAGE_FINAL",
           "STAGE_1",
           "Coupled Baiting",
           0.756,
           548,
           "PROGRESS",
           "STAGE_2"
          ],
          [
           7,
           "2023-11-29",
           "Coupled Baiting",
           "0.2",
           "STAGE_3",
           "STAGE_FINAL",
           "Coupled Baiting",
           0.933,
           465,
           "STAY",
           "STAGE_FINAL"
          ],
          [
           6,
           "2023-11-22",
           "Coupled Baiting",
           "0.2",
           "STAGE_FINAL",
           "STAGE_2",
           "Coupled Baiting",
           0.811,
           509,
           "PROGRESS",
           "STAGE_3"
          ],
          [
           5,
           "2023-11-20",
           "Coupled Baiting",
           "0.2",
           "STAGE_FINAL",
           "STAGE_FINAL",
           "Coupled Baiting",
           0.806,
           426,
           "STAY",
           "STAGE_FINAL"
          ],
          [
           4,
           "2023-11-17",
           "Coupled Baiting",
           "0.2",
           "STAGE_3",
           "STAGE_FINAL",
           "Coupled Baiting",
           0.737,
           507,
           "STAY",
           "STAGE_FINAL"
          ],
          [
           3,
           "2023-11-16",
           "Coupled Baiting",
           "0.2",
           "STAGE_2",
           "STAGE_3",
           "Coupled Baiting",
           0.694,
           428,
           "STAY",
           "STAGE_3"
          ],
          [
           2,
           "2023-11-15",
           "Coupled Baiting",
           "0.2",
           "STAGE_1",
           "STAGE_2",
           "Coupled Baiting",
           0.7,
           209,
           "STAY",
           "STAGE_2"
          ],
          [
           1,
           "2023-11-14",
           "Coupled Baiting",
           "0.2",
           "STAGE_1",
           "STAGE_1",
           "Coupled Baiting",
           0.066,
           246,
           "STAY",
           "STAGE_1"
          ]
         ],
         "hovertemplate": "<b>Subject 697062 (None)</b><br><b>Session %{customdata[0]}, %{customdata[1]}</b><br>Curriculum: <b>%{customdata[2]}_v%{customdata[3]}</b><br>Suggested: <b>%{customdata[4]}</b><br>Actual: <b>%{customdata[5]}</b><br>Session task: <b>%{customdata[6]}</b><br>foraging_eff = %{customdata[7]}<br>finished_trials = %{customdata[8]}<br>Decision = <b>%{customdata[9]}</b><br>Next suggested: <b>%{customdata[10]}</b><extra></extra>",
         "marker": {
          "color": [
           "orange",
           "red",
           "orange",
           "red",
           "red",
           "lightgreen",
           "lightgreen",
           "red",
           "red",
           "lightgreen",
           "orange",
           "lightgreen",
           "lightgreen",
           "yellow",
           "orange",
           "red"
          ],
          "line": {
           "color": [
            "orange",
            "yellow",
            "orange",
            "orange",
            "lightgreen",
            "lightgreen",
            "orange",
            "orange",
            "lightgreen",
            "yellow",
            "lightgreen",
            "lightgreen",
            "yellow",
            "orange",
            "red",
            "red"
           ],
           "width": 2
          },
          "size": 10
         },
         "mode": "markers",
         "name": "Mouse 697062",
         "showlegend": false,
         "type": "scattergl",
         "x": [
          16,
          15,
          14,
          13,
          12,
          11,
          10,
          9,
          8,
          7,
          6,
          5,
          4,
          3,
          2,
          1
         ],
         "y": [
          2,
          2,
          2,
          2,
          2,
          2,
          2,
          2,
          2,
          2,
          2,
          2,
          2,
          2,
          2,
          2
         ]
        },
        {
         "marker": {
          "color": "black",
          "line": {
           "width": 1
          },
          "size": 5,
          "symbol": "x-thin"
         },
         "mode": "markers",
         "showlegend": false,
         "type": "scattergl",
         "x": [],
         "y": []
        },
        {
         "customdata": [
          [
           14,
           "2023-12-08",
           "Coupled Baiting",
           "0.2",
           "STAGE_FINAL",
           "STAGE_1",
           "Coupled Baiting",
           0.8,
           614,
           "PROGRESS",
           "STAGE_2"
          ],
          [
           13,
           "2023-12-07",
           "Coupled Baiting",
           "0.2",
           "STAGE_2",
           "STAGE_3",
           "Coupled Baiting",
           0.731,
           629,
           "PROGRESS",
           "STAGE_FINAL"
          ],
          [
           12,
           "2023-12-06",
           "Coupled Baiting",
           "0.2",
           "STAGE_FINAL",
           "STAGE_1",
           "Coupled Baiting",
           0.757,
           602,
           "PROGRESS",
           "STAGE_2"
          ],
          [
           11,
           "2023-12-04",
           "Coupled Baiting",
           "0.2",
           "STAGE_FINAL",
           "STAGE_FINAL",
           "Coupled Baiting",
           0.7,
           618,
           "STAY",
           "STAGE_FINAL"
          ],
          [
           10,
           "2023-12-01",
           "Coupled Baiting",
           "0.2",
           "STAGE_FINAL",
           "STAGE_3",
           "Coupled Baiting",
           0.742,
           608,
           "PROGRESS",
           "STAGE_FINAL"
          ],
          [
           9,
           "2023-11-30",
           "Coupled Baiting",
           "0.2",
           "STAGE_FINAL",
           "STAGE_3",
           "Coupled Baiting",
           0.725,
           584,
           "PROGRESS",
           "STAGE_FINAL"
          ],
          [
           8,
           "2023-11-29",
           "Coupled Baiting",
           "0.2",
           "STAGE_FINAL",
           "STAGE_FINAL",
           "Coupled Baiting",
           0.745,
           565,
           "STAY",
           "STAGE_FINAL"
          ],
          [
           7,
           "2023-11-22",
           "Coupled Baiting",
           "0.2",
           "STAGE_2",
           "STAGE_3",
           "Coupled Baiting",
           0.935,
           515,
           "PROGRESS",
           "STAGE_FINAL"
          ],
          [
           6,
           "2023-11-20",
           "Coupled Baiting",
           "0.2",
           "STAGE_2",
           "STAGE_1",
           "Coupled Baiting",
           0.742,
           480,
           "PROGRESS",
           "STAGE_2"
          ],
          [
           5,
           "2023-11-17",
           "Coupled Baiting",
           "0.2",
           "STAGE_2",
           "STAGE_1",
           "Coupled Baiting",
           0.705,
           589,
           "PROGRESS",
           "STAGE_2"
          ],
          [
           4,
           "2023-11-16",
           "Coupled Baiting",
           "0.2",
           "STAGE_3",
           "STAGE_1",
           "Coupled Baiting",
           0.736,
           428,
           "PROGRESS",
           "STAGE_2"
          ],
          [
           3,
           "2023-11-15",
           "Coupled Baiting",
           "0.2",
           "STAGE_3",
           "STAGE_FINAL",
           "Coupled Baiting",
           0.76,
           268,
           "ROLLBACK",
           "STAGE_3"
          ],
          [
           2,
           "2023-11-14",
           "Coupled Baiting",
           "0.2",
           "STAGE_1",
           "STAGE_FINAL",
           "Coupled Baiting",
           0.616,
           288,
           "ROLLBACK",
           "STAGE_3"
          ],
          [
           1,
           "2023-11-13",
           "Coupled Baiting",
           "0.2",
           "STAGE_1",
           "STAGE_2",
           "Coupled Baiting",
           0.303,
           259,
           "ROLLBACK",
           "STAGE_1"
          ]
         ],
         "hovertemplate": "<b>Subject 694688 (None)</b><br><b>Session %{customdata[0]}, %{customdata[1]}</b><br>Curriculum: <b>%{customdata[2]}_v%{customdata[3]}</b><br>Suggested: <b>%{customdata[4]}</b><br>Actual: <b>%{customdata[5]}</b><br>Session task: <b>%{customdata[6]}</b><br>foraging_eff = %{customdata[7]}<br>finished_trials = %{customdata[8]}<br>Decision = <b>%{customdata[9]}</b><br>Next suggested: <b>%{customdata[10]}</b><extra></extra>",
         "marker": {
          "color": [
           "red",
           "yellow",
           "red",
           "lightgreen",
           "yellow",
           "yellow",
           "lightgreen",
           "yellow",
           "red",
           "red",
           "red",
           "lightgreen",
           "lightgreen",
           "orange"
          ],
          "line": {
           "color": [
            "lightgreen",
            "orange",
            "lightgreen",
            "lightgreen",
            "lightgreen",
            "lightgreen",
            "lightgreen",
            "orange",
            "orange",
            "orange",
            "yellow",
            "yellow",
            "red",
            "red"
           ],
           "width": 2
          },
          "size": 10
         },
         "mode": "markers",
         "name": "Mouse 694688",
         "showlegend": false,
         "type": "scattergl",
         "x": [
          14,
          13,
          12,
          11,
          10,
          9,
          8,
          7,
          6,
          5,
          4,
          3,
          2,
          1
         ],
         "y": [
          3,
          3,
          3,
          3,
          3,
          3,
          3,
          3,
          3,
          3,
          3,
          3,
          3,
          3
         ]
        },
        {
         "marker": {
          "color": "black",
          "line": {
           "width": 1
          },
          "size": 5,
          "symbol": "x-thin"
         },
         "mode": "markers",
         "showlegend": false,
         "type": "scattergl",
         "x": [],
         "y": []
        },
        {
         "customdata": [
          [
           45,
           "2023-12-15",
           "Coupled Baiting",
           "0.2",
           "STAGE_FINAL",
           "STAGE_1",
           "Coupled Baiting",
           1.019,
           379,
           "PROGRESS",
           "STAGE_2"
          ],
          [
           44,
           "2023-12-14",
           "Coupled Baiting",
           "0.2",
           "STAGE_2",
           "STAGE_3",
           "Coupled Baiting",
           0.834,
           698,
           "PROGRESS",
           "STAGE_FINAL"
          ],
          [
           43,
           "2023-12-13",
           "Coupled Baiting",
           "0.2",
           "STAGE_2",
           "STAGE_1",
           "Coupled Baiting",
           0.909,
           676,
           "PROGRESS",
           "STAGE_2"
          ],
          [
           42,
           "2023-12-12",
           "Coupled Baiting",
           "0.2",
           "STAGE_2",
           "STAGE_1",
           "Coupled Baiting",
           0.89,
           656,
           "PROGRESS",
           "STAGE_2"
          ],
          [
           41,
           "2023-12-11",
           "Coupled Baiting",
           "0.2",
           "STAGE_2",
           "STAGE_1",
           "Coupled Baiting",
           0.878,
           605,
           "PROGRESS",
           "STAGE_2"
          ],
          [
           40,
           "2023-12-08",
           "Coupled Baiting",
           "0.2",
           "STAGE_2",
           "STAGE_1",
           "Coupled Baiting",
           0.82,
           501,
           "PROGRESS",
           "STAGE_2"
          ],
          [
           39,
           "2023-12-07",
           "Coupled Baiting",
           "0.2",
           "STAGE_2",
           "STAGE_1",
           "Coupled Baiting",
           0.842,
           557,
           "PROGRESS",
           "STAGE_2"
          ],
          [
           38,
           "2023-12-05",
           "Coupled Baiting",
           "0.2",
           "STAGE_FINAL",
           "STAGE_1",
           "Coupled Baiting",
           0.778,
           679,
           "PROGRESS",
           "STAGE_2"
          ],
          [
           37,
           "2023-12-04",
           "Coupled Baiting",
           "0.2",
           "STAGE_3",
           "STAGE_3",
           "Coupled Baiting",
           0.783,
           614,
           "PROGRESS",
           "STAGE_FINAL"
          ],
          [
           36,
           "2023-12-01",
           "Coupled Baiting",
           "0.2",
           "STAGE_2",
           "STAGE_2",
           "Coupled Baiting",
           0.766,
           626,
           "PROGRESS",
           "STAGE_3"
          ],
          [
           35,
           "2023-11-30",
           "Coupled Baiting",
           "0.2",
           "STAGE_FINAL",
           "STAGE_1",
           "Coupled Baiting",
           0.907,
           565,
           "PROGRESS",
           "STAGE_2"
          ],
          [
           34,
           "2023-11-29",
           "Coupled Baiting",
           "0.2",
           "STAGE_2",
           "STAGE_3",
           "Coupled Baiting",
           0.727,
           649,
           "PROGRESS",
           "STAGE_FINAL"
          ],
          [
           33,
           "2023-11-28",
           "Coupled Baiting",
           "0.2",
           "STAGE_FINAL",
           "STAGE_1",
           "Coupled Baiting",
           0.625,
           610,
           "PROGRESS",
           "STAGE_2"
          ],
          [
           32,
           "2023-11-22",
           "Coupled Baiting",
           "0.2",
           "STAGE_FINAL",
           "STAGE_FINAL",
           "Coupled Baiting",
           0.703,
           601,
           "STAY",
           "STAGE_FINAL"
          ],
          [
           31,
           "2023-11-21",
           "Coupled Baiting",
           "0.2",
           "STAGE_FINAL",
           "STAGE_3",
           "Coupled Baiting",
           0.749,
           614,
           "PROGRESS",
           "STAGE_FINAL"
          ],
          [
           30,
           "2023-11-20",
           "Coupled Baiting",
           "0.2",
           "STAGE_2",
           "STAGE_3",
           "Coupled Baiting",
           0.808,
           575,
           "PROGRESS",
           "STAGE_FINAL"
          ],
          [
           29,
           "2023-11-17",
           "Coupled Baiting",
           "0.2",
           "STAGE_3",
           "STAGE_1",
           "Coupled Baiting",
           0.616,
           635,
           "PROGRESS",
           "STAGE_2"
          ],
          [
           28,
           "2023-11-16",
           "Coupled Baiting",
           "0.2",
           "STAGE_3",
           "STAGE_2",
           "Coupled Baiting",
           0.676,
           631,
           "PROGRESS",
           "STAGE_3"
          ],
          [
           27,
           "2023-11-15",
           "Coupled Baiting",
           "0.2",
           "STAGE_3",
           "STAGE_2",
           "Coupled Baiting",
           0.805,
           618,
           "PROGRESS",
           "STAGE_3"
          ],
          [
           26,
           "2023-11-14",
           "Coupled Baiting",
           "0.2",
           "STAGE_FINAL",
           "STAGE_2",
           "Coupled Baiting",
           0.742,
           550,
           "PROGRESS",
           "STAGE_3"
          ],
          [
           25,
           "2023-11-13",
           "Coupled Baiting",
           "0.2",
           "STAGE_2",
           "STAGE_3",
           "Coupled Baiting",
           0.868,
           603,
           "PROGRESS",
           "STAGE_FINAL"
          ],
          [
           24,
           "2023-11-10",
           "Coupled Baiting",
           "0.2",
           "STAGE_2",
           "STAGE_1",
           "Coupled Baiting",
           0.68,
           617,
           "PROGRESS",
           "STAGE_2"
          ],
          [
           23,
           "2023-11-09",
           "Coupled Baiting",
           "0.2",
           "STAGE_FINAL",
           "STAGE_1",
           "Coupled Baiting",
           0.739,
           558,
           "PROGRESS",
           "STAGE_2"
          ],
          [
           22,
           "2023-11-08",
           "Coupled Baiting",
           "0.2",
           "STAGE_3",
           "STAGE_FINAL",
           "Coupled Baiting",
           0.77,
           386,
           "STAY",
           "STAGE_FINAL"
          ],
          [
           21,
           "2023-11-07",
           "Coupled Baiting",
           "0.2",
           "STAGE_3",
           "STAGE_2",
           "Coupled Baiting",
           0.691,
           529,
           "PROGRESS",
           "STAGE_3"
          ],
          [
           20,
           "2023-11-06",
           "Coupled Baiting",
           "0.2",
           "STAGE_2",
           "STAGE_3",
           "Coupled Baiting",
           0.678,
           494,
           "STAY",
           "STAGE_3"
          ],
          [
           19,
           "2023-11-03",
           "Coupled Baiting",
           "0.2",
           "STAGE_1",
           "STAGE_3",
           "Coupled Baiting",
           null,
           0,
           "ROLLBACK",
           "STAGE_2"
          ],
          [
           18,
           "2023-11-02",
           "Coupled Baiting",
           "0.2",
           "STAGE_2",
           "STAGE_1",
           "Coupled Baiting",
           0.522,
           492,
           "STAY",
           "STAGE_1"
          ],
          [
           17,
           "2023-11-01",
           "Coupled Baiting",
           "0.2",
           "STAGE_2",
           "STAGE_2",
           "Coupled Baiting",
           0.592,
           470,
           "STAY",
           "STAGE_2"
          ],
          [
           16,
           "2023-10-30",
           "Coupled Baiting",
           "0.2",
           "STAGE_2",
           "STAGE_1",
           "Coupled Baiting",
           0.672,
           428,
           "PROGRESS",
           "STAGE_2"
          ],
          [
           15,
           "2023-10-27",
           "Coupled Baiting",
           "0.2",
           "STAGE_3",
           "STAGE_1",
           "Coupled Baiting",
           0.833,
           515,
           "PROGRESS",
           "STAGE_2"
          ],
          [
           14,
           "2023-10-26",
           "Coupled Baiting",
           "0.2",
           "STAGE_3",
           "STAGE_3",
           "Coupled Baiting",
           0.755,
           387,
           "STAY",
           "STAGE_3"
          ],
          [
           13,
           "2023-10-25",
           "Coupled Baiting",
           "0.2",
           "STAGE_2",
           "STAGE_FINAL",
           "Coupled Baiting",
           0.842,
           14,
           "ROLLBACK",
           "STAGE_3"
          ],
          [
           12,
           "2023-10-23",
           "Coupled Baiting",
           "0.2",
           "STAGE_2",
           "STAGE_1",
           "Coupled Baiting",
           0.781,
           341,
           "PROGRESS",
           "STAGE_2"
          ],
          [
           11,
           "2023-10-20",
           "Coupled Baiting",
           "0.2",
           "STAGE_2",
           "STAGE_1",
           "Coupled Baiting",
           0.681,
           519,
           "PROGRESS",
           "STAGE_2"
          ],
          [
           10,
           "2023-10-19",
           "Coupled Baiting",
           "0.2",
           "STAGE_FINAL",
           "STAGE_1",
           "Coupled Baiting",
           0.86,
           445,
           "PROGRESS",
           "STAGE_2"
          ],
          [
           9,
           "2023-10-18",
           "Coupled Baiting",
           "0.2",
           "STAGE_FINAL",
           "STAGE_3",
           "Coupled Baiting",
           0.747,
           462,
           "PROGRESS",
           "STAGE_FINAL"
          ],
          [
           8,
           "2023-10-16",
           "Coupled Baiting",
           "0.2",
           "STAGE_FINAL",
           "STAGE_FINAL",
           "Coupled Baiting",
           0.81,
           344,
           "STAY",
           "STAGE_FINAL"
          ],
          [
           7,
           "2023-10-13",
           "Coupled Baiting",
           "0.2",
           "STAGE_3",
           "STAGE_3",
           "Coupled Baiting",
           0.858,
           484,
           "PROGRESS",
           "STAGE_FINAL"
          ],
          [
           6,
           "2023-10-12",
           "Coupled Baiting",
           "0.2",
           "STAGE_2",
           "STAGE_3",
           "Coupled Baiting",
           0.752,
           322,
           "STAY",
           "STAGE_3"
          ],
          [
           5,
           "2023-10-11",
           "Coupled Baiting",
           "0.2",
           "STAGE_3",
           "STAGE_1",
           "Coupled Baiting",
           0.603,
           347,
           "PROGRESS",
           "STAGE_2"
          ],
          [
           4,
           "2023-10-09",
           "Coupled Baiting",
           "0.2",
           "STAGE_1",
           "STAGE_3",
           "Coupled Baiting",
           0.62,
           238,
           "STAY",
           "STAGE_3"
          ],
          [
           3,
           "2023-10-06",
           "Coupled Baiting",
           "0.2",
           "STAGE_1",
           "STAGE_1",
           "Coupled Baiting",
           0.393,
           264,
           "STAY",
           "STAGE_1"
          ],
          [
           2,
           "2023-10-05",
           "Coupled Baiting",
           "0.2",
           "STAGE_1",
           "STAGE_1",
           "Coupled Baiting",
           0.384,
           215,
           "STAY",
           "STAGE_1"
          ],
          [
           1,
           "2023-10-04",
           "Coupled Baiting",
           "0.2",
           "STAGE_1",
           "STAGE_1",
           "Coupled Baiting",
           0,
           161,
           "STAY",
           "STAGE_1"
          ]
         ],
         "hovertemplate": "<b>Subject 689799 (None)</b><br><b>Session %{customdata[0]}, %{customdata[1]}</b><br>Curriculum: <b>%{customdata[2]}_v%{customdata[3]}</b><br>Suggested: <b>%{customdata[4]}</b><br>Actual: <b>%{customdata[5]}</b><br>Session task: <b>%{customdata[6]}</b><br>foraging_eff = %{customdata[7]}<br>finished_trials = %{customdata[8]}<br>Decision = <b>%{customdata[9]}</b><br>Next suggested: <b>%{customdata[10]}</b><extra></extra>",
         "marker": {
          "color": [
           "red",
           "yellow",
           "red",
           "red",
           "red",
           "red",
           "red",
           "red",
           "yellow",
           "orange",
           "red",
           "yellow",
           "red",
           "lightgreen",
           "yellow",
           "yellow",
           "red",
           "orange",
           "orange",
           "orange",
           "yellow",
           "red",
           "red",
           "lightgreen",
           "orange",
           "yellow",
           "yellow",
           "red",
           "orange",
           "red",
           "red",
           "yellow",
           "lightgreen",
           "red",
           "red",
           "red",
           "yellow",
           "lightgreen",
           "yellow",
           "yellow",
           "red",
           "yellow",
           "red",
           "red",
           "red"
          ],
          "line": {
           "color": [
            "lightgreen",
            "orange",
            "orange",
            "orange",
            "orange",
            "orange",
            "orange",
            "lightgreen",
            "yellow",
            "orange",
            "lightgreen",
            "orange",
            "lightgreen",
            "lightgreen",
            "lightgreen",
            "orange",
            "yellow",
            "yellow",
            "yellow",
            "lightgreen",
            "orange",
            "orange",
            "lightgreen",
            "yellow",
            "yellow",
            "orange",
            "red",
            "orange",
            "orange",
            "orange",
            "yellow",
            "yellow",
            "orange",
            "orange",
            "orange",
            "lightgreen",
            "lightgreen",
            "lightgreen",
            "yellow",
            "orange",
            "yellow",
            "red",
            "red",
            "red",
            "red"
           ],
           "width": 2
          },
          "size": 10
         },
         "mode": "markers",
         "name": "Mouse 689799",
         "showlegend": false,
         "type": "scattergl",
         "x": [
          45,
          44,
          43,
          42,
          41,
          40,
          39,
          38,
          37,
          36,
          35,
          34,
          33,
          32,
          31,
          30,
          29,
          28,
          27,
          26,
          25,
          24,
          23,
          22,
          21,
          20,
          19,
          18,
          17,
          16,
          15,
          14,
          13,
          12,
          11,
          10,
          9,
          8,
          7,
          6,
          5,
          4,
          3,
          2,
          1
         ],
         "y": [
          4,
          4,
          4,
          4,
          4,
          4,
          4,
          4,
          4,
          4,
          4,
          4,
          4,
          4,
          4,
          4,
          4,
          4,
          4,
          4,
          4,
          4,
          4,
          4,
          4,
          4,
          4,
          4,
          4,
          4,
          4,
          4,
          4,
          4,
          4,
          4,
          4,
          4,
          4,
          4,
          4,
          4,
          4,
          4,
          4
         ]
        },
        {
         "marker": {
          "color": "black",
          "line": {
           "width": 1
          },
          "size": 5,
          "symbol": "x-thin"
         },
         "mode": "markers",
         "showlegend": false,
         "type": "scattergl",
         "x": [],
         "y": []
        },
        {
         "customdata": [
          [
           45,
           "2023-12-15",
           "Coupled Baiting",
           "0.2",
           "STAGE_2",
           "STAGE_3",
           "Coupled Baiting",
           0.895,
           796,
           "PROGRESS",
           "STAGE_FINAL"
          ],
          [
           44,
           "2023-12-14",
           "Coupled Baiting",
           "0.2",
           "STAGE_FINAL",
           "STAGE_1",
           "Coupled Baiting",
           0.866,
           824,
           "PROGRESS",
           "STAGE_2"
          ],
          [
           43,
           "2023-12-13",
           "Coupled Baiting",
           "0.2",
           "STAGE_2",
           "STAGE_3",
           "Coupled Baiting",
           0.822,
           839,
           "PROGRESS",
           "STAGE_FINAL"
          ],
          [
           42,
           "2023-12-12",
           "Coupled Baiting",
           "0.2",
           "STAGE_FINAL",
           "STAGE_1",
           "Coupled Baiting",
           0.865,
           637,
           "PROGRESS",
           "STAGE_2"
          ],
          [
           41,
           "2023-12-11",
           "Coupled Baiting",
           "0.2",
           "STAGE_3",
           "STAGE_FINAL",
           "Coupled Baiting",
           0.946,
           611,
           "STAY",
           "STAGE_FINAL"
          ],
          [
           40,
           "2023-12-08",
           "Coupled Baiting",
           "0.2",
           "STAGE_FINAL",
           "STAGE_2",
           "Coupled Baiting",
           0.885,
           666,
           "PROGRESS",
           "STAGE_3"
          ],
          [
           39,
           "2023-12-07",
           "Coupled Baiting",
           "0.2",
           "STAGE_2",
           "STAGE_3",
           "Coupled Baiting",
           0.881,
           631,
           "PROGRESS",
           "STAGE_FINAL"
          ],
          [
           38,
           "2023-12-06",
           "Coupled Baiting",
           "0.2",
           "STAGE_2",
           "STAGE_1",
           "Coupled Baiting",
           0.91,
           690,
           "PROGRESS",
           "STAGE_2"
          ],
          [
           37,
           "2023-12-04",
           "Coupled Baiting",
           "0.2",
           "STAGE_2",
           "STAGE_1",
           "Coupled Baiting",
           0.869,
           655,
           "PROGRESS",
           "STAGE_2"
          ],
          [
           36,
           "2023-12-01",
           "Coupled Baiting",
           "0.2",
           "STAGE_2",
           "STAGE_1",
           "Coupled Baiting",
           0.81,
           603,
           "PROGRESS",
           "STAGE_2"
          ],
          [
           35,
           "2023-11-30",
           "Coupled Baiting",
           "0.2",
           "STAGE_2",
           "STAGE_1",
           "Coupled Baiting",
           0.849,
           663,
           "PROGRESS",
           "STAGE_2"
          ],
          [
           34,
           "2023-11-29",
           "Coupled Baiting",
           "0.2",
           "STAGE_FINAL",
           "STAGE_1",
           "Coupled Baiting",
           0.912,
           600,
           "PROGRESS",
           "STAGE_2"
          ],
          [
           33,
           "2023-11-28",
           "Coupled Baiting",
           "0.2",
           "STAGE_2",
           "STAGE_FINAL",
           "Coupled Baiting",
           0.77,
           502,
           "STAY",
           "STAGE_FINAL"
          ],
          [
           32,
           "2023-11-22",
           "Coupled Baiting",
           "0.2",
           "STAGE_FINAL",
           "STAGE_1",
           "Coupled Baiting",
           0.832,
           641,
           "PROGRESS",
           "STAGE_2"
          ],
          [
           31,
           "2023-11-21",
           "Coupled Baiting",
           "0.2",
           "STAGE_FINAL",
           "STAGE_FINAL",
           "Coupled Baiting",
           0.856,
           659,
           "STAY",
           "STAGE_FINAL"
          ],
          [
           30,
           "2023-11-20",
           "Coupled Baiting",
           "0.2",
           "STAGE_2",
           "STAGE_FINAL",
           "Coupled Baiting",
           0.88,
           640,
           "STAY",
           "STAGE_FINAL"
          ],
          [
           29,
           "2023-11-17",
           "Coupled Baiting",
           "0.2",
           "STAGE_3",
           "STAGE_1",
           "Coupled Baiting",
           0.843,
           615,
           "PROGRESS",
           "STAGE_2"
          ],
          [
           28,
           "2023-11-16",
           "Coupled Baiting",
           "0.2",
           "STAGE_2",
           "STAGE_2",
           "Coupled Baiting",
           0.874,
           591,
           "PROGRESS",
           "STAGE_3"
          ],
          [
           27,
           "2023-11-15",
           "Coupled Baiting",
           "0.2",
           "STAGE_2",
           "STAGE_1",
           "Coupled Baiting",
           0.816,
           448,
           "PROGRESS",
           "STAGE_2"
          ],
          [
           26,
           "2023-11-14",
           "Coupled Baiting",
           "0.2",
           "STAGE_FINAL",
           "STAGE_1",
           "Coupled Baiting",
           0.86,
           408,
           "PROGRESS",
           "STAGE_2"
          ],
          [
           25,
           "2023-11-13",
           "Coupled Baiting",
           "0.2",
           "STAGE_1",
           "STAGE_3",
           "Coupled Baiting",
           0.852,
           489,
           "PROGRESS",
           "STAGE_FINAL"
          ],
          [
           24,
           "2023-11-10",
           "Coupled Baiting",
           "0.2",
           "STAGE_2",
           "STAGE_1",
           "Coupled Baiting",
           0.781,
           92,
           "STAY",
           "STAGE_1"
          ],
          [
           23,
           "2023-11-09",
           "Coupled Baiting",
           "0.2",
           "STAGE_3",
           "STAGE_1",
           "Coupled Baiting",
           0.736,
           537,
           "PROGRESS",
           "STAGE_2"
          ],
          [
           22,
           "2023-11-08",
           "Coupled Baiting",
           "0.2",
           "STAGE_FINAL",
           "STAGE_3",
           "Coupled Baiting",
           0.748,
           382,
           "STAY",
           "STAGE_3"
          ],
          [
           21,
           "2023-11-07",
           "Coupled Baiting",
           "0.2",
           "STAGE_3",
           "STAGE_FINAL",
           "Coupled Baiting",
           0.655,
           516,
           "STAY",
           "STAGE_FINAL"
          ],
          [
           20,
           "2023-11-06",
           "Coupled Baiting",
           "0.2",
           "STAGE_FINAL",
           "STAGE_2",
           "Coupled Baiting",
           0.704,
           600,
           "PROGRESS",
           "STAGE_3"
          ],
          [
           19,
           "2023-11-03",
           "Coupled Baiting",
           "0.2",
           "STAGE_FINAL",
           "STAGE_3",
           "Coupled Baiting",
           0.757,
           501,
           "PROGRESS",
           "STAGE_FINAL"
          ],
          [
           18,
           "2023-11-02",
           "Coupled Baiting",
           "0.2",
           "STAGE_2",
           "STAGE_FINAL",
           "Coupled Baiting",
           0.844,
           524,
           "STAY",
           "STAGE_FINAL"
          ],
          [
           17,
           "2023-11-01",
           "Coupled Baiting",
           "0.2",
           "STAGE_FINAL",
           "STAGE_1",
           "Coupled Baiting",
           0.675,
           556,
           "PROGRESS",
           "STAGE_2"
          ],
          [
           16,
           "2023-10-30",
           "Coupled Baiting",
           "0.2",
           "STAGE_FINAL",
           "STAGE_FINAL",
           "Coupled Baiting",
           0.696,
           594,
           "STAY",
           "STAGE_FINAL"
          ],
          [
           15,
           "2023-10-27",
           "Coupled Baiting",
           "0.2",
           "STAGE_2",
           "STAGE_FINAL",
           "Coupled Baiting",
           0.648,
           413,
           "STAY",
           "STAGE_FINAL"
          ],
          [
           14,
           "2023-10-26",
           "Coupled Baiting",
           "0.2",
           "STAGE_1",
           "STAGE_1",
           "Coupled Baiting",
           0.705,
           502,
           "PROGRESS",
           "STAGE_2"
          ],
          [
           13,
           "2023-10-25",
           "Coupled Baiting",
           "0.2",
           "STAGE_3",
           "STAGE_1",
           "Coupled Baiting",
           1.307,
           11,
           "STAY",
           "STAGE_1"
          ],
          [
           12,
           "2023-10-23",
           "Coupled Baiting",
           "0.2",
           "STAGE_3",
           "STAGE_3",
           "Coupled Baiting",
           0.825,
           357,
           "STAY",
           "STAGE_3"
          ],
          [
           11,
           "2023-10-20",
           "Coupled Baiting",
           "0.2",
           "STAGE_3",
           "STAGE_FINAL",
           "Coupled Baiting",
           0.704,
           388,
           "ROLLBACK",
           "STAGE_3"
          ],
          [
           10,
           "2023-10-19",
           "Coupled Baiting",
           "0.2",
           "STAGE_3",
           "STAGE_3",
           "Coupled Baiting",
           0.782,
           294,
           "STAY",
           "STAGE_3"
          ],
          [
           9,
           "2023-10-18",
           "Coupled Baiting",
           "0.2",
           "STAGE_FINAL",
           "STAGE_3",
           "Coupled Baiting",
           0.939,
           396,
           "STAY",
           "STAGE_3"
          ],
          [
           8,
           "2023-10-16",
           "Coupled Baiting",
           "0.2",
           "STAGE_3",
           "STAGE_FINAL",
           "Coupled Baiting",
           0.821,
           420,
           "STAY",
           "STAGE_FINAL"
          ],
          [
           7,
           "2023-10-13",
           "Coupled Baiting",
           "0.2",
           "STAGE_3",
           "STAGE_3",
           "Coupled Baiting",
           0.829,
           388,
           "STAY",
           "STAGE_3"
          ],
          [
           6,
           "2023-10-12",
           "Coupled Baiting",
           "0.2",
           "STAGE_2",
           "STAGE_FINAL",
           "Coupled Baiting",
           0.792,
           323,
           "ROLLBACK",
           "STAGE_3"
          ],
          [
           5,
           "2023-10-11",
           "Coupled Baiting",
           "0.2",
           "STAGE_3",
           "STAGE_1",
           "Coupled Baiting",
           0.749,
           380,
           "PROGRESS",
           "STAGE_2"
          ],
          [
           4,
           "2023-10-09",
           "Coupled Baiting",
           "0.2",
           "STAGE_2",
           "STAGE_FINAL",
           "Coupled Baiting",
           0.725,
           326,
           "ROLLBACK",
           "STAGE_3"
          ],
          [
           3,
           "2023-10-06",
           "Coupled Baiting",
           "0.2",
           "STAGE_2",
           "STAGE_1",
           "Coupled Baiting",
           0.619,
           333,
           "PROGRESS",
           "STAGE_2"
          ],
          [
           2,
           "2023-10-05",
           "Coupled Baiting",
           "0.2",
           "STAGE_3",
           "STAGE_1",
           "Coupled Baiting",
           0.657,
           238,
           "PROGRESS",
           "STAGE_2"
          ],
          [
           1,
           "2023-10-04",
           "Coupled Baiting",
           "0.2",
           "STAGE_1",
           "STAGE_FINAL",
           "Coupled Baiting",
           0.261,
           48,
           "ROLLBACK",
           "STAGE_3"
          ]
         ],
         "hovertemplate": "<b>Subject 689798 (None)</b><br><b>Session %{customdata[0]}, %{customdata[1]}</b><br>Curriculum: <b>%{customdata[2]}_v%{customdata[3]}</b><br>Suggested: <b>%{customdata[4]}</b><br>Actual: <b>%{customdata[5]}</b><br>Session task: <b>%{customdata[6]}</b><br>foraging_eff = %{customdata[7]}<br>finished_trials = %{customdata[8]}<br>Decision = <b>%{customdata[9]}</b><br>Next suggested: <b>%{customdata[10]}</b><extra></extra>",
         "marker": {
          "color": [
           "yellow",
           "red",
           "yellow",
           "red",
           "lightgreen",
           "orange",
           "yellow",
           "red",
           "red",
           "red",
           "red",
           "red",
           "lightgreen",
           "red",
           "lightgreen",
           "lightgreen",
           "red",
           "orange",
           "red",
           "red",
           "yellow",
           "red",
           "red",
           "yellow",
           "lightgreen",
           "orange",
           "yellow",
           "lightgreen",
           "red",
           "lightgreen",
           "lightgreen",
           "red",
           "red",
           "yellow",
           "lightgreen",
           "yellow",
           "yellow",
           "lightgreen",
           "yellow",
           "lightgreen",
           "red",
           "lightgreen",
           "red",
           "red",
           "lightgreen"
          ],
          "line": {
           "color": [
            "orange",
            "lightgreen",
            "orange",
            "lightgreen",
            "yellow",
            "lightgreen",
            "orange",
            "orange",
            "orange",
            "orange",
            "orange",
            "lightgreen",
            "orange",
            "lightgreen",
            "lightgreen",
            "orange",
            "yellow",
            "orange",
            "orange",
            "lightgreen",
            "red",
            "orange",
            "yellow",
            "lightgreen",
            "yellow",
            "lightgreen",
            "lightgreen",
            "orange",
            "lightgreen",
            "lightgreen",
            "orange",
            "red",
            "yellow",
            "yellow",
            "yellow",
            "yellow",
            "lightgreen",
            "yellow",
            "yellow",
            "orange",
            "yellow",
            "orange",
            "orange",
            "yellow",
            "red"
           ],
           "width": 2
          },
          "size": 10
         },
         "mode": "markers",
         "name": "Mouse 689798",
         "showlegend": false,
         "type": "scattergl",
         "x": [
          45,
          44,
          43,
          42,
          41,
          40,
          39,
          38,
          37,
          36,
          35,
          34,
          33,
          32,
          31,
          30,
          29,
          28,
          27,
          26,
          25,
          24,
          23,
          22,
          21,
          20,
          19,
          18,
          17,
          16,
          15,
          14,
          13,
          12,
          11,
          10,
          9,
          8,
          7,
          6,
          5,
          4,
          3,
          2,
          1
         ],
         "y": [
          5,
          5,
          5,
          5,
          5,
          5,
          5,
          5,
          5,
          5,
          5,
          5,
          5,
          5,
          5,
          5,
          5,
          5,
          5,
          5,
          5,
          5,
          5,
          5,
          5,
          5,
          5,
          5,
          5,
          5,
          5,
          5,
          5,
          5,
          5,
          5,
          5,
          5,
          5,
          5,
          5,
          5,
          5,
          5,
          5
         ]
        },
        {
         "marker": {
          "color": "black",
          "line": {
           "width": 1
          },
          "size": 5,
          "symbol": "x-thin"
         },
         "mode": "markers",
         "showlegend": false,
         "type": "scattergl",
         "x": [],
         "y": []
        },
        {
         "customdata": [
          [
           13,
           "2023-12-14",
           "Coupled Baiting",
           "0.2",
           "STAGE_2",
           "STAGE_2",
           "Coupled Baiting",
           0.591,
           602,
           "STAY",
           "STAGE_2"
          ],
          [
           12,
           "2023-12-13",
           "Coupled Baiting",
           "0.2",
           "STAGE_2",
           "STAGE_1",
           "Coupled Baiting",
           0.689,
           615,
           "PROGRESS",
           "STAGE_2"
          ],
          [
           11,
           "2023-12-12",
           "Coupled Baiting",
           "0.2",
           "STAGE_2",
           "STAGE_1",
           "Coupled Baiting",
           0.694,
           606,
           "PROGRESS",
           "STAGE_2"
          ],
          [
           10,
           "2023-12-11",
           "Coupled Baiting",
           "0.2",
           "STAGE_2",
           "STAGE_1",
           "Coupled Baiting",
           0.78,
           592,
           "PROGRESS",
           "STAGE_2"
          ],
          [
           9,
           "2023-12-08",
           "Coupled Baiting",
           "0.2",
           "STAGE_2",
           "STAGE_1",
           "Coupled Baiting",
           0.715,
           583,
           "PROGRESS",
           "STAGE_2"
          ],
          [
           8,
           "2023-12-07",
           "Coupled Baiting",
           "0.2",
           "STAGE_2",
           "STAGE_1",
           "Coupled Baiting",
           0.635,
           470,
           "PROGRESS",
           "STAGE_2"
          ],
          [
           7,
           "2023-12-06",
           "Coupled Baiting",
           "0.2",
           "STAGE_FINAL",
           "STAGE_1",
           "Coupled Baiting",
           0.662,
           493,
           "PROGRESS",
           "STAGE_2"
          ],
          [
           6,
           "2023-12-05",
           "Coupled Baiting",
           "0.2",
           "STAGE_FINAL",
           "STAGE_3",
           "Coupled Baiting",
           0.701,
           400,
           "PROGRESS",
           "STAGE_FINAL"
          ],
          [
           5,
           "2023-12-04",
           "Coupled Baiting",
           "0.2",
           "STAGE_3",
           "STAGE_3",
           "Coupled Baiting",
           0.738,
           440,
           "PROGRESS",
           "STAGE_FINAL"
          ],
          [
           4,
           "2023-12-01",
           "Coupled Baiting",
           "0.2",
           "STAGE_3",
           "STAGE_3",
           "Coupled Baiting",
           0.821,
           340,
           "STAY",
           "STAGE_3"
          ],
          [
           3,
           "2023-11-30",
           "Coupled Baiting",
           "0.2",
           "STAGE_3",
           "STAGE_2",
           "Coupled Baiting",
           0.685,
           442,
           "PROGRESS",
           "STAGE_3"
          ],
          [
           2,
           "2023-11-29",
           "Coupled Baiting",
           "0.2",
           "STAGE_3",
           "STAGE_3",
           "Coupled Baiting",
           0.627,
           410,
           "STAY",
           "STAGE_3"
          ],
          [
           1,
           "2023-11-28",
           "Coupled Baiting",
           "0.2",
           "STAGE_1",
           "STAGE_FINAL",
           "Coupled Baiting",
           0.126,
           387,
           "ROLLBACK",
           "STAGE_3"
          ]
         ],
         "hovertemplate": "<b>Subject 689729 (None)</b><br><b>Session %{customdata[0]}, %{customdata[1]}</b><br>Curriculum: <b>%{customdata[2]}_v%{customdata[3]}</b><br>Suggested: <b>%{customdata[4]}</b><br>Actual: <b>%{customdata[5]}</b><br>Session task: <b>%{customdata[6]}</b><br>foraging_eff = %{customdata[7]}<br>finished_trials = %{customdata[8]}<br>Decision = <b>%{customdata[9]}</b><br>Next suggested: <b>%{customdata[10]}</b><extra></extra>",
         "marker": {
          "color": [
           "orange",
           "red",
           "red",
           "red",
           "red",
           "red",
           "red",
           "yellow",
           "yellow",
           "yellow",
           "orange",
           "yellow",
           "lightgreen"
          ],
          "line": {
           "color": [
            "orange",
            "orange",
            "orange",
            "orange",
            "orange",
            "orange",
            "lightgreen",
            "lightgreen",
            "yellow",
            "yellow",
            "yellow",
            "yellow",
            "red"
           ],
           "width": 2
          },
          "size": 10
         },
         "mode": "markers",
         "name": "Mouse 689729",
         "showlegend": false,
         "type": "scattergl",
         "x": [
          13,
          12,
          11,
          10,
          9,
          8,
          7,
          6,
          5,
          4,
          3,
          2,
          1
         ],
         "y": [
          6,
          6,
          6,
          6,
          6,
          6,
          6,
          6,
          6,
          6,
          6,
          6,
          6
         ]
        },
        {
         "marker": {
          "color": "black",
          "line": {
           "width": 1
          },
          "size": 5,
          "symbol": "x-thin"
         },
         "mode": "markers",
         "showlegend": false,
         "type": "scattergl",
         "x": [],
         "y": []
        },
        {
         "customdata": [
          [
           19,
           "2023-12-14",
           "Coupled Baiting",
           "0.2",
           "STAGE_3",
           "STAGE_2",
           "Coupled Baiting",
           0.911,
           192,
           "ROLLBACK",
           "STAGE_1"
          ],
          [
           18,
           "2023-12-12",
           "Coupled Baiting",
           "0.2",
           "STAGE_3",
           "STAGE_FINAL",
           "Coupled Baiting",
           0.901,
           263,
           "ROLLBACK",
           "STAGE_3"
          ],
          [
           17,
           "2023-12-11",
           "Coupled Baiting",
           "0.2",
           "STAGE_3",
           "STAGE_3",
           "Coupled Baiting",
           0.901,
           263,
           "STAY",
           "STAGE_3"
          ],
          [
           16,
           "2023-12-08",
           "Coupled Baiting",
           "0.2",
           "STAGE_2",
           "STAGE_3",
           "Coupled Baiting",
           1.057,
           321,
           "STAY",
           "STAGE_3"
          ],
          [
           15,
           "2023-12-07",
           "Coupled Baiting",
           "0.2",
           "STAGE_2",
           "STAGE_1",
           "Coupled Baiting",
           0.898,
           352,
           "PROGRESS",
           "STAGE_2"
          ],
          [
           14,
           "2023-12-06",
           "Coupled Baiting",
           "0.2",
           "STAGE_2",
           "STAGE_1",
           "Coupled Baiting",
           0.893,
           264,
           "PROGRESS",
           "STAGE_2"
          ],
          [
           13,
           "2023-12-05",
           "Coupled Baiting",
           "0.2",
           "STAGE_3",
           "STAGE_1",
           "Coupled Baiting",
           0.808,
           280,
           "PROGRESS",
           "STAGE_2"
          ],
          [
           12,
           "2023-12-04",
           "Coupled Baiting",
           "0.2",
           "STAGE_2",
           "STAGE_3",
           "Coupled Baiting",
           0.717,
           366,
           "STAY",
           "STAGE_3"
          ],
          [
           11,
           "2023-12-01",
           "Coupled Baiting",
           "0.2",
           "STAGE_2",
           "STAGE_1",
           "Coupled Baiting",
           0.861,
           286,
           "PROGRESS",
           "STAGE_2"
          ],
          [
           10,
           "2023-11-30",
           "Coupled Baiting",
           "0.2",
           "STAGE_3",
           "STAGE_2",
           "Coupled Baiting",
           0.774,
           253,
           "STAY",
           "STAGE_2"
          ],
          [
           9,
           "2023-11-29",
           "Coupled Baiting",
           "0.2",
           "STAGE_3",
           "STAGE_3",
           "Coupled Baiting",
           0.676,
           391,
           "STAY",
           "STAGE_3"
          ],
          [
           8,
           "2023-11-28",
           "Coupled Baiting",
           "0.2",
           "STAGE_3",
           "STAGE_FINAL",
           "Coupled Baiting",
           0.688,
           230,
           "ROLLBACK",
           "STAGE_3"
          ],
          [
           7,
           "2023-11-27",
           "Coupled Baiting",
           "0.2",
           "STAGE_2",
           "STAGE_3",
           "Coupled Baiting",
           0.883,
           282,
           "STAY",
           "STAGE_3"
          ],
          [
           6,
           "2023-11-22",
           "Coupled Baiting",
           "0.2",
           "STAGE_3",
           "STAGE_2",
           "Coupled Baiting",
           0.555,
           280,
           "STAY",
           "STAGE_2"
          ],
          [
           5,
           "2023-11-21",
           "Coupled Baiting",
           "0.2",
           "STAGE_3",
           "STAGE_3",
           "Coupled Baiting",
           0.862,
           265,
           "STAY",
           "STAGE_3"
          ],
          [
           4,
           "2023-11-20",
           "Coupled Baiting",
           "0.2",
           "STAGE_3",
           "STAGE_FINAL",
           "Coupled Baiting",
           0.493,
           251,
           "ROLLBACK",
           "STAGE_3"
          ],
          [
           3,
           "2023-11-16",
           "Coupled Baiting",
           "0.2",
           "STAGE_2",
           "STAGE_3",
           "Coupled Baiting",
           0.742,
           341,
           "STAY",
           "STAGE_3"
          ],
          [
           2,
           "2023-11-15",
           "Coupled Baiting",
           "0.2",
           "STAGE_3",
           "STAGE_2",
           "Coupled Baiting",
           0.623,
           237,
           "STAY",
           "STAGE_2"
          ],
          [
           1,
           "2023-11-14",
           "Coupled Baiting",
           "0.2",
           "STAGE_1",
           "STAGE_FINAL",
           "Coupled Baiting",
           0.147,
           172,
           "ROLLBACK",
           "STAGE_3"
          ]
         ],
         "hovertemplate": "<b>Subject 689727 (None)</b><br><b>Session %{customdata[0]}, %{customdata[1]}</b><br>Curriculum: <b>%{customdata[2]}_v%{customdata[3]}</b><br>Suggested: <b>%{customdata[4]}</b><br>Actual: <b>%{customdata[5]}</b><br>Session task: <b>%{customdata[6]}</b><br>foraging_eff = %{customdata[7]}<br>finished_trials = %{customdata[8]}<br>Decision = <b>%{customdata[9]}</b><br>Next suggested: <b>%{customdata[10]}</b><extra></extra>",
         "marker": {
          "color": [
           "orange",
           "lightgreen",
           "yellow",
           "yellow",
           "red",
           "red",
           "red",
           "yellow",
           "red",
           "orange",
           "yellow",
           "lightgreen",
           "yellow",
           "orange",
           "yellow",
           "lightgreen",
           "yellow",
           "orange",
           "lightgreen"
          ],
          "line": {
           "color": [
            "yellow",
            "yellow",
            "yellow",
            "orange",
            "orange",
            "orange",
            "yellow",
            "orange",
            "orange",
            "yellow",
            "yellow",
            "yellow",
            "orange",
            "yellow",
            "yellow",
            "yellow",
            "orange",
            "yellow",
            "red"
           ],
           "width": 2
          },
          "size": 10
         },
         "mode": "markers",
         "name": "Mouse 689727",
         "showlegend": false,
         "type": "scattergl",
         "x": [
          19,
          18,
          17,
          16,
          15,
          14,
          13,
          12,
          11,
          10,
          9,
          8,
          7,
          6,
          5,
          4,
          3,
          2,
          1
         ],
         "y": [
          7,
          7,
          7,
          7,
          7,
          7,
          7,
          7,
          7,
          7,
          7,
          7,
          7,
          7,
          7,
          7,
          7,
          7,
          7
         ]
        },
        {
         "marker": {
          "color": "black",
          "line": {
           "width": 1
          },
          "size": 5,
          "symbol": "x-thin"
         },
         "mode": "markers",
         "showlegend": false,
         "type": "scattergl",
         "x": [],
         "y": []
        },
        {
         "customdata": [
          [
           19,
           "2023-12-15",
           "Coupled Baiting",
           "0.2",
           "STAGE_3",
           "STAGE_3",
           "Coupled Baiting",
           0.757,
           441,
           "PROGRESS",
           "STAGE_FINAL"
          ],
          [
           18,
           "2023-12-14",
           "Coupled Baiting",
           "0.2",
           "STAGE_2",
           "STAGE_FINAL",
           "Coupled Baiting",
           0.792,
           365,
           "ROLLBACK",
           "STAGE_3"
          ],
          [
           17,
           "2023-12-13",
           "Coupled Baiting",
           "0.2",
           "STAGE_2",
           "STAGE_1",
           "Coupled Baiting",
           0.651,
           382,
           "PROGRESS",
           "STAGE_2"
          ],
          [
           16,
           "2023-12-11",
           "Coupled Baiting",
           "0.2",
           "STAGE_2",
           "STAGE_1",
           "Coupled Baiting",
           0.764,
           352,
           "PROGRESS",
           "STAGE_2"
          ],
          [
           15,
           "2023-12-08",
           "Coupled Baiting",
           "0.2",
           "STAGE_2",
           "STAGE_1",
           "Coupled Baiting",
           0.77,
           320,
           "PROGRESS",
           "STAGE_2"
          ],
          [
           14,
           "2023-12-07",
           "Coupled Baiting",
           "0.2",
           "STAGE_1",
           "STAGE_1",
           "Coupled Baiting",
           0.797,
           372,
           "PROGRESS",
           "STAGE_2"
          ],
          [
           13,
           "2023-12-06",
           "Coupled Baiting",
           "0.2",
           "STAGE_2",
           "STAGE_1",
           "Coupled Baiting",
           0.759,
           177,
           "STAY",
           "STAGE_1"
          ],
          [
           12,
           "2023-12-04",
           "Coupled Baiting",
           "0.2",
           "STAGE_2",
           "STAGE_1",
           "Coupled Baiting",
           0.704,
           297,
           "PROGRESS",
           "STAGE_2"
          ],
          [
           11,
           "2023-12-01",
           "Coupled Baiting",
           "0.2",
           "STAGE_3",
           "STAGE_1",
           "Coupled Baiting",
           0.686,
           270,
           "PROGRESS",
           "STAGE_2"
          ],
          [
           10,
           "2023-11-30",
           "Coupled Baiting",
           "0.2",
           "STAGE_2",
           "STAGE_3",
           "Coupled Baiting",
           0.827,
           285,
           "STAY",
           "STAGE_3"
          ],
          [
           9,
           "2023-11-29",
           "Coupled Baiting",
           "0.2",
           "STAGE_2",
           "STAGE_1",
           "Coupled Baiting",
           0.832,
           258,
           "PROGRESS",
           "STAGE_2"
          ],
          [
           8,
           "2023-11-27",
           "Coupled Baiting",
           "0.2",
           "STAGE_2",
           "STAGE_1",
           "Coupled Baiting",
           0.718,
           289,
           "PROGRESS",
           "STAGE_2"
          ],
          [
           7,
           "2023-11-22",
           "Coupled Baiting",
           "0.2",
           "STAGE_FINAL",
           "STAGE_1",
           "Coupled Baiting",
           0.649,
           385,
           "PROGRESS",
           "STAGE_2"
          ],
          [
           6,
           "2023-11-20",
           "Coupled Baiting",
           "0.2",
           "STAGE_FINAL",
           "STAGE_FINAL",
           "Coupled Baiting",
           0.763,
           417,
           "STAY",
           "STAGE_FINAL"
          ],
          [
           5,
           "2023-11-17",
           "Coupled Baiting",
           "0.2",
           "STAGE_2",
           "STAGE_3",
           "Coupled Baiting",
           0.749,
           441,
           "PROGRESS",
           "STAGE_FINAL"
          ],
          [
           4,
           "2023-11-16",
           "Coupled Baiting",
           "0.2",
           "STAGE_3",
           "STAGE_1",
           "Coupled Baiting",
           0.812,
           333,
           "PROGRESS",
           "STAGE_2"
          ],
          [
           3,
           "2023-11-15",
           "Coupled Baiting",
           "0.2",
           "STAGE_1",
           "STAGE_FINAL",
           "Coupled Baiting",
           0.774,
           302,
           "ROLLBACK",
           "STAGE_3"
          ],
          [
           2,
           "2023-11-14",
           "Coupled Baiting",
           "0.2",
           "STAGE_1",
           "STAGE_1",
           "Coupled Baiting",
           0.175,
           266,
           "STAY",
           "STAGE_1"
          ],
          [
           1,
           "2023-11-10",
           "Coupled Baiting",
           "0.2",
           "STAGE_1",
           "STAGE_1",
           "Coupled Baiting",
           null,
           0,
           "STAY",
           "STAGE_1"
          ]
         ],
         "hovertemplate": "<b>Subject 689726 (None)</b><br><b>Session %{customdata[0]}, %{customdata[1]}</b><br>Curriculum: <b>%{customdata[2]}_v%{customdata[3]}</b><br>Suggested: <b>%{customdata[4]}</b><br>Actual: <b>%{customdata[5]}</b><br>Session task: <b>%{customdata[6]}</b><br>foraging_eff = %{customdata[7]}<br>finished_trials = %{customdata[8]}<br>Decision = <b>%{customdata[9]}</b><br>Next suggested: <b>%{customdata[10]}</b><extra></extra>",
         "marker": {
          "color": [
           "yellow",
           "lightgreen",
           "red",
           "red",
           "red",
           "red",
           "red",
           "red",
           "red",
           "yellow",
           "red",
           "red",
           "red",
           "lightgreen",
           "yellow",
           "red",
           "lightgreen",
           "red",
           "red"
          ],
          "line": {
           "color": [
            "yellow",
            "orange",
            "orange",
            "orange",
            "orange",
            "red",
            "orange",
            "orange",
            "yellow",
            "orange",
            "orange",
            "orange",
            "lightgreen",
            "lightgreen",
            "orange",
            "yellow",
            "red",
            "red",
            "red"
           ],
           "width": 2
          },
          "size": 10
         },
         "mode": "markers",
         "name": "Mouse 689726",
         "showlegend": false,
         "type": "scattergl",
         "x": [
          19,
          18,
          17,
          16,
          15,
          14,
          13,
          12,
          11,
          10,
          9,
          8,
          7,
          6,
          5,
          4,
          3,
          2,
          1
         ],
         "y": [
          8,
          8,
          8,
          8,
          8,
          8,
          8,
          8,
          8,
          8,
          8,
          8,
          8,
          8,
          8,
          8,
          8,
          8,
          8
         ]
        },
        {
         "marker": {
          "color": "black",
          "line": {
           "width": 1
          },
          "size": 5,
          "symbol": "x-thin"
         },
         "mode": "markers",
         "showlegend": false,
         "type": "scattergl",
         "x": [],
         "y": []
        },
        {
         "customdata": [
          [
           22,
           "2023-12-15",
           "Coupled Baiting",
           "0.2",
           "STAGE_3",
           "STAGE_3",
           "Coupled Baiting",
           0.707,
           517,
           "PROGRESS",
           "STAGE_FINAL"
          ],
          [
           21,
           "2023-12-14",
           "Coupled Baiting",
           "0.2",
           "STAGE_3",
           "STAGE_3",
           "Coupled Baiting",
           0.629,
           457,
           "STAY",
           "STAGE_3"
          ],
          [
           20,
           "2023-12-13",
           "Coupled Baiting",
           "0.2",
           "STAGE_FINAL",
           "STAGE_FINAL",
           "Coupled Baiting",
           0.622,
           330,
           "ROLLBACK",
           "STAGE_3"
          ],
          [
           19,
           "2023-12-12",
           "Coupled Baiting",
           "0.2",
           "STAGE_1",
           "STAGE_3",
           "Coupled Baiting",
           0.795,
           445,
           "PROGRESS",
           "STAGE_FINAL"
          ],
          [
           18,
           "2023-12-11",
           "Coupled Baiting",
           "0.2",
           "STAGE_2",
           "STAGE_1",
           "Coupled Baiting",
           0.55,
           335,
           "STAY",
           "STAGE_1"
          ],
          [
           17,
           "2023-12-08",
           "Coupled Baiting",
           "0.2",
           "STAGE_2",
           "STAGE_3",
           "Coupled Baiting",
           0.597,
           334,
           "ROLLBACK",
           "STAGE_2"
          ],
          [
           16,
           "2023-12-07",
           "Coupled Baiting",
           "0.2",
           "STAGE_3",
           "STAGE_1",
           "Coupled Baiting",
           0.618,
           352,
           "PROGRESS",
           "STAGE_2"
          ],
          [
           15,
           "2023-12-06",
           "Coupled Baiting",
           "0.2",
           "STAGE_3",
           "STAGE_2",
           "Coupled Baiting",
           0.851,
           302,
           "PROGRESS",
           "STAGE_3"
          ],
          [
           14,
           "2023-12-05",
           "Coupled Baiting",
           "0.2",
           "STAGE_FINAL",
           "STAGE_3",
           "Coupled Baiting",
           0.7,
           375,
           "STAY",
           "STAGE_3"
          ],
          [
           13,
           "2023-12-04",
           "Coupled Baiting",
           "0.2",
           "STAGE_2",
           "STAGE_3",
           "Coupled Baiting",
           0.832,
           430,
           "PROGRESS",
           "STAGE_FINAL"
          ],
          [
           12,
           "2023-12-01",
           "Coupled Baiting",
           "0.2",
           "STAGE_3",
           "STAGE_1",
           "Coupled Baiting",
           0.903,
           424,
           "PROGRESS",
           "STAGE_2"
          ],
          [
           11,
           "2023-11-30",
           "Coupled Baiting",
           "0.2",
           "STAGE_3",
           "STAGE_3",
           "Coupled Baiting",
           0.766,
           399,
           "STAY",
           "STAGE_3"
          ],
          [
           10,
           "2023-11-29",
           "Coupled Baiting",
           "0.2",
           "STAGE_FINAL",
           "STAGE_3",
           "Coupled Baiting",
           0.719,
           360,
           "STAY",
           "STAGE_3"
          ],
          [
           9,
           "2023-11-28",
           "Coupled Baiting",
           "0.2",
           "STAGE_2",
           "STAGE_3",
           "Coupled Baiting",
           0.725,
           404,
           "PROGRESS",
           "STAGE_FINAL"
          ],
          [
           8,
           "2023-11-22",
           "Coupled Baiting",
           "0.2",
           "STAGE_2",
           "STAGE_1",
           "Coupled Baiting",
           0.729,
           271,
           "PROGRESS",
           "STAGE_2"
          ],
          [
           7,
           "2023-11-21",
           "Coupled Baiting",
           "0.2",
           "STAGE_3",
           "STAGE_1",
           "Coupled Baiting",
           0.774,
           259,
           "PROGRESS",
           "STAGE_2"
          ],
          [
           6,
           "2023-11-20",
           "Coupled Baiting",
           "0.2",
           "STAGE_2",
           "STAGE_3",
           "Coupled Baiting",
           0.741,
           321,
           "STAY",
           "STAGE_3"
          ],
          [
           5,
           "2023-11-17",
           "Coupled Baiting",
           "0.2",
           "STAGE_3",
           "STAGE_1",
           "Coupled Baiting",
           0.699,
           297,
           "PROGRESS",
           "STAGE_2"
          ],
          [
           4,
           "2023-11-16",
           "Coupled Baiting",
           "0.2",
           "STAGE_1",
           "STAGE_FINAL",
           "Coupled Baiting",
           0.594,
           241,
           "ROLLBACK",
           "STAGE_3"
          ],
          [
           3,
           "2023-11-15",
           "Coupled Baiting",
           "0.2",
           "STAGE_2",
           "STAGE_2",
           "Coupled Baiting",
           0.856,
           143,
           "ROLLBACK",
           "STAGE_1"
          ],
          [
           2,
           "2023-11-14",
           "Coupled Baiting",
           "0.2",
           "STAGE_1",
           "STAGE_1",
           "Coupled Baiting",
           0.63,
           240,
           "PROGRESS",
           "STAGE_2"
          ],
          [
           1,
           "2023-11-13",
           "Coupled Baiting",
           "0.2",
           "STAGE_1",
           "STAGE_1",
           "Coupled Baiting",
           0,
           79,
           "STAY",
           "STAGE_1"
          ]
         ],
         "hovertemplate": "<b>Subject 687582 (None)</b><br><b>Session %{customdata[0]}, %{customdata[1]}</b><br>Curriculum: <b>%{customdata[2]}_v%{customdata[3]}</b><br>Suggested: <b>%{customdata[4]}</b><br>Actual: <b>%{customdata[5]}</b><br>Session task: <b>%{customdata[6]}</b><br>foraging_eff = %{customdata[7]}<br>finished_trials = %{customdata[8]}<br>Decision = <b>%{customdata[9]}</b><br>Next suggested: <b>%{customdata[10]}</b><extra></extra>",
         "marker": {
          "color": [
           "yellow",
           "yellow",
           "lightgreen",
           "yellow",
           "red",
           "yellow",
           "red",
           "orange",
           "yellow",
           "yellow",
           "red",
           "yellow",
           "yellow",
           "yellow",
           "red",
           "red",
           "yellow",
           "red",
           "lightgreen",
           "orange",
           "red",
           "red"
          ],
          "line": {
           "color": [
            "yellow",
            "yellow",
            "lightgreen",
            "red",
            "orange",
            "orange",
            "yellow",
            "yellow",
            "lightgreen",
            "orange",
            "yellow",
            "yellow",
            "lightgreen",
            "orange",
            "orange",
            "yellow",
            "orange",
            "yellow",
            "red",
            "orange",
            "red",
            "red"
           ],
           "width": 2
          },
          "size": 10
         },
         "mode": "markers",
         "name": "Mouse 687582",
         "showlegend": false,
         "type": "scattergl",
         "x": [
          22,
          21,
          20,
          19,
          18,
          17,
          16,
          15,
          14,
          13,
          12,
          11,
          10,
          9,
          8,
          7,
          6,
          5,
          4,
          3,
          2,
          1
         ],
         "y": [
          9,
          9,
          9,
          9,
          9,
          9,
          9,
          9,
          9,
          9,
          9,
          9,
          9,
          9,
          9,
          9,
          9,
          9,
          9,
          9,
          9,
          9
         ]
        },
        {
         "marker": {
          "color": "black",
          "line": {
           "width": 1
          },
          "size": 5,
          "symbol": "x-thin"
         },
         "mode": "markers",
         "showlegend": false,
         "type": "scattergl",
         "x": [],
         "y": []
        },
        {
         "customdata": [
          [
           10,
           "2023-12-01",
           "Coupled Baiting",
           "0.2",
           "STAGE_2",
           "STAGE_1",
           "Coupled Baiting",
           0.685,
           491,
           "PROGRESS",
           "STAGE_2"
          ],
          [
           9,
           "2023-11-30",
           "Coupled Baiting",
           "0.2",
           "STAGE_3",
           "STAGE_1",
           "Coupled Baiting",
           0.887,
           402,
           "PROGRESS",
           "STAGE_2"
          ],
          [
           8,
           "2023-11-29",
           "Coupled Baiting",
           "0.2",
           "STAGE_2",
           "STAGE_FINAL",
           "Coupled Baiting",
           0.878,
           239,
           "ROLLBACK",
           "STAGE_3"
          ],
          [
           7,
           "2023-11-22",
           "Coupled Baiting",
           "0.2",
           "STAGE_3",
           "STAGE_2",
           "Coupled Baiting",
           0.877,
           219,
           "STAY",
           "STAGE_2"
          ],
          [
           6,
           "2023-11-20",
           "Coupled Baiting",
           "0.2",
           "STAGE_3",
           "STAGE_FINAL",
           "Coupled Baiting",
           0.783,
           342,
           "ROLLBACK",
           "STAGE_3"
          ],
          [
           5,
           "2023-11-17",
           "Coupled Baiting",
           "0.2",
           "STAGE_2",
           "STAGE_3",
           "Coupled Baiting",
           0.803,
           369,
           "STAY",
           "STAGE_3"
          ],
          [
           4,
           "2023-11-16",
           "Coupled Baiting",
           "0.2",
           "STAGE_3",
           "STAGE_1",
           "Coupled Baiting",
           0.757,
           220,
           "PROGRESS",
           "STAGE_2"
          ],
          [
           3,
           "2023-11-15",
           "Coupled Baiting",
           "0.2",
           "STAGE_3",
           "STAGE_FINAL",
           "Coupled Baiting",
           0.762,
           192,
           "ROLLBACK",
           "STAGE_3"
          ],
          [
           2,
           "2023-11-14",
           "Coupled Baiting",
           "0.2",
           "STAGE_3",
           "STAGE_FINAL",
           "Coupled Baiting",
           0.723,
           245,
           "ROLLBACK",
           "STAGE_3"
          ],
          [
           1,
           "2023-11-13",
           "Coupled Baiting",
           "0.2",
           "STAGE_1",
           "STAGE_FINAL",
           "Coupled Baiting",
           0.513,
           190,
           "ROLLBACK",
           "STAGE_3"
          ]
         ],
         "hovertemplate": "<b>Subject 687553 (None)</b><br><b>Session %{customdata[0]}, %{customdata[1]}</b><br>Curriculum: <b>%{customdata[2]}_v%{customdata[3]}</b><br>Suggested: <b>%{customdata[4]}</b><br>Actual: <b>%{customdata[5]}</b><br>Session task: <b>%{customdata[6]}</b><br>foraging_eff = %{customdata[7]}<br>finished_trials = %{customdata[8]}<br>Decision = <b>%{customdata[9]}</b><br>Next suggested: <b>%{customdata[10]}</b><extra></extra>",
         "marker": {
          "color": [
           "red",
           "red",
           "lightgreen",
           "orange",
           "lightgreen",
           "yellow",
           "red",
           "lightgreen",
           "lightgreen",
           "lightgreen"
          ],
          "line": {
           "color": [
            "orange",
            "yellow",
            "orange",
            "yellow",
            "yellow",
            "orange",
            "yellow",
            "yellow",
            "yellow",
            "red"
           ],
           "width": 2
          },
          "size": 10
         },
         "mode": "markers",
         "name": "Mouse 687553",
         "showlegend": false,
         "type": "scattergl",
         "x": [
          10,
          9,
          8,
          7,
          6,
          5,
          4,
          3,
          2,
          1
         ],
         "y": [
          10,
          10,
          10,
          10,
          10,
          10,
          10,
          10,
          10,
          10
         ]
        },
        {
         "marker": {
          "color": "black",
          "line": {
           "width": 1
          },
          "size": 5,
          "symbol": "x-thin"
         },
         "mode": "markers",
         "showlegend": false,
         "type": "scattergl",
         "x": [],
         "y": []
        },
        {
         "customdata": [
          [
           10,
           "2023-11-03",
           "Coupled Baiting",
           "0.2",
           "STAGE_FINAL",
           "STAGE_1",
           "Coupled Baiting",
           0.782,
           483,
           "PROGRESS",
           "STAGE_2"
          ],
          [
           9,
           "2023-11-02",
           "Coupled Baiting",
           "0.2",
           "STAGE_2",
           "STAGE_3",
           "Coupled Baiting",
           0.831,
           493,
           "PROGRESS",
           "STAGE_FINAL"
          ],
          [
           8,
           "2023-11-01",
           "Coupled Baiting",
           "0.2",
           "STAGE_3",
           "STAGE_1",
           "Coupled Baiting",
           0.861,
           406,
           "PROGRESS",
           "STAGE_2"
          ],
          [
           7,
           "2023-10-31",
           "Coupled Baiting",
           "0.2",
           "STAGE_3",
           "STAGE_2",
           "Coupled Baiting",
           0.826,
           490,
           "PROGRESS",
           "STAGE_3"
          ],
          [
           6,
           "2023-10-30",
           "Coupled Baiting",
           "0.2",
           "STAGE_2",
           "STAGE_FINAL",
           "Coupled Baiting",
           0.766,
           335,
           "ROLLBACK",
           "STAGE_3"
          ],
          [
           5,
           "2023-10-27",
           "Coupled Baiting",
           "0.2",
           "STAGE_3",
           "STAGE_1",
           "Coupled Baiting",
           0.809,
           384,
           "PROGRESS",
           "STAGE_2"
          ],
          [
           4,
           "2023-10-25",
           "Coupled Baiting",
           "0.2",
           "STAGE_3",
           "STAGE_3",
           "Coupled Baiting",
           0.665,
           447,
           "STAY",
           "STAGE_3"
          ],
          [
           3,
           "2023-10-24",
           "Coupled Baiting",
           "0.2",
           "STAGE_3",
           "STAGE_2",
           "Coupled Baiting",
           0.75,
           363,
           "PROGRESS",
           "STAGE_3"
          ],
          [
           2,
           "2023-10-23",
           "Coupled Baiting",
           "0.2",
           "STAGE_3",
           "STAGE_FINAL",
           "Coupled Baiting",
           0.586,
           355,
           "ROLLBACK",
           "STAGE_3"
          ],
          [
           1,
           "2023-10-20",
           "Coupled Baiting",
           "0.2",
           "STAGE_1",
           "STAGE_FINAL",
           "Coupled Baiting",
           0.475,
           163,
           "ROLLBACK",
           "STAGE_3"
          ]
         ],
         "hovertemplate": "<b>Subject 687552 (None)</b><br><b>Session %{customdata[0]}, %{customdata[1]}</b><br>Curriculum: <b>%{customdata[2]}_v%{customdata[3]}</b><br>Suggested: <b>%{customdata[4]}</b><br>Actual: <b>%{customdata[5]}</b><br>Session task: <b>%{customdata[6]}</b><br>foraging_eff = %{customdata[7]}<br>finished_trials = %{customdata[8]}<br>Decision = <b>%{customdata[9]}</b><br>Next suggested: <b>%{customdata[10]}</b><extra></extra>",
         "marker": {
          "color": [
           "red",
           "yellow",
           "red",
           "orange",
           "lightgreen",
           "red",
           "yellow",
           "orange",
           "lightgreen",
           "lightgreen"
          ],
          "line": {
           "color": [
            "lightgreen",
            "orange",
            "yellow",
            "yellow",
            "orange",
            "yellow",
            "yellow",
            "yellow",
            "yellow",
            "red"
           ],
           "width": 2
          },
          "size": 10
         },
         "mode": "markers",
         "name": "Mouse 687552",
         "showlegend": false,
         "type": "scattergl",
         "x": [
          10,
          9,
          8,
          7,
          6,
          5,
          4,
          3,
          2,
          1
         ],
         "y": [
          11,
          11,
          11,
          11,
          11,
          11,
          11,
          11,
          11,
          11
         ]
        },
        {
         "marker": {
          "color": "black",
          "line": {
           "width": 1
          },
          "size": 5,
          "symbol": "x-thin"
         },
         "mode": "markers",
         "showlegend": false,
         "type": "scattergl",
         "x": [],
         "y": []
        },
        {
         "customdata": [
          [
           1,
           "2023-11-10",
           "Coupled Baiting",
           "0.2",
           "STAGE_1",
           "STAGE_2",
           "Coupled Baiting",
           null,
           0,
           "ROLLBACK",
           "STAGE_1"
          ]
         ],
         "hovertemplate": "<b>Subject 686837 (None)</b><br><b>Session %{customdata[0]}, %{customdata[1]}</b><br>Curriculum: <b>%{customdata[2]}_v%{customdata[3]}</b><br>Suggested: <b>%{customdata[4]}</b><br>Actual: <b>%{customdata[5]}</b><br>Session task: <b>%{customdata[6]}</b><br>foraging_eff = %{customdata[7]}<br>finished_trials = %{customdata[8]}<br>Decision = <b>%{customdata[9]}</b><br>Next suggested: <b>%{customdata[10]}</b><extra></extra>",
         "marker": {
          "color": [
           "orange"
          ],
          "line": {
           "color": [
            "red"
           ],
           "width": 2
          },
          "size": 10
         },
         "mode": "markers",
         "name": "Mouse 686837",
         "showlegend": false,
         "type": "scattergl",
         "x": [
          1
         ],
         "y": [
          12
         ]
        },
        {
         "marker": {
          "color": "black",
          "line": {
           "width": 1
          },
          "size": 5,
          "symbol": "x-thin"
         },
         "mode": "markers",
         "showlegend": false,
         "type": "scattergl",
         "x": [],
         "y": []
        },
        {
         "customdata": [
          [
           4,
           "2023-09-18",
           "Coupled Baiting",
           "0.2",
           "STAGE_3",
           "STAGE_2",
           "Coupled Baiting",
           0.695,
           375,
           "PROGRESS",
           "STAGE_3"
          ],
          [
           3,
           "2023-09-15",
           "Coupled Baiting",
           "0.2",
           "STAGE_1",
           "STAGE_FINAL",
           "Coupled Baiting",
           0.604,
           100,
           "ROLLBACK",
           "STAGE_3"
          ],
          [
           2,
           "2023-09-14",
           "Coupled Baiting",
           "0.2",
           "STAGE_2",
           "STAGE_2",
           "Coupled Baiting",
           0.4,
           363,
           "ROLLBACK",
           "STAGE_1"
          ],
          [
           1,
           "2023-09-13",
           "Coupled Baiting",
           "0.2",
           "STAGE_1",
           "STAGE_3",
           "Coupled Baiting",
           0.724,
           190,
           "ROLLBACK",
           "STAGE_2"
          ]
         ],
         "hovertemplate": "<b>Subject 684853 (None)</b><br><b>Session %{customdata[0]}, %{customdata[1]}</b><br>Curriculum: <b>%{customdata[2]}_v%{customdata[3]}</b><br>Suggested: <b>%{customdata[4]}</b><br>Actual: <b>%{customdata[5]}</b><br>Session task: <b>%{customdata[6]}</b><br>foraging_eff = %{customdata[7]}<br>finished_trials = %{customdata[8]}<br>Decision = <b>%{customdata[9]}</b><br>Next suggested: <b>%{customdata[10]}</b><extra></extra>",
         "marker": {
          "color": [
           "orange",
           "lightgreen",
           "orange",
           "yellow"
          ],
          "line": {
           "color": [
            "yellow",
            "red",
            "orange",
            "red"
           ],
           "width": 2
          },
          "size": 10
         },
         "mode": "markers",
         "name": "Mouse 684853",
         "showlegend": false,
         "type": "scattergl",
         "x": [
          4,
          3,
          2,
          1
         ],
         "y": [
          13,
          13,
          13,
          13
         ]
        },
        {
         "marker": {
          "color": "black",
          "line": {
           "width": 1
          },
          "size": 5,
          "symbol": "x-thin"
         },
         "mode": "markers",
         "showlegend": false,
         "type": "scattergl",
         "x": [],
         "y": []
        },
        {
         "customdata": [
          [
           32,
           "2023-12-08",
           "Coupled Baiting",
           "0.2",
           "STAGE_FINAL",
           "STAGE_FINAL",
           "Coupled Baiting",
           0.775,
           476,
           "STAY",
           "STAGE_FINAL"
          ],
          [
           31,
           "2023-12-07",
           "Coupled Baiting",
           "0.2",
           "STAGE_3",
           "STAGE_3",
           "Coupled Baiting",
           0.843,
           615,
           "PROGRESS",
           "STAGE_FINAL"
          ],
          [
           30,
           "2023-12-06",
           "Coupled Baiting",
           "0.2",
           "STAGE_2",
           "STAGE_2",
           "Coupled Baiting",
           0.792,
           650,
           "PROGRESS",
           "STAGE_3"
          ],
          [
           29,
           "2023-12-05",
           "Coupled Baiting",
           "0.2",
           "STAGE_2",
           "STAGE_1",
           "Coupled Baiting",
           0.822,
           675,
           "PROGRESS",
           "STAGE_2"
          ],
          [
           28,
           "2023-12-04",
           "Coupled Baiting",
           "0.2",
           "STAGE_1",
           "STAGE_1",
           "Coupled Baiting",
           0.741,
           681,
           "PROGRESS",
           "STAGE_2"
          ],
          [
           27,
           "2023-12-01",
           "Coupled Baiting",
           "0.2",
           "STAGE_FINAL",
           "STAGE_1",
           "Coupled Baiting",
           0.534,
           668,
           "STAY",
           "STAGE_1"
          ],
          [
           26,
           "2023-11-30",
           "Coupled Baiting",
           "0.2",
           "STAGE_2",
           "STAGE_3",
           "Coupled Baiting",
           0.791,
           683,
           "PROGRESS",
           "STAGE_FINAL"
          ],
          [
           25,
           "2023-11-29",
           "Coupled Baiting",
           "0.2",
           "STAGE_2",
           "STAGE_1",
           "Coupled Baiting",
           0.738,
           689,
           "PROGRESS",
           "STAGE_2"
          ],
          [
           24,
           "2023-11-28",
           "Coupled Baiting",
           "0.2",
           "STAGE_FINAL",
           "STAGE_1",
           "Coupled Baiting",
           0.829,
           634,
           "PROGRESS",
           "STAGE_2"
          ],
          [
           23,
           "2023-11-22",
           "Coupled Baiting",
           "0.2",
           "STAGE_2",
           "STAGE_3",
           "Coupled Baiting",
           0.798,
           641,
           "PROGRESS",
           "STAGE_FINAL"
          ],
          [
           22,
           "2023-11-21",
           "Coupled Baiting",
           "0.2",
           "STAGE_FINAL",
           "STAGE_1",
           "Coupled Baiting",
           0.829,
           677,
           "PROGRESS",
           "STAGE_2"
          ],
          [
           21,
           "2023-11-20",
           "Coupled Baiting",
           "0.2",
           "STAGE_2",
           "STAGE_FINAL",
           "Coupled Baiting",
           0.868,
           690,
           "STAY",
           "STAGE_FINAL"
          ],
          [
           20,
           "2023-11-16",
           "Coupled Baiting",
           "0.2",
           "STAGE_FINAL",
           "STAGE_1",
           "Coupled Baiting",
           0.768,
           657,
           "PROGRESS",
           "STAGE_2"
          ],
          [
           19,
           "2023-11-15",
           "Coupled Baiting",
           "0.2",
           "STAGE_2",
           "STAGE_3",
           "Coupled Baiting",
           0.724,
           668,
           "PROGRESS",
           "STAGE_FINAL"
          ],
          [
           18,
           "2023-11-14",
           "Coupled Baiting",
           "0.2",
           "STAGE_2",
           "STAGE_1",
           "Coupled Baiting",
           0.694,
           673,
           "PROGRESS",
           "STAGE_2"
          ],
          [
           17,
           "2023-11-13",
           "Coupled Baiting",
           "0.2",
           "STAGE_2",
           "STAGE_1",
           "Coupled Baiting",
           0.839,
           677,
           "PROGRESS",
           "STAGE_2"
          ],
          [
           16,
           "2023-11-10",
           "Coupled Baiting",
           "0.2",
           "STAGE_FINAL",
           "STAGE_1",
           "Coupled Baiting",
           0.794,
           647,
           "PROGRESS",
           "STAGE_2"
          ],
          [
           15,
           "2023-11-09",
           "Coupled Baiting",
           "0.2",
           "STAGE_FINAL",
           "STAGE_FINAL",
           "Coupled Baiting",
           0.803,
           634,
           "STAY",
           "STAGE_FINAL"
          ],
          [
           14,
           "2023-11-08",
           "Coupled Baiting",
           "0.2",
           "STAGE_2",
           "STAGE_FINAL",
           "Coupled Baiting",
           0.779,
           572,
           "STAY",
           "STAGE_FINAL"
          ],
          [
           13,
           "2023-11-07",
           "Coupled Baiting",
           "0.2",
           "STAGE_FINAL",
           "STAGE_1",
           "Coupled Baiting",
           0.925,
           535,
           "PROGRESS",
           "STAGE_2"
          ],
          [
           12,
           "2023-11-06",
           "Coupled Baiting",
           "0.2",
           "STAGE_2",
           "STAGE_FINAL",
           "Coupled Baiting",
           0.774,
           460,
           "STAY",
           "STAGE_FINAL"
          ],
          [
           11,
           "2023-11-03",
           "Coupled Baiting",
           "0.2",
           "STAGE_FINAL",
           "STAGE_1",
           "Coupled Baiting",
           0.9,
           629,
           "PROGRESS",
           "STAGE_2"
          ],
          [
           10,
           "2023-11-02",
           "Coupled Baiting",
           "0.2",
           "STAGE_FINAL",
           "STAGE_FINAL",
           "Coupled Baiting",
           0.801,
           645,
           "STAY",
           "STAGE_FINAL"
          ],
          [
           9,
           "2023-11-01",
           "Coupled Baiting",
           "0.2",
           "STAGE_3",
           "STAGE_FINAL",
           "Coupled Baiting",
           0.756,
           606,
           "STAY",
           "STAGE_FINAL"
          ],
          [
           8,
           "2023-10-30",
           "Coupled Baiting",
           "0.2",
           "STAGE_2",
           "STAGE_2",
           "Coupled Baiting",
           0.761,
           666,
           "PROGRESS",
           "STAGE_3"
          ],
          [
           7,
           "2023-10-27",
           "Coupled Baiting",
           "0.2",
           "STAGE_3",
           "STAGE_1",
           "Coupled Baiting",
           0.774,
           580,
           "PROGRESS",
           "STAGE_2"
          ],
          [
           6,
           "2023-10-26",
           "Coupled Baiting",
           "0.2",
           "STAGE_2",
           "STAGE_FINAL",
           "Coupled Baiting",
           0.726,
           398,
           "ROLLBACK",
           "STAGE_3"
          ],
          [
           5,
           "2023-10-23",
           "Coupled Baiting",
           "0.2",
           "STAGE_2",
           "STAGE_3",
           "Coupled Baiting",
           0.421,
           271,
           "ROLLBACK",
           "STAGE_2"
          ],
          [
           4,
           "2023-10-20",
           "Coupled Baiting",
           "0.2",
           "STAGE_3",
           "STAGE_1",
           "Coupled Baiting",
           0.671,
           287,
           "PROGRESS",
           "STAGE_2"
          ],
          [
           3,
           "2023-10-19",
           "Coupled Baiting",
           "0.2",
           "STAGE_3",
           "STAGE_FINAL",
           "Coupled Baiting",
           0.736,
           398,
           "ROLLBACK",
           "STAGE_3"
          ],
          [
           2,
           "2023-10-18",
           "Coupled Baiting",
           "0.2",
           "STAGE_1",
           "STAGE_3",
           "Coupled Baiting",
           0.76,
           288,
           "STAY",
           "STAGE_3"
          ],
          [
           1,
           "2023-10-16",
           "Coupled Baiting",
           "0.2",
           "STAGE_1",
           "STAGE_2",
           "Coupled Baiting",
           0.559,
           181,
           "ROLLBACK",
           "STAGE_1"
          ]
         ],
         "hovertemplate": "<b>Subject 684041 (None)</b><br><b>Session %{customdata[0]}, %{customdata[1]}</b><br>Curriculum: <b>%{customdata[2]}_v%{customdata[3]}</b><br>Suggested: <b>%{customdata[4]}</b><br>Actual: <b>%{customdata[5]}</b><br>Session task: <b>%{customdata[6]}</b><br>foraging_eff = %{customdata[7]}<br>finished_trials = %{customdata[8]}<br>Decision = <b>%{customdata[9]}</b><br>Next suggested: <b>%{customdata[10]}</b><extra></extra>",
         "marker": {
          "color": [
           "lightgreen",
           "yellow",
           "orange",
           "red",
           "red",
           "red",
           "yellow",
           "red",
           "red",
           "yellow",
           "red",
           "lightgreen",
           "red",
           "yellow",
           "red",
           "red",
           "red",
           "lightgreen",
           "lightgreen",
           "red",
           "lightgreen",
           "red",
           "lightgreen",
           "lightgreen",
           "orange",
           "red",
           "lightgreen",
           "yellow",
           "red",
           "lightgreen",
           "yellow",
           "orange"
          ],
          "line": {
           "color": [
            "lightgreen",
            "yellow",
            "orange",
            "orange",
            "red",
            "lightgreen",
            "orange",
            "orange",
            "lightgreen",
            "orange",
            "lightgreen",
            "orange",
            "lightgreen",
            "orange",
            "orange",
            "orange",
            "lightgreen",
            "lightgreen",
            "orange",
            "lightgreen",
            "orange",
            "lightgreen",
            "lightgreen",
            "yellow",
            "orange",
            "yellow",
            "orange",
            "orange",
            "yellow",
            "yellow",
            "red",
            "red"
           ],
           "width": 2
          },
          "size": 10
         },
         "mode": "markers",
         "name": "Mouse 684041",
         "showlegend": false,
         "type": "scattergl",
         "x": [
          32,
          31,
          30,
          29,
          28,
          27,
          26,
          25,
          24,
          23,
          22,
          21,
          20,
          19,
          18,
          17,
          16,
          15,
          14,
          13,
          12,
          11,
          10,
          9,
          8,
          7,
          6,
          5,
          4,
          3,
          2,
          1
         ],
         "y": [
          14,
          14,
          14,
          14,
          14,
          14,
          14,
          14,
          14,
          14,
          14,
          14,
          14,
          14,
          14,
          14,
          14,
          14,
          14,
          14,
          14,
          14,
          14,
          14,
          14,
          14,
          14,
          14,
          14,
          14,
          14,
          14
         ]
        },
        {
         "marker": {
          "color": "black",
          "line": {
           "width": 1
          },
          "size": 5,
          "symbol": "x-thin"
         },
         "mode": "markers",
         "showlegend": false,
         "type": "scattergl",
         "x": [],
         "y": []
        },
        {
         "customdata": [
          [
           16,
           "2023-07-28",
           "Coupled Baiting",
           "0.1",
           "STAGE_2",
           "unknown (open loop)",
           "Coupled Baiting",
           0.411,
           392,
           "ROLLBACK",
           "STAGE_1"
          ],
          [
           15,
           "2023-07-27",
           "Coupled Baiting",
           "0.1",
           "STAGE_2",
           "unknown (open loop)",
           "Coupled Baiting",
           0.599,
           729,
           "STAY",
           "STAGE_2"
          ],
          [
           14,
           "2023-07-26",
           "Coupled Baiting",
           "0.1",
           "STAGE_3",
           "unknown (open loop)",
           "Coupled Baiting",
           0.581,
           564,
           "ROLLBACK",
           "STAGE_2"
          ],
          [
           13,
           "2023-07-25",
           "Coupled Baiting",
           "0.1",
           "STAGE_3",
           "unknown (open loop)",
           "Coupled Baiting",
           0.626,
           658,
           "STAY",
           "STAGE_3"
          ],
          [
           12,
           "2023-07-24",
           "Coupled Baiting",
           "0.1",
           "STAGE_2",
           "unknown (open loop)",
           "Coupled Baiting",
           0.75,
           920,
           "PROGRESS",
           "STAGE_3"
          ],
          [
           11,
           "2023-07-21",
           "Coupled Baiting",
           "0.1",
           "STAGE_1",
           "unknown (open loop)",
           "Coupled Baiting",
           0.776,
           899,
           "PROGRESS",
           "STAGE_2"
          ],
          [
           10,
           "2023-07-20",
           "Coupled Baiting",
           "0.1",
           "STAGE_1",
           "unknown (open loop)",
           "Coupled Baiting",
           0.592,
           889,
           "STAY",
           "STAGE_1"
          ],
          [
           9,
           "2023-07-19",
           "Coupled Baiting",
           "0.1",
           "STAGE_1",
           "unknown (open loop)",
           "Coupled Baiting",
           0.523,
           824,
           "STAY",
           "STAGE_1"
          ],
          [
           8,
           "2023-07-18",
           "Coupled Baiting",
           "0.1",
           "STAGE_2",
           "unknown (open loop)",
           "Coupled Baiting",
           0.512,
           933,
           "ROLLBACK",
           "STAGE_1"
          ],
          [
           7,
           "2023-07-17",
           "Coupled Baiting",
           "0.1",
           "STAGE_2",
           "unknown (open loop)",
           "Coupled Baiting",
           0.622,
           947,
           "STAY",
           "STAGE_2"
          ],
          [
           6,
           "2023-07-14",
           "Coupled Baiting",
           "0.1",
           "STAGE_3",
           "unknown (open loop)",
           "Coupled Baiting",
           0.515,
           668,
           "ROLLBACK",
           "STAGE_2"
          ],
          [
           5,
           "2023-07-13",
           "Coupled Baiting",
           "0.1",
           "STAGE_3",
           "unknown (open loop)",
           "Coupled Baiting",
           0.67,
           939,
           "STAY",
           "STAGE_3"
          ],
          [
           4,
           "2023-07-12",
           "Coupled Baiting",
           "0.1",
           "STAGE_2",
           "unknown (open loop)",
           "Coupled Baiting",
           0.818,
           539,
           "PROGRESS",
           "STAGE_3"
          ],
          [
           3,
           "2023-07-11",
           "Coupled Baiting",
           "0.1",
           "STAGE_2",
           "unknown (open loop)",
           "Coupled Baiting",
           0.593,
           823,
           "STAY",
           "STAGE_2"
          ],
          [
           2,
           "2023-07-10",
           "Coupled Baiting",
           "0.1",
           "STAGE_1",
           "unknown (open loop)",
           "Coupled Baiting",
           0.713,
           604,
           "PROGRESS",
           "STAGE_2"
          ],
          [
           1,
           "2023-07-06",
           "Coupled Baiting",
           "0.1",
           "STAGE_1",
           "unknown (open loop)",
           "Coupled Baiting",
           0.498,
           295,
           "STAY",
           "STAGE_1"
          ]
         ],
         "hovertemplate": "<b>Subject 671087 (None)</b><br><b>Session %{customdata[0]}, %{customdata[1]}</b><br>Curriculum: <b>%{customdata[2]}_v%{customdata[3]}</b><br>Suggested: <b>%{customdata[4]}</b><br>Actual: <b>%{customdata[5]}</b><br>Session task: <b>%{customdata[6]}</b><br>foraging_eff = %{customdata[7]}<br>finished_trials = %{customdata[8]}<br>Decision = <b>%{customdata[9]}</b><br>Next suggested: <b>%{customdata[10]}</b><extra></extra>",
         "marker": {
          "color": [
           "lightgrey",
           "lightgrey",
           "lightgrey",
           "lightgrey",
           "lightgrey",
           "lightgrey",
           "lightgrey",
           "lightgrey",
           "lightgrey",
           "lightgrey",
           "lightgrey",
           "lightgrey",
           "lightgrey",
           "lightgrey",
           "lightgrey",
           "lightgrey"
          ],
          "line": {
           "color": [
            "orange",
            "orange",
            "yellow",
            "yellow",
            "orange",
            "red",
            "red",
            "red",
            "orange",
            "orange",
            "yellow",
            "yellow",
            "orange",
            "orange",
            "red",
            "red"
           ],
           "width": 2
          },
          "size": 10
         },
         "mode": "markers",
         "name": "Mouse 671087",
         "showlegend": false,
         "type": "scattergl",
         "x": [
          16,
          15,
          14,
          13,
          12,
          11,
          10,
          9,
          8,
          7,
          6,
          5,
          4,
          3,
          2,
          1
         ],
         "y": [
          15,
          15,
          15,
          15,
          15,
          15,
          15,
          15,
          15,
          15,
          15,
          15,
          15,
          15,
          15,
          15
         ]
        },
        {
         "marker": {
          "color": "black",
          "line": {
           "width": 1
          },
          "size": 5,
          "symbol": "x-thin"
         },
         "mode": "markers",
         "showlegend": false,
         "type": "scattergl",
         "x": [
          16,
          15,
          14,
          13,
          12,
          11,
          10,
          9,
          8,
          7,
          6,
          5,
          4,
          3,
          2,
          1
         ],
         "y": [
          15,
          15,
          15,
          15,
          15,
          15,
          15,
          15,
          15,
          15,
          15,
          15,
          15,
          15,
          15,
          15
         ]
        },
        {
         "customdata": [
          [
           26,
           "2023-08-25",
           "Coupled Baiting",
           "0.1",
           "STAGE_FINAL",
           "unknown (open loop)",
           "Coupled Baiting",
           0.751,
           791,
           "STAY",
           "STAGE_FINAL"
          ],
          [
           25,
           "2023-08-24",
           "Coupled Baiting",
           "0.1",
           "STAGE_FINAL",
           "unknown (open loop)",
           "Coupled Baiting",
           0.699,
           734,
           "STAY",
           "STAGE_FINAL"
          ],
          [
           24,
           "2023-08-23",
           "Coupled Baiting",
           "0.1",
           "STAGE_FINAL",
           "unknown (open loop)",
           "Coupled Baiting",
           0.679,
           666,
           "STAY",
           "STAGE_FINAL"
          ],
          [
           23,
           "2023-08-22",
           "Coupled Baiting",
           "0.1",
           "STAGE_FINAL",
           "unknown (open loop)",
           "Coupled Baiting",
           0.767,
           403,
           "STAY",
           "STAGE_FINAL"
          ],
          [
           22,
           "2023-08-21",
           "Coupled Baiting",
           "0.1",
           "STAGE_3",
           "unknown (open loop)",
           "Coupled Baiting",
           0.851,
           769,
           "PROGRESS",
           "STAGE_FINAL"
          ],
          [
           21,
           "2023-08-18",
           "Coupled Baiting",
           "0.1",
           "STAGE_3",
           "unknown (open loop)",
           "Coupled Baiting",
           0.693,
           724,
           "STAY",
           "STAGE_3"
          ],
          [
           20,
           "2023-08-15",
           "Coupled Baiting",
           "0.1",
           "STAGE_2",
           "unknown (open loop)",
           "Coupled Baiting",
           0.769,
           706,
           "PROGRESS",
           "STAGE_3"
          ],
          [
           19,
           "2023-08-11",
           "Coupled Baiting",
           "0.1",
           "STAGE_1",
           "unknown (open loop)",
           "Coupled Baiting",
           0.602,
           383,
           "PROGRESS",
           "STAGE_2"
          ],
          [
           18,
           "2023-08-10",
           "Coupled Baiting",
           "0.1",
           "STAGE_2",
           "unknown (open loop)",
           "Coupled Baiting",
           0.508,
           345,
           "ROLLBACK",
           "STAGE_1"
          ],
          [
           17,
           "2023-08-07",
           "Coupled Baiting",
           "0.1",
           "STAGE_1",
           "unknown (open loop)",
           "Coupled Baiting",
           0.711,
           730,
           "PROGRESS",
           "STAGE_2"
          ],
          [
           16,
           "2023-08-03",
           "Coupled Baiting",
           "0.1",
           "STAGE_2",
           "unknown (open loop)",
           "Coupled Baiting",
           0.532,
           653,
           "ROLLBACK",
           "STAGE_1"
          ],
          [
           15,
           "2023-08-02",
           "Coupled Baiting",
           "0.1",
           "STAGE_3",
           "unknown (open loop)",
           "Coupled Baiting",
           0.544,
           638,
           "ROLLBACK",
           "STAGE_2"
          ],
          [
           14,
           "2023-08-01",
           "Coupled Baiting",
           "0.1",
           "STAGE_3",
           "unknown (open loop)",
           "Coupled Baiting",
           0.614,
           625,
           "STAY",
           "STAGE_3"
          ],
          [
           13,
           "2023-07-31",
           "Coupled Baiting",
           "0.1",
           "STAGE_2",
           "unknown (open loop)",
           "Coupled Baiting",
           0.674,
           696,
           "PROGRESS",
           "STAGE_3"
          ],
          [
           12,
           "2023-07-28",
           "Coupled Baiting",
           "0.1",
           "STAGE_3",
           "unknown (open loop)",
           "Coupled Baiting",
           0.496,
           452,
           "ROLLBACK",
           "STAGE_2"
          ],
          [
           11,
           "2023-07-25",
           "Coupled Baiting",
           "0.1",
           "STAGE_3",
           "unknown (open loop)",
           "Coupled Baiting",
           0.665,
           784,
           "STAY",
           "STAGE_3"
          ],
          [
           10,
           "2023-07-21",
           "Coupled Baiting",
           "0.1",
           "STAGE_FINAL",
           "unknown (open loop)",
           "Coupled Baiting",
           0.657,
           764,
           "ROLLBACK",
           "STAGE_3"
          ],
          [
           9,
           "2023-07-20",
           "Coupled Baiting",
           "0.1",
           "STAGE_FINAL",
           "unknown (open loop)",
           "Coupled Baiting",
           0.541,
           647,
           "STAY",
           "STAGE_FINAL"
          ],
          [
           8,
           "2023-07-19",
           "Coupled Baiting",
           "0.1",
           "STAGE_3",
           "unknown (open loop)",
           "Coupled Baiting",
           0.743,
           825,
           "PROGRESS",
           "STAGE_FINAL"
          ],
          [
           7,
           "2023-07-18",
           "Coupled Baiting",
           "0.1",
           "STAGE_2",
           "unknown (open loop)",
           "Coupled Baiting",
           0.664,
           859,
           "PROGRESS",
           "STAGE_3"
          ],
          [
           6,
           "2023-07-17",
           "Coupled Baiting",
           "0.1",
           "STAGE_1",
           "unknown (open loop)",
           "Coupled Baiting",
           0.643,
           886,
           "PROGRESS",
           "STAGE_2"
          ],
          [
           5,
           "2023-07-14",
           "Coupled Baiting",
           "0.1",
           "STAGE_1",
           "unknown (open loop)",
           "Coupled Baiting",
           0.558,
           706,
           "STAY",
           "STAGE_1"
          ],
          [
           4,
           "2023-07-13",
           "Coupled Baiting",
           "0.1",
           "STAGE_2",
           "unknown (open loop)",
           "Coupled Baiting",
           0.43,
           892,
           "ROLLBACK",
           "STAGE_1"
          ],
          [
           3,
           "2023-07-11",
           "Coupled Baiting",
           "0.1",
           "STAGE_2",
           "unknown (open loop)",
           "Coupled Baiting",
           0.611,
           857,
           "STAY",
           "STAGE_2"
          ],
          [
           2,
           "2023-07-10",
           "Coupled Baiting",
           "0.1",
           "STAGE_1",
           "unknown (open loop)",
           "Coupled Baiting",
           0.679,
           849,
           "PROGRESS",
           "STAGE_2"
          ],
          [
           1,
           "2023-07-07",
           "Coupled Baiting",
           "0.1",
           "STAGE_1",
           "unknown (open loop)",
           "Coupled Baiting",
           0.459,
           601,
           "STAY",
           "STAGE_1"
          ]
         ],
         "hovertemplate": "<b>Subject 668463 (None)</b><br><b>Session %{customdata[0]}, %{customdata[1]}</b><br>Curriculum: <b>%{customdata[2]}_v%{customdata[3]}</b><br>Suggested: <b>%{customdata[4]}</b><br>Actual: <b>%{customdata[5]}</b><br>Session task: <b>%{customdata[6]}</b><br>foraging_eff = %{customdata[7]}<br>finished_trials = %{customdata[8]}<br>Decision = <b>%{customdata[9]}</b><br>Next suggested: <b>%{customdata[10]}</b><extra></extra>",
         "marker": {
          "color": [
           "lightgrey",
           "lightgrey",
           "lightgrey",
           "lightgrey",
           "lightgrey",
           "lightgrey",
           "lightgrey",
           "lightgrey",
           "lightgrey",
           "lightgrey",
           "lightgrey",
           "lightgrey",
           "lightgrey",
           "lightgrey",
           "lightgrey",
           "lightgrey",
           "lightgrey",
           "lightgrey",
           "lightgrey",
           "lightgrey",
           "lightgrey",
           "lightgrey",
           "lightgrey",
           "lightgrey",
           "lightgrey",
           "lightgrey"
          ],
          "line": {
           "color": [
            "lightgreen",
            "lightgreen",
            "lightgreen",
            "lightgreen",
            "yellow",
            "yellow",
            "orange",
            "red",
            "orange",
            "red",
            "orange",
            "yellow",
            "yellow",
            "orange",
            "yellow",
            "yellow",
            "lightgreen",
            "lightgreen",
            "yellow",
            "orange",
            "red",
            "red",
            "orange",
            "orange",
            "red",
            "red"
           ],
           "width": 2
          },
          "size": 10
         },
         "mode": "markers",
         "name": "Mouse 668463",
         "showlegend": false,
         "type": "scattergl",
         "x": [
          26,
          25,
          24,
          23,
          22,
          21,
          20,
          19,
          18,
          17,
          16,
          15,
          14,
          13,
          12,
          11,
          10,
          9,
          8,
          7,
          6,
          5,
          4,
          3,
          2,
          1
         ],
         "y": [
          16,
          16,
          16,
          16,
          16,
          16,
          16,
          16,
          16,
          16,
          16,
          16,
          16,
          16,
          16,
          16,
          16,
          16,
          16,
          16,
          16,
          16,
          16,
          16,
          16,
          16
         ]
        },
        {
         "marker": {
          "color": "black",
          "line": {
           "width": 1
          },
          "size": 5,
          "symbol": "x-thin"
         },
         "mode": "markers",
         "showlegend": false,
         "type": "scattergl",
         "x": [
          26,
          25,
          24,
          23,
          22,
          21,
          20,
          19,
          18,
          17,
          16,
          15,
          14,
          13,
          12,
          11,
          10,
          9,
          8,
          7,
          6,
          5,
          4,
          3,
          2,
          1
         ],
         "y": [
          16,
          16,
          16,
          16,
          16,
          16,
          16,
          16,
          16,
          16,
          16,
          16,
          16,
          16,
          16,
          16,
          16,
          16,
          16,
          16,
          16,
          16,
          16,
          16,
          16,
          16
         ]
        },
        {
         "customdata": [
          [
           1,
           "2023-11-08",
           "Coupled Baiting",
           "0.1",
           "STAGE_1",
           "unknown (open loop)",
           "Coupled Baiting",
           null,
           0,
           "STAY",
           "STAGE_1"
          ]
         ],
         "hovertemplate": "<b>Subject 641733 (None)</b><br><b>Session %{customdata[0]}, %{customdata[1]}</b><br>Curriculum: <b>%{customdata[2]}_v%{customdata[3]}</b><br>Suggested: <b>%{customdata[4]}</b><br>Actual: <b>%{customdata[5]}</b><br>Session task: <b>%{customdata[6]}</b><br>foraging_eff = %{customdata[7]}<br>finished_trials = %{customdata[8]}<br>Decision = <b>%{customdata[9]}</b><br>Next suggested: <b>%{customdata[10]}</b><extra></extra>",
         "marker": {
          "color": [
           "lightgrey"
          ],
          "line": {
           "color": [
            "red"
           ],
           "width": 2
          },
          "size": 10
         },
         "mode": "markers",
         "name": "Mouse 641733",
         "showlegend": false,
         "type": "scattergl",
         "x": [
          1
         ],
         "y": [
          17
         ]
        },
        {
         "marker": {
          "color": "black",
          "line": {
           "width": 1
          },
          "size": 5,
          "symbol": "x-thin"
         },
         "mode": "markers",
         "showlegend": false,
         "type": "scattergl",
         "x": [
          1
         ],
         "y": [
          17
         ]
        },
        {
         "customdata": [
          [
           1,
           "2023-09-19",
           "Coupled Baiting",
           "0.1",
           "STAGE_1",
           "unknown (open loop)",
           "Coupled Baiting",
           null,
           0,
           "STAY",
           "STAGE_1"
          ]
         ],
         "hovertemplate": "<b>Subject 00000 (None)</b><br><b>Session %{customdata[0]}, %{customdata[1]}</b><br>Curriculum: <b>%{customdata[2]}_v%{customdata[3]}</b><br>Suggested: <b>%{customdata[4]}</b><br>Actual: <b>%{customdata[5]}</b><br>Session task: <b>%{customdata[6]}</b><br>foraging_eff = %{customdata[7]}<br>finished_trials = %{customdata[8]}<br>Decision = <b>%{customdata[9]}</b><br>Next suggested: <b>%{customdata[10]}</b><extra></extra>",
         "marker": {
          "color": [
           "lightgrey"
          ],
          "line": {
           "color": [
            "red"
           ],
           "width": 2
          },
          "size": 10
         },
         "mode": "markers",
         "name": "Mouse 00000",
         "showlegend": false,
         "type": "scattergl",
         "x": [
          1
         ],
         "y": [
          18
         ]
        },
        {
         "marker": {
          "color": "black",
          "line": {
           "width": 1
          },
          "size": 5,
          "symbol": "x-thin"
         },
         "mode": "markers",
         "showlegend": false,
         "type": "scattergl",
         "x": [
          1
         ],
         "y": [
          18
         ]
        }
       ],
       "layout": {
        "height": 1200,
        "template": {
         "data": {
          "bar": [
           {
            "error_x": {
             "color": "#2a3f5f"
            },
            "error_y": {
             "color": "#2a3f5f"
            },
            "marker": {
             "line": {
              "color": "#E5ECF6",
              "width": 0.5
             },
             "pattern": {
              "fillmode": "overlay",
              "size": 10,
              "solidity": 0.2
             }
            },
            "type": "bar"
           }
          ],
          "barpolar": [
           {
            "marker": {
             "line": {
              "color": "#E5ECF6",
              "width": 0.5
             },
             "pattern": {
              "fillmode": "overlay",
              "size": 10,
              "solidity": 0.2
             }
            },
            "type": "barpolar"
           }
          ],
          "carpet": [
           {
            "aaxis": {
             "endlinecolor": "#2a3f5f",
             "gridcolor": "white",
             "linecolor": "white",
             "minorgridcolor": "white",
             "startlinecolor": "#2a3f5f"
            },
            "baxis": {
             "endlinecolor": "#2a3f5f",
             "gridcolor": "white",
             "linecolor": "white",
             "minorgridcolor": "white",
             "startlinecolor": "#2a3f5f"
            },
            "type": "carpet"
           }
          ],
          "choropleth": [
           {
            "colorbar": {
             "outlinewidth": 0,
             "ticks": ""
            },
            "type": "choropleth"
           }
          ],
          "contour": [
           {
            "colorbar": {
             "outlinewidth": 0,
             "ticks": ""
            },
            "colorscale": [
             [
              0,
              "#0d0887"
             ],
             [
              0.1111111111111111,
              "#46039f"
             ],
             [
              0.2222222222222222,
              "#7201a8"
             ],
             [
              0.3333333333333333,
              "#9c179e"
             ],
             [
              0.4444444444444444,
              "#bd3786"
             ],
             [
              0.5555555555555556,
              "#d8576b"
             ],
             [
              0.6666666666666666,
              "#ed7953"
             ],
             [
              0.7777777777777778,
              "#fb9f3a"
             ],
             [
              0.8888888888888888,
              "#fdca26"
             ],
             [
              1,
              "#f0f921"
             ]
            ],
            "type": "contour"
           }
          ],
          "contourcarpet": [
           {
            "colorbar": {
             "outlinewidth": 0,
             "ticks": ""
            },
            "type": "contourcarpet"
           }
          ],
          "heatmap": [
           {
            "colorbar": {
             "outlinewidth": 0,
             "ticks": ""
            },
            "colorscale": [
             [
              0,
              "#0d0887"
             ],
             [
              0.1111111111111111,
              "#46039f"
             ],
             [
              0.2222222222222222,
              "#7201a8"
             ],
             [
              0.3333333333333333,
              "#9c179e"
             ],
             [
              0.4444444444444444,
              "#bd3786"
             ],
             [
              0.5555555555555556,
              "#d8576b"
             ],
             [
              0.6666666666666666,
              "#ed7953"
             ],
             [
              0.7777777777777778,
              "#fb9f3a"
             ],
             [
              0.8888888888888888,
              "#fdca26"
             ],
             [
              1,
              "#f0f921"
             ]
            ],
            "type": "heatmap"
           }
          ],
          "heatmapgl": [
           {
            "colorbar": {
             "outlinewidth": 0,
             "ticks": ""
            },
            "colorscale": [
             [
              0,
              "#0d0887"
             ],
             [
              0.1111111111111111,
              "#46039f"
             ],
             [
              0.2222222222222222,
              "#7201a8"
             ],
             [
              0.3333333333333333,
              "#9c179e"
             ],
             [
              0.4444444444444444,
              "#bd3786"
             ],
             [
              0.5555555555555556,
              "#d8576b"
             ],
             [
              0.6666666666666666,
              "#ed7953"
             ],
             [
              0.7777777777777778,
              "#fb9f3a"
             ],
             [
              0.8888888888888888,
              "#fdca26"
             ],
             [
              1,
              "#f0f921"
             ]
            ],
            "type": "heatmapgl"
           }
          ],
          "histogram": [
           {
            "marker": {
             "pattern": {
              "fillmode": "overlay",
              "size": 10,
              "solidity": 0.2
             }
            },
            "type": "histogram"
           }
          ],
          "histogram2d": [
           {
            "colorbar": {
             "outlinewidth": 0,
             "ticks": ""
            },
            "colorscale": [
             [
              0,
              "#0d0887"
             ],
             [
              0.1111111111111111,
              "#46039f"
             ],
             [
              0.2222222222222222,
              "#7201a8"
             ],
             [
              0.3333333333333333,
              "#9c179e"
             ],
             [
              0.4444444444444444,
              "#bd3786"
             ],
             [
              0.5555555555555556,
              "#d8576b"
             ],
             [
              0.6666666666666666,
              "#ed7953"
             ],
             [
              0.7777777777777778,
              "#fb9f3a"
             ],
             [
              0.8888888888888888,
              "#fdca26"
             ],
             [
              1,
              "#f0f921"
             ]
            ],
            "type": "histogram2d"
           }
          ],
          "histogram2dcontour": [
           {
            "colorbar": {
             "outlinewidth": 0,
             "ticks": ""
            },
            "colorscale": [
             [
              0,
              "#0d0887"
             ],
             [
              0.1111111111111111,
              "#46039f"
             ],
             [
              0.2222222222222222,
              "#7201a8"
             ],
             [
              0.3333333333333333,
              "#9c179e"
             ],
             [
              0.4444444444444444,
              "#bd3786"
             ],
             [
              0.5555555555555556,
              "#d8576b"
             ],
             [
              0.6666666666666666,
              "#ed7953"
             ],
             [
              0.7777777777777778,
              "#fb9f3a"
             ],
             [
              0.8888888888888888,
              "#fdca26"
             ],
             [
              1,
              "#f0f921"
             ]
            ],
            "type": "histogram2dcontour"
           }
          ],
          "mesh3d": [
           {
            "colorbar": {
             "outlinewidth": 0,
             "ticks": ""
            },
            "type": "mesh3d"
           }
          ],
          "parcoords": [
           {
            "line": {
             "colorbar": {
              "outlinewidth": 0,
              "ticks": ""
             }
            },
            "type": "parcoords"
           }
          ],
          "pie": [
           {
            "automargin": true,
            "type": "pie"
           }
          ],
          "scatter": [
           {
            "fillpattern": {
             "fillmode": "overlay",
             "size": 10,
             "solidity": 0.2
            },
            "type": "scatter"
           }
          ],
          "scatter3d": [
           {
            "line": {
             "colorbar": {
              "outlinewidth": 0,
              "ticks": ""
             }
            },
            "marker": {
             "colorbar": {
              "outlinewidth": 0,
              "ticks": ""
             }
            },
            "type": "scatter3d"
           }
          ],
          "scattercarpet": [
           {
            "marker": {
             "colorbar": {
              "outlinewidth": 0,
              "ticks": ""
             }
            },
            "type": "scattercarpet"
           }
          ],
          "scattergeo": [
           {
            "marker": {
             "colorbar": {
              "outlinewidth": 0,
              "ticks": ""
             }
            },
            "type": "scattergeo"
           }
          ],
          "scattergl": [
           {
            "marker": {
             "colorbar": {
              "outlinewidth": 0,
              "ticks": ""
             }
            },
            "type": "scattergl"
           }
          ],
          "scattermapbox": [
           {
            "marker": {
             "colorbar": {
              "outlinewidth": 0,
              "ticks": ""
             }
            },
            "type": "scattermapbox"
           }
          ],
          "scatterpolar": [
           {
            "marker": {
             "colorbar": {
              "outlinewidth": 0,
              "ticks": ""
             }
            },
            "type": "scatterpolar"
           }
          ],
          "scatterpolargl": [
           {
            "marker": {
             "colorbar": {
              "outlinewidth": 0,
              "ticks": ""
             }
            },
            "type": "scatterpolargl"
           }
          ],
          "scatterternary": [
           {
            "marker": {
             "colorbar": {
              "outlinewidth": 0,
              "ticks": ""
             }
            },
            "type": "scatterternary"
           }
          ],
          "surface": [
           {
            "colorbar": {
             "outlinewidth": 0,
             "ticks": ""
            },
            "colorscale": [
             [
              0,
              "#0d0887"
             ],
             [
              0.1111111111111111,
              "#46039f"
             ],
             [
              0.2222222222222222,
              "#7201a8"
             ],
             [
              0.3333333333333333,
              "#9c179e"
             ],
             [
              0.4444444444444444,
              "#bd3786"
             ],
             [
              0.5555555555555556,
              "#d8576b"
             ],
             [
              0.6666666666666666,
              "#ed7953"
             ],
             [
              0.7777777777777778,
              "#fb9f3a"
             ],
             [
              0.8888888888888888,
              "#fdca26"
             ],
             [
              1,
              "#f0f921"
             ]
            ],
            "type": "surface"
           }
          ],
          "table": [
           {
            "cells": {
             "fill": {
              "color": "#EBF0F8"
             },
             "line": {
              "color": "white"
             }
            },
            "header": {
             "fill": {
              "color": "#C8D4E3"
             },
             "line": {
              "color": "white"
             }
            },
            "type": "table"
           }
          ]
         },
         "layout": {
          "annotationdefaults": {
           "arrowcolor": "#2a3f5f",
           "arrowhead": 0,
           "arrowwidth": 1
          },
          "autotypenumbers": "strict",
          "coloraxis": {
           "colorbar": {
            "outlinewidth": 0,
            "ticks": ""
           }
          },
          "colorscale": {
           "diverging": [
            [
             0,
             "#8e0152"
            ],
            [
             0.1,
             "#c51b7d"
            ],
            [
             0.2,
             "#de77ae"
            ],
            [
             0.3,
             "#f1b6da"
            ],
            [
             0.4,
             "#fde0ef"
            ],
            [
             0.5,
             "#f7f7f7"
            ],
            [
             0.6,
             "#e6f5d0"
            ],
            [
             0.7,
             "#b8e186"
            ],
            [
             0.8,
             "#7fbc41"
            ],
            [
             0.9,
             "#4d9221"
            ],
            [
             1,
             "#276419"
            ]
           ],
           "sequential": [
            [
             0,
             "#0d0887"
            ],
            [
             0.1111111111111111,
             "#46039f"
            ],
            [
             0.2222222222222222,
             "#7201a8"
            ],
            [
             0.3333333333333333,
             "#9c179e"
            ],
            [
             0.4444444444444444,
             "#bd3786"
            ],
            [
             0.5555555555555556,
             "#d8576b"
            ],
            [
             0.6666666666666666,
             "#ed7953"
            ],
            [
             0.7777777777777778,
             "#fb9f3a"
            ],
            [
             0.8888888888888888,
             "#fdca26"
            ],
            [
             1,
             "#f0f921"
            ]
           ],
           "sequentialminus": [
            [
             0,
             "#0d0887"
            ],
            [
             0.1111111111111111,
             "#46039f"
            ],
            [
             0.2222222222222222,
             "#7201a8"
            ],
            [
             0.3333333333333333,
             "#9c179e"
            ],
            [
             0.4444444444444444,
             "#bd3786"
            ],
            [
             0.5555555555555556,
             "#d8576b"
            ],
            [
             0.6666666666666666,
             "#ed7953"
            ],
            [
             0.7777777777777778,
             "#fb9f3a"
            ],
            [
             0.8888888888888888,
             "#fdca26"
            ],
            [
             1,
             "#f0f921"
            ]
           ]
          },
          "colorway": [
           "#636efa",
           "#EF553B",
           "#00cc96",
           "#ab63fa",
           "#FFA15A",
           "#19d3f3",
           "#FF6692",
           "#B6E880",
           "#FF97FF",
           "#FECB52"
          ],
          "font": {
           "color": "#2a3f5f"
          },
          "geo": {
           "bgcolor": "white",
           "lakecolor": "white",
           "landcolor": "#E5ECF6",
           "showlakes": true,
           "showland": true,
           "subunitcolor": "white"
          },
          "hoverlabel": {
           "align": "left"
          },
          "hovermode": "closest",
          "mapbox": {
           "style": "light"
          },
          "paper_bgcolor": "white",
          "plot_bgcolor": "#E5ECF6",
          "polar": {
           "angularaxis": {
            "gridcolor": "white",
            "linecolor": "white",
            "ticks": ""
           },
           "bgcolor": "#E5ECF6",
           "radialaxis": {
            "gridcolor": "white",
            "linecolor": "white",
            "ticks": ""
           }
          },
          "scene": {
           "xaxis": {
            "backgroundcolor": "#E5ECF6",
            "gridcolor": "white",
            "gridwidth": 2,
            "linecolor": "white",
            "showbackground": true,
            "ticks": "",
            "zerolinecolor": "white"
           },
           "yaxis": {
            "backgroundcolor": "#E5ECF6",
            "gridcolor": "white",
            "gridwidth": 2,
            "linecolor": "white",
            "showbackground": true,
            "ticks": "",
            "zerolinecolor": "white"
           },
           "zaxis": {
            "backgroundcolor": "#E5ECF6",
            "gridcolor": "white",
            "gridwidth": 2,
            "linecolor": "white",
            "showbackground": true,
            "ticks": "",
            "zerolinecolor": "white"
           }
          },
          "shapedefaults": {
           "line": {
            "color": "#2a3f5f"
           }
          },
          "ternary": {
           "aaxis": {
            "gridcolor": "white",
            "linecolor": "white",
            "ticks": ""
           },
           "baxis": {
            "gridcolor": "white",
            "linecolor": "white",
            "ticks": ""
           },
           "bgcolor": "#E5ECF6",
           "caxis": {
            "gridcolor": "white",
            "linecolor": "white",
            "ticks": ""
           }
          },
          "title": {
           "x": 0.05
          },
          "xaxis": {
           "automargin": true,
           "gridcolor": "white",
           "linecolor": "white",
           "ticks": "",
           "title": {
            "standoff": 15
           },
           "zerolinecolor": "white",
           "zerolinewidth": 2
          },
          "yaxis": {
           "automargin": true,
           "gridcolor": "white",
           "linecolor": "white",
           "ticks": "",
           "title": {
            "standoff": 15
           },
           "zerolinecolor": "white",
           "zerolinewidth": 2
          }
         }
        },
        "title": {
         "text": "Training progress (447_demo, curriculum_task = Coupled Baiting)"
        },
        "xaxis": {
         "title": {
          "text": "session"
         }
        },
        "yaxis": {
         "autorange": "reversed",
         "tickmode": "array",
         "ticktext": [
          "699982",
          "699979",
          "697062",
          "694688",
          "689799",
          "689798",
          "689729",
          "689727",
          "689726",
          "687582",
          "687553",
          "687552",
          "686837",
          "684853",
          "684041",
          "671087",
          "668463",
          "641733",
          "00000"
         ],
         "tickvals": [
          0,
          1,
          2,
          3,
          4,
          5,
          6,
          7,
          8,
          9,
          10,
          11,
          12,
          13,
          14,
          15,
          16,
          17,
          18
         ],
         "title": {
          "text": "Mouse"
         }
        }
       }
      }
     },
     "metadata": {},
     "output_type": "display_data"
    }
   ],
   "source": [
    "demo_manager_447.plot_all_progress();"
   ]
  },
  {
   "cell_type": "markdown",
   "metadata": {},
   "source": [
    "## Curriculum manager"
   ]
  },
  {
   "cell_type": "markdown",
   "metadata": {},
   "source": [
    "Connect to curriculum manager"
   ]
  },
  {
   "cell_type": "code",
   "execution_count": 1,
   "metadata": {},
   "outputs": [
    {
     "name": "stderr",
     "output_type": "stream",
     "text": [
      "2023-12-20 15:32:34 | INFO | aind_auto_train.util.aws_util | AWS credentials not found in environment variables. Try ~/.aws/credentials...\n",
      "2023-12-20 15:32:34 | INFO | aind_auto_train.util.aws_util | Found AWS credential from ~/.aws/credentials!\n",
      "2023-12-20 15:32:35 | INFO | aind_auto_train.util.aws_util | 17 objects downloaded from s3://aind-behavior-data/foraging_auto_training/saved_curriculums/ to /root/capsule/scratch/tmp/\n",
      "2023-12-20 15:32:35 | INFO | aind_auto_train.curriculum_manager | Found 3 curriculums in /root/capsule/scratch/tmp/\n"
     ]
    }
   ],
   "source": [
    "from aind_auto_train.curriculum_manager import CurriculumManager\n",
    "curriculum_manager = CurriculumManager(\n",
    "    saved_curriculums_on_s3=dict(\n",
    "        bucket='aind-behavior-data',\n",
    "        root='foraging_auto_training/saved_curriculums/'\n",
    "    ),\n",
    "    saved_curriculums_local='/root/capsule/scratch/tmp/'\n",
    ")"
   ]
  },
  {
   "cell_type": "markdown",
   "metadata": {},
   "source": [
    "Get a list of all available curriculums."
   ]
  },
  {
   "cell_type": "code",
   "execution_count": 2,
   "metadata": {},
   "outputs": [
    {
     "data": {
      "text/plain": [
       "['/root/capsule/scratch/tmp\\\\Coupled Baiting_curriculum_v0.1_schema_v0.2.json',\n",
       " '/root/capsule/scratch/tmp\\\\Coupled Baiting_curriculum_v0.2_schema_v0.2.json',\n",
       " '/root/capsule/scratch/tmp\\\\Dummy task_curriculum_v0.1_schema_v0.2.json']"
      ]
     },
     "execution_count": 2,
     "metadata": {},
     "output_type": "execute_result"
    }
   ],
   "source": [
    "curriculum_manager.json_files"
   ]
  },
  {
   "cell_type": "code",
   "execution_count": 3,
   "metadata": {},
   "outputs": [
    {
     "data": {
      "text/html": [
       "<div>\n",
       "<style scoped>\n",
       "    .dataframe tbody tr th:only-of-type {\n",
       "        vertical-align: middle;\n",
       "    }\n",
       "\n",
       "    .dataframe tbody tr th {\n",
       "        vertical-align: top;\n",
       "    }\n",
       "\n",
       "    .dataframe thead th {\n",
       "        text-align: right;\n",
       "    }\n",
       "</style>\n",
       "<table border=\"1\" class=\"dataframe\">\n",
       "  <thead>\n",
       "    <tr style=\"text-align: right;\">\n",
       "      <th></th>\n",
       "      <th>curriculum_task</th>\n",
       "      <th>curriculum_version</th>\n",
       "      <th>curriculum_schema_version</th>\n",
       "      <th>curriculum_description</th>\n",
       "    </tr>\n",
       "  </thead>\n",
       "  <tbody>\n",
       "    <tr>\n",
       "      <th>0</th>\n",
       "      <td>Coupled Baiting</td>\n",
       "      <td>0.1</td>\n",
       "      <td>0.2</td>\n",
       "      <td>Base curriculum for the coupled-baiting task</td>\n",
       "    </tr>\n",
       "    <tr>\n",
       "      <th>1</th>\n",
       "      <td>Coupled Baiting</td>\n",
       "      <td>0.2</td>\n",
       "      <td>0.2</td>\n",
       "      <td>More stringent criteria before GRADUATED than 0.1</td>\n",
       "    </tr>\n",
       "    <tr>\n",
       "      <th>2</th>\n",
       "      <td>Dummy task</td>\n",
       "      <td>0.1</td>\n",
       "      <td>0.2</td>\n",
       "      <td></td>\n",
       "    </tr>\n",
       "  </tbody>\n",
       "</table>\n",
       "</div>"
      ],
      "text/plain": [
       "   curriculum_task curriculum_version curriculum_schema_version  \\\n",
       "0  Coupled Baiting                0.1                       0.2   \n",
       "1  Coupled Baiting                0.2                       0.2   \n",
       "2       Dummy task                0.1                       0.2   \n",
       "\n",
       "                              curriculum_description  \n",
       "0       Base curriculum for the coupled-baiting task  \n",
       "1  More stringent criteria before GRADUATED than 0.1  \n",
       "2                                                     "
      ]
     },
     "execution_count": 3,
     "metadata": {},
     "output_type": "execute_result"
    }
   ],
   "source": [
    "curriculum_manager.df_curriculums()"
   ]
  }
 ],
 "metadata": {
  "kernelspec": {
   "display_name": "bonsai_gui",
   "language": "python",
   "name": "python3"
  },
  "language_info": {
   "codemirror_mode": {
    "name": "ipython",
    "version": 3
   },
   "file_extension": ".py",
   "mimetype": "text/x-python",
   "name": "python",
   "nbconvert_exporter": "python",
   "pygments_lexer": "ipython3",
   "version": "3.8.0"
  }
 },
 "nbformat": 4,
 "nbformat_minor": 2
}
