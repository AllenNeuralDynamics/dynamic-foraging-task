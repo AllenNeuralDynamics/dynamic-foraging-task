{
 "cells": [
  {
   "cell_type": "code",
   "execution_count": 1,
   "metadata": {},
   "outputs": [
    {
     "name": "stderr",
     "output_type": "stream",
     "text": [
      "INFO:dynamic_foraging_curriculum.util.aws_util:AWS credentials not found in environment variables. Try ~/.aws/credentials...\n",
      "INFO:dynamic_foraging_curriculum.util.aws_util:Found AWS credential from ~/.aws/credentials!\n"
     ]
    }
   ],
   "source": [
    "from dynamic_foraging_curriculum.curriculum_manager import CurriculumManager"
   ]
  },
  {
   "cell_type": "code",
   "execution_count": 8,
   "metadata": {},
   "outputs": [
    {
     "name": "stderr",
     "output_type": "stream",
     "text": [
      "INFO:dynamic_foraging_curriculum.util.aws_util:file downloaded to aind-behavior-data/foraging_nwb_bonsai_processed/df_sessions.pkl, size = 0.14879322052001953 MB, df_length = 708\n",
      "INFO:dynamic_foraging_curriculum.util.aws_util:file downloaded to aind-behavior-data/foraging_auto_training/df_manager_447_demo.pkl, size = 0.09119319915771484 MB, df_length = 393\n"
     ]
    }
   ],
   "source": [
    "curriculum_manager_447 = CurriculumManager(manager_name='447_demo',\n",
    "                                            df_behavior_on_s3=dict(bucket='aind-behavior-data',\n",
    "                                                                    root='foraging_nwb_bonsai_processed/',\n",
    "                                                                    file_name='df_sessions.pkl'),\n",
    "                                            df_manager_root_on_s3=dict(bucket='aind-behavior-data',\n",
    "                                                                        root='foraging_auto_training/')\n",
    "                                            )"
   ]
  },
  {
   "cell_type": "code",
   "execution_count": 9,
   "metadata": {},
   "outputs": [
    {
     "data": {
      "text/html": [
       "<div>\n",
       "<style scoped>\n",
       "    .dataframe tbody tr th:only-of-type {\n",
       "        vertical-align: middle;\n",
       "    }\n",
       "\n",
       "    .dataframe tbody tr th {\n",
       "        vertical-align: top;\n",
       "    }\n",
       "\n",
       "    .dataframe thead th {\n",
       "        text-align: right;\n",
       "    }\n",
       "</style>\n",
       "<table border=\"1\" class=\"dataframe\">\n",
       "  <thead>\n",
       "    <tr style=\"text-align: right;\">\n",
       "      <th></th>\n",
       "      <th>subject_id</th>\n",
       "      <th>session_date</th>\n",
       "      <th>task</th>\n",
       "      <th>session</th>\n",
       "      <th>session_at_current_stage</th>\n",
       "      <th>curriculum_version</th>\n",
       "      <th>task_schema_version</th>\n",
       "      <th>foraging_efficiency</th>\n",
       "      <th>finished_trials</th>\n",
       "      <th>metrics</th>\n",
       "      <th>current_stage_suggested</th>\n",
       "      <th>current_stage_actual</th>\n",
       "      <th>decision</th>\n",
       "      <th>next_stage_suggested</th>\n",
       "    </tr>\n",
       "  </thead>\n",
       "  <tbody>\n",
       "    <tr>\n",
       "      <th>0</th>\n",
       "      <td>00000</td>\n",
       "      <td>2023-09-19</td>\n",
       "      <td>Coupled Baiting</td>\n",
       "      <td>1.0</td>\n",
       "      <td>1</td>\n",
       "      <td>0.1</td>\n",
       "      <td>1.0</td>\n",
       "      <td>NaN</td>\n",
       "      <td>0</td>\n",
       "      <td>{'foraging_efficiency': [nan], 'finished_trial...</td>\n",
       "      <td>STAGE_1</td>\n",
       "      <td>NaN</td>\n",
       "      <td>STAY</td>\n",
       "      <td>STAGE_1</td>\n",
       "    </tr>\n",
       "    <tr>\n",
       "      <th>1</th>\n",
       "      <td>641733</td>\n",
       "      <td>2023-11-08</td>\n",
       "      <td>Coupled Baiting</td>\n",
       "      <td>1.0</td>\n",
       "      <td>1</td>\n",
       "      <td>0.1</td>\n",
       "      <td>1.0</td>\n",
       "      <td>NaN</td>\n",
       "      <td>0</td>\n",
       "      <td>{'foraging_efficiency': [nan], 'finished_trial...</td>\n",
       "      <td>STAGE_1</td>\n",
       "      <td>NaN</td>\n",
       "      <td>STAY</td>\n",
       "      <td>STAGE_1</td>\n",
       "    </tr>\n",
       "    <tr>\n",
       "      <th>2</th>\n",
       "      <td>668463</td>\n",
       "      <td>2023-07-07</td>\n",
       "      <td>Coupled Baiting</td>\n",
       "      <td>1.0</td>\n",
       "      <td>1</td>\n",
       "      <td>0.1</td>\n",
       "      <td>1.0</td>\n",
       "      <td>0.459235</td>\n",
       "      <td>601</td>\n",
       "      <td>{'foraging_efficiency': [0.45923460898502494],...</td>\n",
       "      <td>STAGE_1</td>\n",
       "      <td>NaN</td>\n",
       "      <td>STAY</td>\n",
       "      <td>STAGE_1</td>\n",
       "    </tr>\n",
       "    <tr>\n",
       "      <th>3</th>\n",
       "      <td>668463</td>\n",
       "      <td>2023-07-10</td>\n",
       "      <td>Coupled Baiting</td>\n",
       "      <td>2.0</td>\n",
       "      <td>2</td>\n",
       "      <td>0.1</td>\n",
       "      <td>1.0</td>\n",
       "      <td>0.679350</td>\n",
       "      <td>849</td>\n",
       "      <td>{'foraging_efficiency': [0.45923460898502494, ...</td>\n",
       "      <td>STAGE_1</td>\n",
       "      <td>NaN</td>\n",
       "      <td>PROGRESS</td>\n",
       "      <td>STAGE_2</td>\n",
       "    </tr>\n",
       "    <tr>\n",
       "      <th>4</th>\n",
       "      <td>668463</td>\n",
       "      <td>2023-07-11</td>\n",
       "      <td>Coupled Baiting</td>\n",
       "      <td>3.0</td>\n",
       "      <td>1</td>\n",
       "      <td>0.1</td>\n",
       "      <td>1.0</td>\n",
       "      <td>0.610769</td>\n",
       "      <td>857</td>\n",
       "      <td>{'foraging_efficiency': [0.45923460898502494, ...</td>\n",
       "      <td>STAGE_2</td>\n",
       "      <td>NaN</td>\n",
       "      <td>STAY</td>\n",
       "      <td>STAGE_2</td>\n",
       "    </tr>\n",
       "    <tr>\n",
       "      <th>...</th>\n",
       "      <td>...</td>\n",
       "      <td>...</td>\n",
       "      <td>...</td>\n",
       "      <td>...</td>\n",
       "      <td>...</td>\n",
       "      <td>...</td>\n",
       "      <td>...</td>\n",
       "      <td>...</td>\n",
       "      <td>...</td>\n",
       "      <td>...</td>\n",
       "      <td>...</td>\n",
       "      <td>...</td>\n",
       "      <td>...</td>\n",
       "      <td>...</td>\n",
       "    </tr>\n",
       "    <tr>\n",
       "      <th>388</th>\n",
       "      <td>699982</td>\n",
       "      <td>2023-11-27</td>\n",
       "      <td>Coupled Baiting</td>\n",
       "      <td>12.0</td>\n",
       "      <td>2</td>\n",
       "      <td>0.1</td>\n",
       "      <td>1.0</td>\n",
       "      <td>0.969558</td>\n",
       "      <td>321</td>\n",
       "      <td>{'foraging_efficiency': [0.0, 0.6889601735619,...</td>\n",
       "      <td>STAGE_FINAL</td>\n",
       "      <td>NaN</td>\n",
       "      <td>ROLLBACK</td>\n",
       "      <td>STAGE_3</td>\n",
       "    </tr>\n",
       "    <tr>\n",
       "      <th>389</th>\n",
       "      <td>699982</td>\n",
       "      <td>2023-11-29</td>\n",
       "      <td>Coupled Baiting</td>\n",
       "      <td>13.0</td>\n",
       "      <td>1</td>\n",
       "      <td>0.1</td>\n",
       "      <td>1.0</td>\n",
       "      <td>0.826341</td>\n",
       "      <td>395</td>\n",
       "      <td>{'foraging_efficiency': [0.0, 0.6889601735619,...</td>\n",
       "      <td>STAGE_3</td>\n",
       "      <td>NaN</td>\n",
       "      <td>STAY</td>\n",
       "      <td>STAGE_3</td>\n",
       "    </tr>\n",
       "    <tr>\n",
       "      <th>390</th>\n",
       "      <td>699982</td>\n",
       "      <td>2023-11-30</td>\n",
       "      <td>Coupled Baiting</td>\n",
       "      <td>14.0</td>\n",
       "      <td>2</td>\n",
       "      <td>0.1</td>\n",
       "      <td>1.0</td>\n",
       "      <td>1.010971</td>\n",
       "      <td>420</td>\n",
       "      <td>{'foraging_efficiency': [0.0, 0.6889601735619,...</td>\n",
       "      <td>STAGE_3</td>\n",
       "      <td>NaN</td>\n",
       "      <td>PROGRESS</td>\n",
       "      <td>STAGE_FINAL</td>\n",
       "    </tr>\n",
       "    <tr>\n",
       "      <th>391</th>\n",
       "      <td>699982</td>\n",
       "      <td>2023-12-01</td>\n",
       "      <td>Coupled Baiting</td>\n",
       "      <td>15.0</td>\n",
       "      <td>1</td>\n",
       "      <td>0.1</td>\n",
       "      <td>1.0</td>\n",
       "      <td>0.752647</td>\n",
       "      <td>455</td>\n",
       "      <td>{'foraging_efficiency': [0.0, 0.6889601735619,...</td>\n",
       "      <td>STAGE_FINAL</td>\n",
       "      <td>NaN</td>\n",
       "      <td>STAY</td>\n",
       "      <td>STAGE_FINAL</td>\n",
       "    </tr>\n",
       "    <tr>\n",
       "      <th>392</th>\n",
       "      <td>699982</td>\n",
       "      <td>2023-12-04</td>\n",
       "      <td>Coupled Baiting</td>\n",
       "      <td>16.0</td>\n",
       "      <td>2</td>\n",
       "      <td>0.1</td>\n",
       "      <td>1.0</td>\n",
       "      <td>0.824347</td>\n",
       "      <td>466</td>\n",
       "      <td>{'foraging_efficiency': [0.0, 0.6889601735619,...</td>\n",
       "      <td>STAGE_FINAL</td>\n",
       "      <td>NaN</td>\n",
       "      <td>STAY</td>\n",
       "      <td>STAGE_FINAL</td>\n",
       "    </tr>\n",
       "  </tbody>\n",
       "</table>\n",
       "<p>393 rows × 14 columns</p>\n",
       "</div>"
      ],
      "text/plain": [
       "    subject_id session_date             task  session  \\\n",
       "0        00000   2023-09-19  Coupled Baiting      1.0   \n",
       "1       641733   2023-11-08  Coupled Baiting      1.0   \n",
       "2       668463   2023-07-07  Coupled Baiting      1.0   \n",
       "3       668463   2023-07-10  Coupled Baiting      2.0   \n",
       "4       668463   2023-07-11  Coupled Baiting      3.0   \n",
       "..         ...          ...              ...      ...   \n",
       "388     699982   2023-11-27  Coupled Baiting     12.0   \n",
       "389     699982   2023-11-29  Coupled Baiting     13.0   \n",
       "390     699982   2023-11-30  Coupled Baiting     14.0   \n",
       "391     699982   2023-12-01  Coupled Baiting     15.0   \n",
       "392     699982   2023-12-04  Coupled Baiting     16.0   \n",
       "\n",
       "     session_at_current_stage curriculum_version task_schema_version  \\\n",
       "0                           1                0.1                 1.0   \n",
       "1                           1                0.1                 1.0   \n",
       "2                           1                0.1                 1.0   \n",
       "3                           2                0.1                 1.0   \n",
       "4                           1                0.1                 1.0   \n",
       "..                        ...                ...                 ...   \n",
       "388                         2                0.1                 1.0   \n",
       "389                         1                0.1                 1.0   \n",
       "390                         2                0.1                 1.0   \n",
       "391                         1                0.1                 1.0   \n",
       "392                         2                0.1                 1.0   \n",
       "\n",
       "     foraging_efficiency  finished_trials  \\\n",
       "0                    NaN                0   \n",
       "1                    NaN                0   \n",
       "2               0.459235              601   \n",
       "3               0.679350              849   \n",
       "4               0.610769              857   \n",
       "..                   ...              ...   \n",
       "388             0.969558              321   \n",
       "389             0.826341              395   \n",
       "390             1.010971              420   \n",
       "391             0.752647              455   \n",
       "392             0.824347              466   \n",
       "\n",
       "                                               metrics  \\\n",
       "0    {'foraging_efficiency': [nan], 'finished_trial...   \n",
       "1    {'foraging_efficiency': [nan], 'finished_trial...   \n",
       "2    {'foraging_efficiency': [0.45923460898502494],...   \n",
       "3    {'foraging_efficiency': [0.45923460898502494, ...   \n",
       "4    {'foraging_efficiency': [0.45923460898502494, ...   \n",
       "..                                                 ...   \n",
       "388  {'foraging_efficiency': [0.0, 0.6889601735619,...   \n",
       "389  {'foraging_efficiency': [0.0, 0.6889601735619,...   \n",
       "390  {'foraging_efficiency': [0.0, 0.6889601735619,...   \n",
       "391  {'foraging_efficiency': [0.0, 0.6889601735619,...   \n",
       "392  {'foraging_efficiency': [0.0, 0.6889601735619,...   \n",
       "\n",
       "    current_stage_suggested  current_stage_actual  decision  \\\n",
       "0                   STAGE_1                   NaN      STAY   \n",
       "1                   STAGE_1                   NaN      STAY   \n",
       "2                   STAGE_1                   NaN      STAY   \n",
       "3                   STAGE_1                   NaN  PROGRESS   \n",
       "4                   STAGE_2                   NaN      STAY   \n",
       "..                      ...                   ...       ...   \n",
       "388             STAGE_FINAL                   NaN  ROLLBACK   \n",
       "389                 STAGE_3                   NaN      STAY   \n",
       "390                 STAGE_3                   NaN  PROGRESS   \n",
       "391             STAGE_FINAL                   NaN      STAY   \n",
       "392             STAGE_FINAL                   NaN      STAY   \n",
       "\n",
       "    next_stage_suggested  \n",
       "0                STAGE_1  \n",
       "1                STAGE_1  \n",
       "2                STAGE_1  \n",
       "3                STAGE_2  \n",
       "4                STAGE_2  \n",
       "..                   ...  \n",
       "388              STAGE_3  \n",
       "389              STAGE_3  \n",
       "390          STAGE_FINAL  \n",
       "391          STAGE_FINAL  \n",
       "392          STAGE_FINAL  \n",
       "\n",
       "[393 rows x 14 columns]"
      ]
     },
     "execution_count": 9,
     "metadata": {},
     "output_type": "execute_result"
    }
   ],
   "source": [
    "curriculum_manager_447.df_manager"
   ]
  },
  {
   "cell_type": "code",
   "execution_count": 11,
   "metadata": {},
   "outputs": [
    {
     "data": {
      "application/vnd.plotly.v1+json": {
       "config": {
        "plotlyServerURL": "https://plot.ly"
       },
       "data": [
        {
         "customdata": [
          [
           "STAGE_1",
           null,
           0
          ]
         ],
         "hovertemplate": "<b>Subject 00000 (None)<br>Session %{x}<br>%{customdata[0]}</b><br>foraging_eff = %{customdata[1]}<br>finished_trials = %{customdata[2]}<extra></extra>",
         "marker": {
          "color": [
           "red"
          ],
          "line": {
           "color": "black",
           "width": 1
          },
          "size": 10
         },
         "mode": "markers",
         "name": "Mouse 00000",
         "showlegend": false,
         "type": "scattergl",
         "x": [
          1
         ],
         "y": [
          0
         ]
        },
        {
         "customdata": [
          [
           "STAGE_1",
           null,
           0
          ]
         ],
         "hovertemplate": "<b>Subject 641733 (None)<br>Session %{x}<br>%{customdata[0]}</b><br>foraging_eff = %{customdata[1]}<br>finished_trials = %{customdata[2]}<extra></extra>",
         "marker": {
          "color": [
           "red"
          ],
          "line": {
           "color": "black",
           "width": 1
          },
          "size": 10
         },
         "mode": "markers",
         "name": "Mouse 641733",
         "showlegend": false,
         "type": "scattergl",
         "x": [
          1
         ],
         "y": [
          1
         ]
        },
        {
         "customdata": [
          [
           "STAGE_1",
           0.45923460898502494,
           601
          ],
          [
           "STAGE_1",
           0.6793497506200283,
           849
          ],
          [
           "STAGE_2",
           0.6107689387599385,
           857
          ],
          [
           "STAGE_2",
           0.43012855548388745,
           892
          ],
          [
           "STAGE_1",
           0.5577182064895972,
           706
          ],
          [
           "STAGE_1",
           0.6430083701793945,
           886
          ],
          [
           "STAGE_2",
           0.6640654514008193,
           859
          ],
          [
           "STAGE_3",
           0.7427399675322733,
           825
          ],
          [
           "STAGE_FINAL",
           0.5412465362644046,
           647
          ],
          [
           "STAGE_FINAL",
           0.656586298347319,
           764
          ],
          [
           "STAGE_3",
           0.6652395695839761,
           784
          ],
          [
           "STAGE_3",
           0.49578773827997646,
           452
          ],
          [
           "STAGE_2",
           0.6739991408214002,
           696
          ],
          [
           "STAGE_3",
           0.6143323722059516,
           625
          ],
          [
           "STAGE_3",
           0.5441960636886993,
           638
          ],
          [
           "STAGE_2",
           0.5315792285939039,
           653
          ],
          [
           "STAGE_1",
           0.7109604252328608,
           730
          ],
          [
           "STAGE_2",
           0.5078750931184158,
           345
          ],
          [
           "STAGE_1",
           0.6020433138006491,
           383
          ],
          [
           "STAGE_2",
           0.76905230911061,
           706
          ],
          [
           "STAGE_3",
           0.6931055997113195,
           724
          ],
          [
           "STAGE_3",
           0.8509585475507757,
           769
          ],
          [
           "STAGE_FINAL",
           0.7668058653199658,
           403
          ],
          [
           "STAGE_FINAL",
           0.6789435764515814,
           666
          ],
          [
           "STAGE_FINAL",
           0.6985241441265393,
           734
          ],
          [
           "STAGE_FINAL",
           0.7514641940342703,
           791
          ]
         ],
         "hovertemplate": "<b>Subject 668463 (None)<br>Session %{x}<br>%{customdata[0]}</b><br>foraging_eff = %{customdata[1]}<br>finished_trials = %{customdata[2]}<extra></extra>",
         "marker": {
          "color": [
           "red",
           "red",
           "orange",
           "orange",
           "red",
           "red",
           "orange",
           "yellow",
           "lightgreen",
           "lightgreen",
           "yellow",
           "yellow",
           "orange",
           "yellow",
           "yellow",
           "orange",
           "red",
           "orange",
           "red",
           "orange",
           "yellow",
           "yellow",
           "lightgreen",
           "lightgreen",
           "lightgreen",
           "lightgreen"
          ],
          "line": {
           "color": "black",
           "width": 1
          },
          "size": 10
         },
         "mode": "markers",
         "name": "Mouse 668463",
         "showlegend": false,
         "type": "scattergl",
         "x": [
          1,
          2,
          3,
          4,
          5,
          6,
          7,
          8,
          9,
          10,
          11,
          12,
          13,
          14,
          15,
          16,
          17,
          18,
          19,
          20,
          21,
          22,
          23,
          24,
          25,
          26
         ],
         "y": [
          2,
          2,
          2,
          2,
          2,
          2,
          2,
          2,
          2,
          2,
          2,
          2,
          2,
          2,
          2,
          2,
          2,
          2,
          2,
          2,
          2,
          2,
          2,
          2,
          2,
          2
         ]
        },
        {
         "customdata": [
          [
           "STAGE_1",
           0.49830508474576274,
           295
          ],
          [
           "STAGE_1",
           0.71310289859815,
           604
          ],
          [
           "STAGE_2",
           0.5930281379214386,
           823
          ],
          [
           "STAGE_2",
           0.8180081512036721,
           539
          ],
          [
           "STAGE_3",
           0.6704253988722447,
           939
          ],
          [
           "STAGE_3",
           0.5153249659837152,
           668
          ],
          [
           "STAGE_2",
           0.6224361669821097,
           947
          ],
          [
           "STAGE_2",
           0.511619766122972,
           933
          ],
          [
           "STAGE_1",
           0.5229931682816981,
           824
          ],
          [
           "STAGE_1",
           0.5924380019264709,
           889
          ],
          [
           "STAGE_1",
           0.7760189342306084,
           899
          ],
          [
           "STAGE_2",
           0.7499297000459381,
           920
          ],
          [
           "STAGE_3",
           0.6260711433085496,
           658
          ],
          [
           "STAGE_3",
           0.5805930800841548,
           564
          ],
          [
           "STAGE_2",
           0.5992671286014459,
           729
          ],
          [
           "STAGE_2",
           0.41051485053337927,
           392
          ],
          [
           "STAGE_1",
           0.4970220529977921,
           893
          ],
          [
           "STAGE_1",
           0.5314879821447868,
           707
          ],
          [
           "STAGE_1",
           0.6838335450332356,
           929
          ],
          [
           "STAGE_2",
           0.7366641809367535,
           689
          ],
          [
           "STAGE_3",
           0.7506512799574723,
           687
          ],
          [
           "STAGE_FINAL",
           0.4519744541066395,
           500
          ],
          [
           "STAGE_FINAL",
           0.44246103832728445,
           801
          ],
          [
           "STAGE_3",
           0.6865231034312209,
           629
          ],
          [
           "STAGE_3",
           0.7281278406436195,
           655
          ],
          [
           "STAGE_FINAL",
           0.8608336125824709,
           522
          ],
          [
           "STAGE_FINAL",
           0.9004757891760711,
           528
          ],
          [
           "STAGE_FINAL",
           0.8969812339918853,
           440
          ],
          [
           "STAGE_FINAL",
           0.7510688887592103,
           765
          ],
          [
           "STAGE_FINAL",
           0.6366219857016009,
           665
          ],
          [
           "GRADUATED",
           0.7599135190398454,
           695
          ],
          [
           "GRADUATED",
           0.7598527580796257,
           643
          ],
          [
           "GRADUATED",
           0.7600981289576819,
           702
          ]
         ],
         "hovertemplate": "<b>Subject 671087 (None)<br>Session %{x}<br>%{customdata[0]}</b><br>foraging_eff = %{customdata[1]}<br>finished_trials = %{customdata[2]}<extra></extra>",
         "marker": {
          "color": [
           "red",
           "red",
           "orange",
           "orange",
           "yellow",
           "yellow",
           "orange",
           "orange",
           "red",
           "red",
           "red",
           "orange",
           "yellow",
           "yellow",
           "orange",
           "orange",
           "red",
           "red",
           "red",
           "orange",
           "yellow",
           "lightgreen",
           "lightgreen",
           "yellow",
           "yellow",
           "lightgreen",
           "lightgreen",
           "lightgreen",
           "lightgreen",
           "lightgreen",
           "green",
           "green",
           "green"
          ],
          "line": {
           "color": "black",
           "width": 1
          },
          "size": 10
         },
         "mode": "markers",
         "name": "Mouse 671087",
         "showlegend": false,
         "type": "scattergl",
         "x": [
          1,
          2,
          3,
          4,
          5,
          6,
          7,
          8,
          9,
          10,
          11,
          12,
          13,
          14,
          15,
          16,
          17,
          18,
          19,
          20,
          21,
          22,
          23,
          24,
          25,
          26,
          27,
          28,
          29,
          30,
          31,
          32,
          33
         ],
         "y": [
          3,
          3,
          3,
          3,
          3,
          3,
          3,
          3,
          3,
          3,
          3,
          3,
          3,
          3,
          3,
          3,
          3,
          3,
          3,
          3,
          3,
          3,
          3,
          3,
          3,
          3,
          3,
          3,
          3,
          3,
          3,
          3,
          3
         ]
        },
        {
         "customdata": [
          [
           "STAGE_1",
           0.7945781264082167,
           243
          ],
          [
           "STAGE_2",
           0.7915356540427904,
           195
          ],
          [
           "STAGE_1",
           0.9173096506539151,
           230
          ],
          [
           "STAGE_2",
           0.6687850512106388,
           224
          ],
          [
           "STAGE_2",
           0.9494601816485514,
           315
          ],
          [
           "STAGE_3",
           0.8512241338741046,
           345
          ],
          [
           "STAGE_3",
           0.9110859140361898,
           203
          ],
          [
           "STAGE_3",
           0.8633267474912373,
           170
          ],
          [
           "STAGE_2",
           0.5911534887153593,
           142
          ]
         ],
         "hovertemplate": "<b>Subject 676746 (None)<br>Session %{x}<br>%{customdata[0]}</b><br>foraging_eff = %{customdata[1]}<br>finished_trials = %{customdata[2]}<extra></extra>",
         "marker": {
          "color": [
           "red",
           "orange",
           "red",
           "orange",
           "orange",
           "yellow",
           "yellow",
           "yellow",
           "orange"
          ],
          "line": {
           "color": "black",
           "width": 1
          },
          "size": 10
         },
         "mode": "markers",
         "name": "Mouse 676746",
         "showlegend": false,
         "type": "scattergl",
         "x": [
          1,
          2,
          3,
          4,
          5,
          6,
          7,
          8,
          9
         ],
         "y": [
          4,
          4,
          4,
          4,
          4,
          4,
          4,
          4,
          4
         ]
        },
        {
         "customdata": [
          [
           "STAGE_1",
           1.2401353522258878,
           154
          ],
          [
           "STAGE_1",
           0.9583464761115748,
           110
          ],
          [
           "STAGE_1",
           1.3414010553139284,
           60
          ],
          [
           "STAGE_1",
           1.0911544381283678,
           156
          ],
          [
           "STAGE_1",
           1.1599973738105873,
           102
          ],
          [
           "STAGE_1",
           1.0930890170111704,
           155
          ],
          [
           "STAGE_1",
           0.4869604096140647,
           64
          ],
          [
           "STAGE_1",
           0.6796809576385631,
           136
          ]
         ],
         "hovertemplate": "<b>Subject 676747 (None)<br>Session %{x}<br>%{customdata[0]}</b><br>foraging_eff = %{customdata[1]}<br>finished_trials = %{customdata[2]}<extra></extra>",
         "marker": {
          "color": [
           "red",
           "red",
           "red",
           "red",
           "red",
           "red",
           "red",
           "red"
          ],
          "line": {
           "color": "black",
           "width": 1
          },
          "size": 10
         },
         "mode": "markers",
         "name": "Mouse 676747",
         "showlegend": false,
         "type": "scattergl",
         "x": [
          1,
          2,
          3,
          4,
          5,
          6,
          7,
          8
         ],
         "y": [
          5,
          5,
          5,
          5,
          5,
          5,
          5,
          5
         ]
        },
        {
         "customdata": [
          [
           "STAGE_1",
           0.8853644554372236,
           362
          ],
          [
           "STAGE_2",
           0.7967541821442687,
           398
          ],
          [
           "STAGE_3",
           0.8257170103693741,
           343
          ],
          [
           "STAGE_3",
           0.9121845414439445,
           243
          ],
          [
           "STAGE_3",
           1.0136717040192544,
           136
          ],
          [
           "STAGE_2",
           0.8133989780909896,
           282
          ],
          [
           "STAGE_2",
           0.8509748654595874,
           200
          ]
         ],
         "hovertemplate": "<b>Subject 680396 (None)<br>Session %{x}<br>%{customdata[0]}</b><br>foraging_eff = %{customdata[1]}<br>finished_trials = %{customdata[2]}<extra></extra>",
         "marker": {
          "color": [
           "red",
           "orange",
           "yellow",
           "yellow",
           "yellow",
           "orange",
           "orange"
          ],
          "line": {
           "color": "black",
           "width": 1
          },
          "size": 10
         },
         "mode": "markers",
         "name": "Mouse 680396",
         "showlegend": false,
         "type": "scattergl",
         "x": [
          1,
          2,
          3,
          4,
          5,
          6,
          7
         ],
         "y": [
          6,
          6,
          6,
          6,
          6,
          6,
          6
         ]
        },
        {
         "customdata": [
          [
           "STAGE_1",
           0.7790543010479604,
           456
          ],
          [
           "STAGE_2",
           0.7334333975707998,
           660
          ],
          [
           "STAGE_3",
           0.7574740278187885,
           630
          ],
          [
           "STAGE_FINAL",
           0.7137692976608154,
           294
          ],
          [
           "STAGE_FINAL",
           0.762542587975295,
           422
          ],
          [
           "STAGE_3",
           0.7517413498762103,
           354
          ],
          [
           "STAGE_3",
           0.563194570561813,
           311
          ]
         ],
         "hovertemplate": "<b>Subject 680397 (None)<br>Session %{x}<br>%{customdata[0]}</b><br>foraging_eff = %{customdata[1]}<br>finished_trials = %{customdata[2]}<extra></extra>",
         "marker": {
          "color": [
           "red",
           "orange",
           "yellow",
           "lightgreen",
           "lightgreen",
           "yellow",
           "yellow"
          ],
          "line": {
           "color": "black",
           "width": 1
          },
          "size": 10
         },
         "mode": "markers",
         "name": "Mouse 680397",
         "showlegend": false,
         "type": "scattergl",
         "x": [
          1,
          2,
          3,
          4,
          5,
          6,
          7
         ],
         "y": [
          7,
          7,
          7,
          7,
          7,
          7,
          7
         ]
        },
        {
         "customdata": [
          [
           "STAGE_1",
           0.4611575631133347,
           248
          ],
          [
           "STAGE_1",
           0.785473918165481,
           380
          ],
          [
           "STAGE_2",
           0.7652075660433771,
           371
          ],
          [
           "STAGE_3",
           0.811118510942109,
           241
          ],
          [
           "STAGE_3",
           0.740864640991669,
           436
          ],
          [
           "STAGE_FINAL",
           0.977694497378452,
           255
          ]
         ],
         "hovertemplate": "<b>Subject 680398 (None)<br>Session %{x}<br>%{customdata[0]}</b><br>foraging_eff = %{customdata[1]}<br>finished_trials = %{customdata[2]}<extra></extra>",
         "marker": {
          "color": [
           "red",
           "red",
           "orange",
           "yellow",
           "yellow",
           "lightgreen"
          ],
          "line": {
           "color": "black",
           "width": 1
          },
          "size": 10
         },
         "mode": "markers",
         "name": "Mouse 680398",
         "showlegend": false,
         "type": "scattergl",
         "x": [
          1,
          2,
          3,
          4,
          5,
          6
         ],
         "y": [
          8,
          8,
          8,
          8,
          8,
          8
         ]
        },
        {
         "customdata": [
          [
           "STAGE_1",
           0.33742775921314005,
           312
          ],
          [
           "STAGE_1",
           0.7386162164631654,
           365
          ],
          [
           "STAGE_2",
           0.7355473640390404,
           491
          ],
          [
           "STAGE_3",
           0.8055009689886055,
           250
          ],
          [
           "STAGE_3",
           0.8739292171842092,
           259
          ],
          [
           "STAGE_3",
           0.895526140862943,
           263
          ]
         ],
         "hovertemplate": "<b>Subject 680399 (None)<br>Session %{x}<br>%{customdata[0]}</b><br>foraging_eff = %{customdata[1]}<br>finished_trials = %{customdata[2]}<extra></extra>",
         "marker": {
          "color": [
           "red",
           "red",
           "orange",
           "yellow",
           "yellow",
           "yellow"
          ],
          "line": {
           "color": "black",
           "width": 1
          },
          "size": 10
         },
         "mode": "markers",
         "name": "Mouse 680399",
         "showlegend": false,
         "type": "scattergl",
         "x": [
          1,
          2,
          3,
          4,
          5,
          6
         ],
         "y": [
          9,
          9,
          9,
          9,
          9,
          9
         ]
        },
        {
         "customdata": [
          [
           "STAGE_1",
           0.27478301512077474,
           154
          ],
          [
           "STAGE_1",
           0.6259309688220668,
           184
          ],
          [
           "STAGE_1",
           0.6910026622100267,
           89
          ],
          [
           "STAGE_1",
           0.3644067796610169,
           118
          ],
          [
           "STAGE_1",
           0.7848101265822784,
           79
          ],
          [
           "STAGE_1",
           0.5335365853658536,
           328
          ],
          [
           "STAGE_1",
           0.610207100591716,
           338
          ],
          [
           "STAGE_2",
           0.6541937432399925,
           246
          ],
          [
           "STAGE_2",
           0.7353217852576596,
           318
          ],
          [
           "STAGE_3",
           0.7896396597160146,
           380
          ]
         ],
         "hovertemplate": "<b>Subject 680599 (None)<br>Session %{x}<br>%{customdata[0]}</b><br>foraging_eff = %{customdata[1]}<br>finished_trials = %{customdata[2]}<extra></extra>",
         "marker": {
          "color": [
           "red",
           "red",
           "red",
           "red",
           "red",
           "red",
           "red",
           "orange",
           "orange",
           "yellow"
          ],
          "line": {
           "color": "black",
           "width": 1
          },
          "size": 10
         },
         "mode": "markers",
         "name": "Mouse 680599",
         "showlegend": false,
         "type": "scattergl",
         "x": [
          1,
          2,
          3,
          4,
          5,
          6,
          7,
          8,
          9,
          10
         ],
         "y": [
          10,
          10,
          10,
          10,
          10,
          10,
          10,
          10,
          10,
          10
         ]
        },
        {
         "customdata": [
          [
           "STAGE_1",
           0.7132140714525275,
           81
          ]
         ],
         "hovertemplate": "<b>Subject 680600 (None)<br>Session %{x}<br>%{customdata[0]}</b><br>foraging_eff = %{customdata[1]}<br>finished_trials = %{customdata[2]}<extra></extra>",
         "marker": {
          "color": [
           "red"
          ],
          "line": {
           "color": "black",
           "width": 1
          },
          "size": 10
         },
         "mode": "markers",
         "name": "Mouse 680600",
         "showlegend": false,
         "type": "scattergl",
         "x": [
          1
         ],
         "y": [
          11
         ]
        },
        {
         "customdata": [
          [
           "STAGE_1",
           0.5592105263157895,
           152
          ],
          [
           "STAGE_1",
           0.6468219410463156,
           346
          ],
          [
           "STAGE_2",
           0.8434086984661565,
           317
          ],
          [
           "STAGE_3",
           0.6978816536099881,
           345
          ],
          [
           "STAGE_3",
           0.9891635958234536,
           326
          ],
          [
           "STAGE_3",
           0.7749833082516192,
           359
          ],
          [
           "STAGE_3",
           0.818124098496543,
           415
          ],
          [
           "STAGE_FINAL",
           0.6666365447922082,
           336
          ],
          [
           "STAGE_3",
           0.9923351012324209,
           297
          ],
          [
           "STAGE_3",
           0.8823013967324825,
           328
          ],
          [
           "STAGE_3",
           0.6402568673209377,
           396
          ],
          [
           "STAGE_3",
           0.7112282365979504,
           542
          ],
          [
           "STAGE_FINAL",
           0.696139507303688,
           386
          ],
          [
           "STAGE_FINAL",
           0.4824259240975305,
           400
          ],
          [
           "STAGE_3",
           0.6123261709046689,
           361
          ],
          [
           "STAGE_3",
           0.5332014359136552,
           207
          ],
          [
           "STAGE_2",
           0.7168640698837239,
           469
          ],
          [
           "STAGE_3",
           0.615098876143731,
           353
          ],
          [
           "STAGE_3",
           0.7119598593179767,
           396
          ],
          [
           "STAGE_3",
           0.8447867192338839,
           423
          ],
          [
           "STAGE_FINAL",
           0.6498982994629444,
           398
          ],
          [
           "STAGE_FINAL",
           0.5545654046679876,
           364
          ],
          [
           "STAGE_3",
           0.6638542337522088,
           322
          ],
          [
           "STAGE_3",
           0.6909364164034567,
           371
          ],
          [
           "STAGE_3",
           0.6579776137714739,
           337
          ],
          [
           "STAGE_3",
           0.623691287264814,
           358
          ]
         ],
         "hovertemplate": "<b>Subject 684039 (None)<br>Session %{x}<br>%{customdata[0]}</b><br>foraging_eff = %{customdata[1]}<br>finished_trials = %{customdata[2]}<extra></extra>",
         "marker": {
          "color": [
           "red",
           "red",
           "orange",
           "yellow",
           "yellow",
           "yellow",
           "yellow",
           "lightgreen",
           "yellow",
           "yellow",
           "yellow",
           "yellow",
           "lightgreen",
           "lightgreen",
           "yellow",
           "yellow",
           "orange",
           "yellow",
           "yellow",
           "yellow",
           "lightgreen",
           "lightgreen",
           "yellow",
           "yellow",
           "yellow",
           "yellow"
          ],
          "line": {
           "color": "black",
           "width": 1
          },
          "size": 10
         },
         "mode": "markers",
         "name": "Mouse 684039",
         "showlegend": false,
         "type": "scattergl",
         "x": [
          1,
          2,
          3,
          4,
          5,
          6,
          7,
          8,
          9,
          10,
          11,
          12,
          13,
          14,
          15,
          16,
          17,
          18,
          19,
          20,
          21,
          22,
          23,
          24,
          25,
          26
         ],
         "y": [
          12,
          12,
          12,
          12,
          12,
          12,
          12,
          12,
          12,
          12,
          12,
          12,
          12,
          12,
          12,
          12,
          12,
          12,
          12,
          12,
          12,
          12,
          12,
          12,
          12,
          12
         ]
        },
        {
         "customdata": [
          [
           "STAGE_1",
           0.5593922651933703,
           181
          ],
          [
           "STAGE_1",
           0.7595486111111112,
           288
          ],
          [
           "STAGE_2",
           0.7361260094981129,
           398
          ],
          [
           "STAGE_3",
           0.6709679417846077,
           287
          ],
          [
           "STAGE_3",
           0.4212737833750959,
           271
          ],
          [
           "STAGE_2",
           0.7257580375333508,
           398
          ],
          [
           "STAGE_3",
           0.7740222755798445,
           580
          ],
          [
           "STAGE_FINAL",
           0.760800794223878,
           666
          ],
          [
           "STAGE_FINAL",
           0.7560728347906347,
           606
          ],
          [
           "STAGE_FINAL",
           0.8005513425049342,
           645
          ],
          [
           "STAGE_FINAL",
           0.8996330176896273,
           629
          ],
          [
           "STAGE_FINAL",
           0.7739696049560064,
           460
          ],
          [
           "GRADUATED",
           0.9254869572166888,
           535
          ],
          [
           "GRADUATED",
           0.7790593879367758,
           572
          ],
          [
           "GRADUATED",
           0.8032843080664005,
           634
          ],
          [
           "GRADUATED",
           0.7944325003325415,
           647
          ],
          [
           "GRADUATED",
           0.8393308069827233,
           677
          ],
          [
           "GRADUATED",
           0.6936732001554083,
           673
          ],
          [
           "GRADUATED",
           0.7235727262100111,
           668
          ],
          [
           "GRADUATED",
           0.767985806564751,
           657
          ],
          [
           "GRADUATED",
           0.8679394245422765,
           690
          ],
          [
           "GRADUATED",
           0.8288827056509882,
           677
          ],
          [
           "GRADUATED",
           0.7981903892583871,
           641
          ],
          [
           "GRADUATED",
           0.7376847965516181,
           689
          ],
          [
           "GRADUATED",
           0.7905842882245261,
           683
          ],
          [
           "GRADUATED",
           0.5336428354785351,
           668
          ]
         ],
         "hovertemplate": "<b>Subject 684041 (None)<br>Session %{x}<br>%{customdata[0]}</b><br>foraging_eff = %{customdata[1]}<br>finished_trials = %{customdata[2]}<extra></extra>",
         "marker": {
          "color": [
           "red",
           "red",
           "orange",
           "yellow",
           "yellow",
           "orange",
           "yellow",
           "lightgreen",
           "lightgreen",
           "lightgreen",
           "lightgreen",
           "lightgreen",
           "green",
           "green",
           "green",
           "green",
           "green",
           "green",
           "green",
           "green",
           "green",
           "green",
           "green",
           "green",
           "green",
           "green"
          ],
          "line": {
           "color": "black",
           "width": 1
          },
          "size": 10
         },
         "mode": "markers",
         "name": "Mouse 684041",
         "showlegend": false,
         "type": "scattergl",
         "x": [
          1,
          2,
          3,
          4,
          5,
          6,
          7,
          8,
          9,
          10,
          11,
          12,
          13,
          14,
          15,
          16,
          17,
          18,
          19,
          20,
          21,
          22,
          23,
          24,
          25,
          26
         ],
         "y": [
          13,
          13,
          13,
          13,
          13,
          13,
          13,
          13,
          13,
          13,
          13,
          13,
          13,
          13,
          13,
          13,
          13,
          13,
          13,
          13,
          13,
          13,
          13,
          13,
          13,
          13
         ]
        },
        {
         "customdata": [
          [
           "STAGE_1",
           0.7238666165754223,
           190
          ],
          [
           "STAGE_1",
           0.40044582027397996,
           363
          ],
          [
           "STAGE_1",
           0.603810689923889,
           100
          ],
          [
           "STAGE_1",
           0.6947568103848688,
           375
          ]
         ],
         "hovertemplate": "<b>Subject 684853 (None)<br>Session %{x}<br>%{customdata[0]}</b><br>foraging_eff = %{customdata[1]}<br>finished_trials = %{customdata[2]}<extra></extra>",
         "marker": {
          "color": [
           "red",
           "red",
           "red",
           "red"
          ],
          "line": {
           "color": "black",
           "width": 1
          },
          "size": 10
         },
         "mode": "markers",
         "name": "Mouse 684853",
         "showlegend": false,
         "type": "scattergl",
         "x": [
          1,
          2,
          3,
          4
         ],
         "y": [
          14,
          14,
          14,
          14
         ]
        },
        {
         "customdata": [
          [
           "STAGE_1",
           0.27985848391618157,
           154
          ],
          [
           "STAGE_1",
           0.619723686890069,
           273
          ],
          [
           "STAGE_2",
           0.7517794867768506,
           247
          ]
         ],
         "hovertemplate": "<b>Subject 684890 (None)<br>Session %{x}<br>%{customdata[0]}</b><br>foraging_eff = %{customdata[1]}<br>finished_trials = %{customdata[2]}<extra></extra>",
         "marker": {
          "color": [
           "red",
           "red",
           "orange"
          ],
          "line": {
           "color": "black",
           "width": 1
          },
          "size": 10
         },
         "mode": "markers",
         "name": "Mouse 684890",
         "showlegend": false,
         "type": "scattergl",
         "x": [
          1,
          2,
          3
         ],
         "y": [
          15,
          15,
          15
         ]
        },
        {
         "customdata": [
          [
           "STAGE_1",
           0.2832115010955429,
           92
          ],
          [
           "STAGE_1",
           0.6269875342930724,
           283
          ]
         ],
         "hovertemplate": "<b>Subject 684891 (None)<br>Session %{x}<br>%{customdata[0]}</b><br>foraging_eff = %{customdata[1]}<br>finished_trials = %{customdata[2]}<extra></extra>",
         "marker": {
          "color": [
           "red",
           "red"
          ],
          "line": {
           "color": "black",
           "width": 1
          },
          "size": 10
         },
         "mode": "markers",
         "name": "Mouse 684891",
         "showlegend": false,
         "type": "scattergl",
         "x": [
          1,
          2
         ],
         "y": [
          16,
          16
         ]
        },
        {
         "customdata": [
          [
           "STAGE_1",
           0.2657940195475528,
           122
          ],
          [
           "STAGE_1",
           0.580778942850465,
           396
          ],
          [
           "STAGE_1",
           0.6488389752157538,
           360
          ]
         ],
         "hovertemplate": "<b>Subject 685641 (None)<br>Session %{x}<br>%{customdata[0]}</b><br>foraging_eff = %{customdata[1]}<br>finished_trials = %{customdata[2]}<extra></extra>",
         "marker": {
          "color": [
           "red",
           "red",
           "red"
          ],
          "line": {
           "color": "black",
           "width": 1
          },
          "size": 10
         },
         "mode": "markers",
         "name": "Mouse 685641",
         "showlegend": false,
         "type": "scattergl",
         "x": [
          1,
          2,
          3
         ],
         "y": [
          17,
          17,
          17
         ]
        },
        {
         "customdata": [
          [
           "STAGE_1",
           0.24821547321252221,
           142
          ],
          [
           "STAGE_1",
           0.6269214068307203,
           294
          ],
          [
           "STAGE_2",
           0.6355705129220426,
           259
          ],
          [
           "STAGE_2",
           0.5104502427396665,
           352
          ]
         ],
         "hovertemplate": "<b>Subject 685642 (None)<br>Session %{x}<br>%{customdata[0]}</b><br>foraging_eff = %{customdata[1]}<br>finished_trials = %{customdata[2]}<extra></extra>",
         "marker": {
          "color": [
           "red",
           "red",
           "orange",
           "orange"
          ],
          "line": {
           "color": "black",
           "width": 1
          },
          "size": 10
         },
         "mode": "markers",
         "name": "Mouse 685642",
         "showlegend": false,
         "type": "scattergl",
         "x": [
          1,
          2,
          3,
          5
         ],
         "y": [
          18,
          18,
          18,
          18
         ]
        },
        {
         "customdata": [
          [
           "STAGE_1",
           0.4924242424242424,
           132
          ],
          [
           "STAGE_1",
           0.7138528021936639,
           179
          ],
          [
           "STAGE_1",
           0.7056832396421593,
           115
          ]
         ],
         "hovertemplate": "<b>Subject 685983 (None)<br>Session %{x}<br>%{customdata[0]}</b><br>foraging_eff = %{customdata[1]}<br>finished_trials = %{customdata[2]}<extra></extra>",
         "marker": {
          "color": [
           "red",
           "red",
           "red"
          ],
          "line": {
           "color": "black",
           "width": 1
          },
          "size": 10
         },
         "mode": "markers",
         "name": "Mouse 685983",
         "showlegend": false,
         "type": "scattergl",
         "x": [
          1,
          2,
          3
         ],
         "y": [
          19,
          19,
          19
         ]
        },
        {
         "customdata": [
          [
           "STAGE_1",
           null,
           0
          ]
         ],
         "hovertemplate": "<b>Subject 686837 (None)<br>Session %{x}<br>%{customdata[0]}</b><br>foraging_eff = %{customdata[1]}<br>finished_trials = %{customdata[2]}<extra></extra>",
         "marker": {
          "color": [
           "red"
          ],
          "line": {
           "color": "black",
           "width": 1
          },
          "size": 10
         },
         "mode": "markers",
         "name": "Mouse 686837",
         "showlegend": false,
         "type": "scattergl",
         "x": [
          1
         ],
         "y": [
          20
         ]
        },
        {
         "customdata": [
          [
           "STAGE_1",
           0.40887850467289716,
           214
          ],
          [
           "STAGE_1",
           0.6449835638762386,
           391
          ],
          [
           "STAGE_2",
           0.6179206032399617,
           394
          ]
         ],
         "hovertemplate": "<b>Subject 686868 (None)<br>Session %{x}<br>%{customdata[0]}</b><br>foraging_eff = %{customdata[1]}<br>finished_trials = %{customdata[2]}<extra></extra>",
         "marker": {
          "color": [
           "red",
           "red",
           "orange"
          ],
          "line": {
           "color": "black",
           "width": 1
          },
          "size": 10
         },
         "mode": "markers",
         "name": "Mouse 686868",
         "showlegend": false,
         "type": "scattergl",
         "x": [
          1,
          2,
          3
         ],
         "y": [
          21,
          21,
          21
         ]
        },
        {
         "customdata": [
          [
           "STAGE_1",
           0.5215231788079471,
           151
          ],
          [
           "STAGE_1",
           0.5361596009975061,
           401
          ],
          [
           "STAGE_1",
           0.7571473104541903,
           327
          ],
          [
           "STAGE_2",
           0.6101507193690029,
           390
          ],
          [
           "STAGE_2",
           0.7110858683299538,
           383
          ],
          [
           "STAGE_3",
           0.6907718413879419,
           454
          ],
          [
           "STAGE_3",
           0.7404157837138924,
           563
          ]
         ],
         "hovertemplate": "<b>Subject 687069 (None)<br>Session %{x}<br>%{customdata[0]}</b><br>foraging_eff = %{customdata[1]}<br>finished_trials = %{customdata[2]}<extra></extra>",
         "marker": {
          "color": [
           "red",
           "red",
           "red",
           "orange",
           "orange",
           "yellow",
           "yellow"
          ],
          "line": {
           "color": "black",
           "width": 1
          },
          "size": 10
         },
         "mode": "markers",
         "name": "Mouse 687069",
         "showlegend": false,
         "type": "scattergl",
         "x": [
          1,
          2,
          3,
          4,
          5,
          6,
          7
         ],
         "y": [
          22,
          22,
          22,
          22,
          22,
          22,
          22
         ]
        },
        {
         "customdata": [
          [
           "STAGE_1",
           0.5892857142857142,
           140
          ],
          [
           "STAGE_1",
           0.7942751113955274,
           186
          ],
          [
           "STAGE_1",
           0.7396345013058238,
           239
          ],
          [
           "STAGE_2",
           0.7309394627820138,
           300
          ],
          [
           "STAGE_3",
           0.8553188176974796,
           292
          ]
         ],
         "hovertemplate": "<b>Subject 687070 (None)<br>Session %{x}<br>%{customdata[0]}</b><br>foraging_eff = %{customdata[1]}<br>finished_trials = %{customdata[2]}<extra></extra>",
         "marker": {
          "color": [
           "red",
           "red",
           "red",
           "orange",
           "yellow"
          ],
          "line": {
           "color": "black",
           "width": 1
          },
          "size": 10
         },
         "mode": "markers",
         "name": "Mouse 687070",
         "showlegend": false,
         "type": "scattergl",
         "x": [
          1,
          2,
          3,
          4,
          5
         ],
         "y": [
          23,
          23,
          23,
          23,
          23
         ]
        },
        {
         "customdata": [
          [
           "STAGE_1",
           0.4754601226993866,
           163
          ],
          [
           "STAGE_1",
           0.5857591229082254,
           355
          ],
          [
           "STAGE_1",
           0.7502641530864247,
           363
          ],
          [
           "STAGE_2",
           0.6646635450161616,
           447
          ],
          [
           "STAGE_3",
           0.8094890099446546,
           384
          ],
          [
           "STAGE_3",
           0.7659641099148933,
           335
          ],
          [
           "STAGE_3",
           0.825500723457274,
           490
          ],
          [
           "STAGE_FINAL",
           0.8608400530797019,
           406
          ],
          [
           "STAGE_FINAL",
           0.831080786223543,
           493
          ],
          [
           "STAGE_FINAL",
           0.7822835070055562,
           483
          ]
         ],
         "hovertemplate": "<b>Subject 687552 (None)<br>Session %{x}<br>%{customdata[0]}</b><br>foraging_eff = %{customdata[1]}<br>finished_trials = %{customdata[2]}<extra></extra>",
         "marker": {
          "color": [
           "red",
           "red",
           "red",
           "orange",
           "yellow",
           "yellow",
           "yellow",
           "lightgreen",
           "lightgreen",
           "lightgreen"
          ],
          "line": {
           "color": "black",
           "width": 1
          },
          "size": 10
         },
         "mode": "markers",
         "name": "Mouse 687552",
         "showlegend": false,
         "type": "scattergl",
         "x": [
          1,
          2,
          3,
          4,
          5,
          6,
          7,
          8,
          9,
          10
         ],
         "y": [
          24,
          24,
          24,
          24,
          24,
          24,
          24,
          24,
          24,
          24
         ]
        },
        {
         "customdata": [
          [
           "STAGE_1",
           0.5131578947368421,
           190
          ],
          [
           "STAGE_1",
           0.7228492293293586,
           245
          ],
          [
           "STAGE_2",
           0.7617187500000001,
           192
          ],
          [
           "STAGE_1",
           0.7565163543621451,
           220
          ],
          [
           "STAGE_2",
           0.8034403820682883,
           369
          ],
          [
           "STAGE_3",
           0.7828097757663753,
           342
          ],
          [
           "STAGE_3",
           0.8765714734331902,
           219
          ],
          [
           "STAGE_3",
           0.8780048110753664,
           239
          ],
          [
           "STAGE_3",
           0.8866450292462486,
           402
          ],
          [
           "STAGE_FINAL",
           0.6846299584630094,
           491
          ]
         ],
         "hovertemplate": "<b>Subject 687553 (None)<br>Session %{x}<br>%{customdata[0]}</b><br>foraging_eff = %{customdata[1]}<br>finished_trials = %{customdata[2]}<extra></extra>",
         "marker": {
          "color": [
           "red",
           "red",
           "orange",
           "red",
           "orange",
           "yellow",
           "yellow",
           "yellow",
           "yellow",
           "lightgreen"
          ],
          "line": {
           "color": "black",
           "width": 1
          },
          "size": 10
         },
         "mode": "markers",
         "name": "Mouse 687553",
         "showlegend": false,
         "type": "scattergl",
         "x": [
          1,
          2,
          3,
          4,
          5,
          6,
          7,
          8,
          9,
          10
         ],
         "y": [
          25,
          25,
          25,
          25,
          25,
          25,
          25,
          25,
          25,
          25
         ]
        },
        {
         "customdata": [
          [
           "STAGE_1",
           0,
           79
          ],
          [
           "STAGE_1",
           0.6302083333333333,
           240
          ],
          [
           "STAGE_2",
           0.8560706362139978,
           143
          ],
          [
           "STAGE_1",
           0.59356998003518,
           241
          ],
          [
           "STAGE_1",
           0.6993202908398158,
           297
          ],
          [
           "STAGE_2",
           0.7413046123174801,
           321
          ],
          [
           "STAGE_3",
           0.7743716071380325,
           259
          ],
          [
           "STAGE_3",
           0.7293222656413244,
           271
          ],
          [
           "STAGE_3",
           0.7187139417774507,
           360
          ],
          [
           "STAGE_3",
           0.7655474317178359,
           399
          ],
          [
           "STAGE_3",
           0.9026301273502183,
           424
          ]
         ],
         "hovertemplate": "<b>Subject 687582 (None)<br>Session %{x}<br>%{customdata[0]}</b><br>foraging_eff = %{customdata[1]}<br>finished_trials = %{customdata[2]}<extra></extra>",
         "marker": {
          "color": [
           "red",
           "red",
           "orange",
           "red",
           "red",
           "orange",
           "yellow",
           "yellow",
           "yellow",
           "yellow",
           "yellow"
          ],
          "line": {
           "color": "black",
           "width": 1
          },
          "size": 10
         },
         "mode": "markers",
         "name": "Mouse 687582",
         "showlegend": false,
         "type": "scattergl",
         "x": [
          1,
          2,
          3,
          4,
          5,
          6,
          7,
          8,
          9,
          10,
          11
         ],
         "y": [
          26,
          26,
          26,
          26,
          26,
          26,
          26,
          26,
          26,
          26,
          26
         ]
        },
        {
         "customdata": [
          [
           "STAGE_1",
           0.6950431034482758,
           232
          ],
          [
           "STAGE_2",
           0.7165963433843928,
           304
          ],
          [
           "STAGE_3",
           0.7557166541989716,
           344
          ]
         ],
         "hovertemplate": "<b>Subject 689514 (None)<br>Session %{x}<br>%{customdata[0]}</b><br>foraging_eff = %{customdata[1]}<br>finished_trials = %{customdata[2]}<extra></extra>",
         "marker": {
          "color": [
           "red",
           "orange",
           "yellow"
          ],
          "line": {
           "color": "black",
           "width": 1
          },
          "size": 10
         },
         "mode": "markers",
         "name": "Mouse 689514",
         "showlegend": false,
         "type": "scattergl",
         "x": [
          1,
          2,
          3
         ],
         "y": [
          27,
          27,
          27
         ]
        },
        {
         "customdata": [
          [
           "STAGE_1",
           0.5156249999999999,
           160
          ],
          [
           "STAGE_1",
           0.635192757356843,
           350
          ],
          [
           "STAGE_2",
           0.8468484852135486,
           345
          ]
         ],
         "hovertemplate": "<b>Subject 689515 (None)<br>Session %{x}<br>%{customdata[0]}</b><br>foraging_eff = %{customdata[1]}<br>finished_trials = %{customdata[2]}<extra></extra>",
         "marker": {
          "color": [
           "red",
           "red",
           "orange"
          ],
          "line": {
           "color": "black",
           "width": 1
          },
          "size": 10
         },
         "mode": "markers",
         "name": "Mouse 689515",
         "showlegend": false,
         "type": "scattergl",
         "x": [
          1,
          2,
          3
         ],
         "y": [
          28,
          28,
          28
         ]
        },
        {
         "customdata": [
          [
           "STAGE_1",
           null,
           0
          ],
          [
           "STAGE_1",
           0.17532788348563288,
           266
          ],
          [
           "STAGE_1",
           0.7735126627038295,
           302
          ],
          [
           "STAGE_2",
           0.8123891053455787,
           333
          ],
          [
           "STAGE_3",
           0.7490645649272908,
           441
          ],
          [
           "STAGE_FINAL",
           0.7633127267897152,
           417
          ],
          [
           "STAGE_FINAL",
           0.6491572707947858,
           385
          ],
          [
           "STAGE_FINAL",
           0.7179424278425065,
           289
          ],
          [
           "STAGE_3",
           0.8316229699537561,
           258
          ],
          [
           "STAGE_3",
           0.8272941054485023,
           285
          ],
          [
           "STAGE_3",
           0.6856267160620726,
           270
          ],
          [
           "STAGE_3",
           0.704411311700218,
           297
          ]
         ],
         "hovertemplate": "<b>Subject 689726 (None)<br>Session %{x}<br>%{customdata[0]}</b><br>foraging_eff = %{customdata[1]}<br>finished_trials = %{customdata[2]}<extra></extra>",
         "marker": {
          "color": [
           "red",
           "red",
           "red",
           "orange",
           "yellow",
           "lightgreen",
           "lightgreen",
           "lightgreen",
           "yellow",
           "yellow",
           "yellow",
           "yellow"
          ],
          "line": {
           "color": "black",
           "width": 1
          },
          "size": 10
         },
         "mode": "markers",
         "name": "Mouse 689726",
         "showlegend": false,
         "type": "scattergl",
         "x": [
          1,
          2,
          3,
          4,
          5,
          6,
          7,
          8,
          9,
          10,
          11,
          12
         ],
         "y": [
          29,
          29,
          29,
          29,
          29,
          29,
          29,
          29,
          29,
          29,
          29,
          29
         ]
        },
        {
         "customdata": [
          [
           "STAGE_1",
           0.14701917034863965,
           172
          ],
          [
           "STAGE_1",
           0.6233707133429421,
           237
          ],
          [
           "STAGE_2",
           0.7421967966016247,
           341
          ],
          [
           "STAGE_3",
           0.4932015348974507,
           251
          ],
          [
           "STAGE_2",
           0.8616241154313281,
           265
          ],
          [
           "STAGE_2",
           0.5551061561228727,
           280
          ],
          [
           "STAGE_2",
           0.8828462936141088,
           282
          ],
          [
           "STAGE_2",
           0.687742140329223,
           230
          ],
          [
           "STAGE_2",
           0.6759910674169075,
           391
          ],
          [
           "STAGE_3",
           0.7741088898591116,
           253
          ],
          [
           "STAGE_3",
           0.8606976400656531,
           286
          ],
          [
           "STAGE_3",
           0.7167502424829766,
           366
          ]
         ],
         "hovertemplate": "<b>Subject 689727 (None)<br>Session %{x}<br>%{customdata[0]}</b><br>foraging_eff = %{customdata[1]}<br>finished_trials = %{customdata[2]}<extra></extra>",
         "marker": {
          "color": [
           "red",
           "red",
           "orange",
           "yellow",
           "orange",
           "orange",
           "orange",
           "orange",
           "orange",
           "yellow",
           "yellow",
           "yellow"
          ],
          "line": {
           "color": "black",
           "width": 1
          },
          "size": 10
         },
         "mode": "markers",
         "name": "Mouse 689727",
         "showlegend": false,
         "type": "scattergl",
         "x": [
          1,
          2,
          3,
          4,
          5,
          6,
          7,
          8,
          9,
          10,
          11,
          12
         ],
         "y": [
          30,
          30,
          30,
          30,
          30,
          30,
          30,
          30,
          30,
          30,
          30,
          30
         ]
        },
        {
         "customdata": [
          [
           "STAGE_1",
           0.12635421852405,
           387
          ],
          [
           "STAGE_1",
           0.626873855853679,
           410
          ],
          [
           "STAGE_2",
           0.6846301849431178,
           442
          ],
          [
           "STAGE_3",
           0.8212450263931309,
           340
          ],
          [
           "STAGE_3",
           0.7377597505349847,
           440
          ]
         ],
         "hovertemplate": "<b>Subject 689729 (None)<br>Session %{x}<br>%{customdata[0]}</b><br>foraging_eff = %{customdata[1]}<br>finished_trials = %{customdata[2]}<extra></extra>",
         "marker": {
          "color": [
           "red",
           "red",
           "orange",
           "yellow",
           "yellow"
          ],
          "line": {
           "color": "black",
           "width": 1
          },
          "size": 10
         },
         "mode": "markers",
         "name": "Mouse 689729",
         "showlegend": false,
         "type": "scattergl",
         "x": [
          1,
          2,
          3,
          4,
          5
         ],
         "y": [
          31,
          31,
          31,
          31,
          31
         ]
        },
        {
         "customdata": [
          [
           "STAGE_1",
           0.2614802486470839,
           48
          ],
          [
           "STAGE_1",
           0.6565126050420169,
           238
          ],
          [
           "STAGE_2",
           0.6193693693693694,
           333
          ],
          [
           "STAGE_2",
           0.7246932515337423,
           326
          ],
          [
           "STAGE_3",
           0.7492769634113113,
           380
          ],
          [
           "STAGE_3",
           0.7920745393265354,
           323
          ],
          [
           "STAGE_3",
           0.8289290952201267,
           388
          ],
          [
           "STAGE_3",
           0.8213873620313721,
           420
          ],
          [
           "STAGE_FINAL",
           0.9392284466409865,
           396
          ],
          [
           "STAGE_FINAL",
           0.7822736781251161,
           294
          ],
          [
           "STAGE_3",
           0.7038950976170908,
           388
          ],
          [
           "STAGE_3",
           0.8254137706687807,
           357
          ],
          [
           "STAGE_3",
           1.3067526214135463,
           11
          ],
          [
           "STAGE_2",
           0.70511278152469,
           502
          ],
          [
           "STAGE_3",
           0.6482347295692503,
           413
          ],
          [
           "STAGE_3",
           0.6957247752896198,
           594
          ],
          [
           "STAGE_3",
           0.6754101341343848,
           556
          ],
          [
           "STAGE_3",
           0.8435287675441453,
           524
          ],
          [
           "STAGE_FINAL",
           0.7567297490770563,
           501
          ],
          [
           "STAGE_FINAL",
           0.7037407346570871,
           600
          ],
          [
           "STAGE_FINAL",
           0.6546425438670577,
           516
          ],
          [
           "STAGE_FINAL",
           0.7478764184726088,
           382
          ],
          [
           "STAGE_FINAL",
           0.7361129757497167,
           537
          ],
          [
           "GRADUATED",
           0.7812108062798374,
           92
          ],
          [
           "GRADUATED",
           0.852462344030514,
           489
          ],
          [
           "GRADUATED",
           0.8598752517860616,
           408
          ],
          [
           "GRADUATED",
           0.8157526140220445,
           448
          ],
          [
           "GRADUATED",
           0.8736981656779739,
           591
          ],
          [
           "GRADUATED",
           0.8434364294572533,
           615
          ],
          [
           "GRADUATED",
           0.8804865311347613,
           640
          ],
          [
           "GRADUATED",
           0.8564930378775019,
           659
          ],
          [
           "GRADUATED",
           0.8319725270850529,
           641
          ],
          [
           "GRADUATED",
           0.7704547380288482,
           502
          ],
          [
           "GRADUATED",
           0.9122442292657013,
           600
          ],
          [
           "GRADUATED",
           0.849081275178488,
           663
          ],
          [
           "GRADUATED",
           0.8097873966050171,
           603
          ],
          [
           "GRADUATED",
           0.8690781765821917,
           655
          ]
         ],
         "hovertemplate": "<b>Subject 689798 (None)<br>Session %{x}<br>%{customdata[0]}</b><br>foraging_eff = %{customdata[1]}<br>finished_trials = %{customdata[2]}<extra></extra>",
         "marker": {
          "color": [
           "red",
           "red",
           "orange",
           "orange",
           "yellow",
           "yellow",
           "yellow",
           "yellow",
           "lightgreen",
           "lightgreen",
           "yellow",
           "yellow",
           "yellow",
           "orange",
           "yellow",
           "yellow",
           "yellow",
           "yellow",
           "lightgreen",
           "lightgreen",
           "lightgreen",
           "lightgreen",
           "lightgreen",
           "green",
           "green",
           "green",
           "green",
           "green",
           "green",
           "green",
           "green",
           "green",
           "green",
           "green",
           "green",
           "green",
           "green"
          ],
          "line": {
           "color": "black",
           "width": 1
          },
          "size": 10
         },
         "mode": "markers",
         "name": "Mouse 689798",
         "showlegend": false,
         "type": "scattergl",
         "x": [
          1,
          2,
          3,
          4,
          5,
          6,
          7,
          8,
          9,
          10,
          11,
          12,
          13,
          14,
          15,
          16,
          17,
          18,
          19,
          20,
          21,
          22,
          23,
          24,
          25,
          26,
          27,
          28,
          29,
          30,
          31,
          32,
          33,
          34,
          35,
          36,
          37
         ],
         "y": [
          32,
          32,
          32,
          32,
          32,
          32,
          32,
          32,
          32,
          32,
          32,
          32,
          32,
          32,
          32,
          32,
          32,
          32,
          32,
          32,
          32,
          32,
          32,
          32,
          32,
          32,
          32,
          32,
          32,
          32,
          32,
          32,
          32,
          32,
          32,
          32,
          32
         ]
        },
        {
         "customdata": [
          [
           "STAGE_1",
           0,
           161
          ],
          [
           "STAGE_1",
           0.3837209302325582,
           215
          ],
          [
           "STAGE_1",
           0.39299242424242425,
           264
          ],
          [
           "STAGE_1",
           0.619747899159664,
           238
          ],
          [
           "STAGE_2",
           0.6025176099714229,
           347
          ],
          [
           "STAGE_2",
           0.7518174950182809,
           322
          ],
          [
           "STAGE_3",
           0.8575564078026401,
           484
          ],
          [
           "STAGE_FINAL",
           0.8095978268568664,
           344
          ],
          [
           "STAGE_FINAL",
           0.7467157836648838,
           462
          ],
          [
           "STAGE_FINAL",
           0.8600340988685223,
           445
          ],
          [
           "STAGE_FINAL",
           0.6814416764532463,
           519
          ],
          [
           "STAGE_FINAL",
           0.7813198435768041,
           341
          ],
          [
           "STAGE_FINAL",
           0.8420672144743684,
           14
          ],
          [
           "STAGE_3",
           0.7554670203242911,
           387
          ],
          [
           "STAGE_3",
           0.8332377718371613,
           515
          ],
          [
           "STAGE_FINAL",
           0.6720798141692622,
           428
          ],
          [
           "STAGE_FINAL",
           0.5919553354517687,
           470
          ],
          [
           "STAGE_FINAL",
           0.5223555159706855,
           492
          ],
          [
           "STAGE_3",
           null,
           0
          ],
          [
           "STAGE_2",
           0.6777447863866576,
           494
          ],
          [
           "STAGE_3",
           0.6908453139543967,
           529
          ],
          [
           "STAGE_3",
           0.7696407079444486,
           386
          ],
          [
           "STAGE_3",
           0.7394497044667393,
           558
          ],
          [
           "STAGE_FINAL",
           0.680204699666167,
           617
          ],
          [
           "STAGE_FINAL",
           0.8680414270601446,
           603
          ],
          [
           "STAGE_FINAL",
           0.7416315612570619,
           550
          ],
          [
           "STAGE_FINAL",
           0.8050053564910303,
           618
          ],
          [
           "STAGE_FINAL",
           0.6763227643353563,
           631
          ],
          [
           "GRADUATED",
           0.616366679193207,
           635
          ],
          [
           "GRADUATED",
           0.8077987400070635,
           575
          ],
          [
           "GRADUATED",
           0.748556001983928,
           614
          ],
          [
           "GRADUATED",
           0.7033605728350517,
           601
          ],
          [
           "GRADUATED",
           0.6245082233978702,
           610
          ],
          [
           "GRADUATED",
           0.7271143912003271,
           649
          ],
          [
           "GRADUATED",
           0.9068611350368618,
           565
          ],
          [
           "GRADUATED",
           0.7659868146470857,
           626
          ],
          [
           "GRADUATED",
           0.7826504023906324,
           614
          ]
         ],
         "hovertemplate": "<b>Subject 689799 (None)<br>Session %{x}<br>%{customdata[0]}</b><br>foraging_eff = %{customdata[1]}<br>finished_trials = %{customdata[2]}<extra></extra>",
         "marker": {
          "color": [
           "red",
           "red",
           "red",
           "red",
           "orange",
           "orange",
           "yellow",
           "lightgreen",
           "lightgreen",
           "lightgreen",
           "lightgreen",
           "lightgreen",
           "lightgreen",
           "yellow",
           "yellow",
           "lightgreen",
           "lightgreen",
           "lightgreen",
           "yellow",
           "orange",
           "yellow",
           "yellow",
           "yellow",
           "lightgreen",
           "lightgreen",
           "lightgreen",
           "lightgreen",
           "lightgreen",
           "green",
           "green",
           "green",
           "green",
           "green",
           "green",
           "green",
           "green",
           "green"
          ],
          "line": {
           "color": "black",
           "width": 1
          },
          "size": 10
         },
         "mode": "markers",
         "name": "Mouse 689799",
         "showlegend": false,
         "type": "scattergl",
         "x": [
          1,
          2,
          3,
          4,
          5,
          6,
          7,
          8,
          9,
          10,
          11,
          12,
          13,
          14,
          15,
          16,
          17,
          18,
          19,
          20,
          21,
          22,
          23,
          24,
          25,
          26,
          27,
          28,
          29,
          30,
          31,
          32,
          33,
          34,
          35,
          36,
          37
         ],
         "y": [
          33,
          33,
          33,
          33,
          33,
          33,
          33,
          33,
          33,
          33,
          33,
          33,
          33,
          33,
          33,
          33,
          33,
          33,
          33,
          33,
          33,
          33,
          33,
          33,
          33,
          33,
          33,
          33,
          33,
          33,
          33,
          33,
          33,
          33,
          33,
          33,
          33
         ]
        },
        {
         "customdata": [
          [
           "STAGE_1",
           0.30328541606737097,
           259
          ],
          [
           "STAGE_1",
           0.6163194444444445,
           288
          ],
          [
           "STAGE_2",
           0.7602611940298509,
           268
          ],
          [
           "STAGE_2",
           0.7359483651186544,
           428
          ],
          [
           "STAGE_3",
           0.704681326615412,
           589
          ],
          [
           "STAGE_FINAL",
           0.7417208714161728,
           480
          ],
          [
           "STAGE_FINAL",
           0.93510464483761,
           515
          ],
          [
           "STAGE_FINAL",
           0.7445416330661245,
           565
          ],
          [
           "STAGE_FINAL",
           0.7248720819294688,
           584
          ],
          [
           "STAGE_FINAL",
           0.741721527181335,
           608
          ],
          [
           "GRADUATED",
           0.7003944670450062,
           618
          ]
         ],
         "hovertemplate": "<b>Subject 694688 (None)<br>Session %{x}<br>%{customdata[0]}</b><br>foraging_eff = %{customdata[1]}<br>finished_trials = %{customdata[2]}<extra></extra>",
         "marker": {
          "color": [
           "red",
           "red",
           "orange",
           "orange",
           "yellow",
           "lightgreen",
           "lightgreen",
           "lightgreen",
           "lightgreen",
           "lightgreen",
           "green"
          ],
          "line": {
           "color": "black",
           "width": 1
          },
          "size": 10
         },
         "mode": "markers",
         "name": "Mouse 694688",
         "showlegend": false,
         "type": "scattergl",
         "x": [
          1,
          2,
          3,
          4,
          5,
          6,
          7,
          8,
          9,
          10,
          11
         ],
         "y": [
          34,
          34,
          34,
          34,
          34,
          34,
          34,
          34,
          34,
          34,
          34
         ]
        },
        {
         "customdata": [
          [
           "STAGE_1",
           0.527572046290793,
           199
          ],
          [
           "STAGE_1",
           0.576960178777834,
           224
          ],
          [
           "STAGE_1",
           0.6591460701399164,
           184
          ],
          [
           "STAGE_1",
           0.7880002442138823,
           254
          ],
          [
           "STAGE_2",
           0.919783309023845,
           248
          ]
         ],
         "hovertemplate": "<b>Subject 694874 (None)<br>Session %{x}<br>%{customdata[0]}</b><br>foraging_eff = %{customdata[1]}<br>finished_trials = %{customdata[2]}<extra></extra>",
         "marker": {
          "color": [
           "red",
           "red",
           "red",
           "red",
           "orange"
          ],
          "line": {
           "color": "black",
           "width": 1
          },
          "size": 10
         },
         "mode": "markers",
         "name": "Mouse 694874",
         "showlegend": false,
         "type": "scattergl",
         "x": [
          1,
          2,
          3,
          9,
          10
         ],
         "y": [
          35,
          35,
          35,
          35,
          35
         ]
        },
        {
         "customdata": [
          [
           "STAGE_1",
           0.43290091995664615,
           318
          ],
          [
           "STAGE_1",
           0.738086520130299,
           283
          ],
          [
           "STAGE_2",
           0.6674757281553401,
           309
          ]
         ],
         "hovertemplate": "<b>Subject 695329 (None)<br>Session %{x}<br>%{customdata[0]}</b><br>foraging_eff = %{customdata[1]}<br>finished_trials = %{customdata[2]}<extra></extra>",
         "marker": {
          "color": [
           "red",
           "red",
           "orange"
          ],
          "line": {
           "color": "black",
           "width": 1
          },
          "size": 10
         },
         "mode": "markers",
         "name": "Mouse 695329",
         "showlegend": false,
         "type": "scattergl",
         "x": [
          1,
          2,
          3
         ],
         "y": [
          36,
          36,
          36
         ]
        },
        {
         "customdata": [
          [
           "STAGE_1",
           0.32722341667849003,
           236
          ],
          [
           "STAGE_1",
           0.6730769230769232,
           234
          ],
          [
           "STAGE_2",
           0.7333948339483397,
           271
          ]
         ],
         "hovertemplate": "<b>Subject 695810 (None)<br>Session %{x}<br>%{customdata[0]}</b><br>foraging_eff = %{customdata[1]}<br>finished_trials = %{customdata[2]}<extra></extra>",
         "marker": {
          "color": [
           "red",
           "red",
           "orange"
          ],
          "line": {
           "color": "black",
           "width": 1
          },
          "size": 10
         },
         "mode": "markers",
         "name": "Mouse 695810",
         "showlegend": false,
         "type": "scattergl",
         "x": [
          1,
          2,
          3
         ],
         "y": [
          37,
          37,
          37
         ]
        },
        {
         "customdata": [
          [
           "STAGE_1",
           0.5559593023255814,
           344
          ]
         ],
         "hovertemplate": "<b>Subject 695950 (None)<br>Session %{x}<br>%{customdata[0]}</b><br>foraging_eff = %{customdata[1]}<br>finished_trials = %{customdata[2]}<extra></extra>",
         "marker": {
          "color": [
           "red"
          ],
          "line": {
           "color": "black",
           "width": 1
          },
          "size": 10
         },
         "mode": "markers",
         "name": "Mouse 695950",
         "showlegend": false,
         "type": "scattergl",
         "x": [
          1
         ],
         "y": [
          38
         ]
        },
        {
         "customdata": [
          [
           "STAGE_1",
           0.06586752538403463,
           246
          ],
          [
           "STAGE_1",
           0.6997607655502392,
           209
          ],
          [
           "STAGE_2",
           0.6941696369678138,
           428
          ],
          [
           "STAGE_3",
           0.7371425043871288,
           507
          ],
          [
           "STAGE_FINAL",
           0.8056007211237853,
           426
          ],
          [
           "STAGE_FINAL",
           0.8106344500833802,
           509
          ],
          [
           "STAGE_FINAL",
           0.9329742556928916,
           465
          ],
          [
           "STAGE_FINAL",
           0.7561429428982834,
           548
          ],
          [
           "STAGE_FINAL",
           0.6794178653673294,
           459
          ]
         ],
         "hovertemplate": "<b>Subject 697062 (None)<br>Session %{x}<br>%{customdata[0]}</b><br>foraging_eff = %{customdata[1]}<br>finished_trials = %{customdata[2]}<extra></extra>",
         "marker": {
          "color": [
           "red",
           "red",
           "orange",
           "yellow",
           "lightgreen",
           "lightgreen",
           "lightgreen",
           "lightgreen",
           "lightgreen"
          ],
          "line": {
           "color": "black",
           "width": 1
          },
          "size": 10
         },
         "mode": "markers",
         "name": "Mouse 697062",
         "showlegend": false,
         "type": "scattergl",
         "x": [
          1,
          2,
          3,
          4,
          5,
          6,
          7,
          8,
          9
         ],
         "y": [
          39,
          39,
          39,
          39,
          39,
          39,
          39,
          39,
          39
         ]
        },
        {
         "customdata": [
          [
           "STAGE_1",
           0,
           69
          ],
          [
           "STAGE_1",
           0.6286467371649099,
           156
          ],
          [
           "STAGE_1",
           0.7399156820093707,
           145
          ]
         ],
         "hovertemplate": "<b>Subject 699979 (None)<br>Session %{x}<br>%{customdata[0]}</b><br>foraging_eff = %{customdata[1]}<br>finished_trials = %{customdata[2]}<extra></extra>",
         "marker": {
          "color": [
           "red",
           "red",
           "red"
          ],
          "line": {
           "color": "black",
           "width": 1
          },
          "size": 10
         },
         "mode": "markers",
         "name": "Mouse 699979",
         "showlegend": false,
         "type": "scattergl",
         "x": [
          1,
          2,
          3
         ],
         "y": [
          40,
          40,
          40
         ]
        },
        {
         "customdata": [
          [
           "STAGE_1",
           0,
           119
          ],
          [
           "STAGE_1",
           0.6889601735619,
           246
          ],
          [
           "STAGE_2",
           0.9273627050593143,
           221
          ],
          [
           "STAGE_2",
           0.6232663146733582,
           128
          ],
          [
           "STAGE_1",
           0.8519435509960616,
           289
          ],
          [
           "STAGE_2",
           0.7403136438452199,
           528
          ],
          [
           "STAGE_3",
           0.8261208879350935,
           487
          ],
          [
           "STAGE_FINAL",
           0.8781558093804128,
           392
          ],
          [
           "STAGE_FINAL",
           0.7607796593704427,
           375
          ],
          [
           "STAGE_3",
           0.7913496029359122,
           435
          ],
          [
           "STAGE_FINAL",
           0.905918621577005,
           393
          ],
          [
           "STAGE_FINAL",
           0.969557764703198,
           321
          ],
          [
           "STAGE_3",
           0.8263405625760272,
           395
          ],
          [
           "STAGE_3",
           1.010970765969712,
           420
          ],
          [
           "STAGE_FINAL",
           0.7526466681666814,
           455
          ],
          [
           "STAGE_FINAL",
           0.8243465314384091,
           466
          ]
         ],
         "hovertemplate": "<b>Subject 699982 (None)<br>Session %{x}<br>%{customdata[0]}</b><br>foraging_eff = %{customdata[1]}<br>finished_trials = %{customdata[2]}<extra></extra>",
         "marker": {
          "color": [
           "red",
           "red",
           "orange",
           "orange",
           "red",
           "orange",
           "yellow",
           "lightgreen",
           "lightgreen",
           "yellow",
           "lightgreen",
           "lightgreen",
           "yellow",
           "yellow",
           "lightgreen",
           "lightgreen"
          ],
          "line": {
           "color": "black",
           "width": 1
          },
          "size": 10
         },
         "mode": "markers",
         "name": "Mouse 699982",
         "showlegend": false,
         "type": "scattergl",
         "x": [
          1,
          2,
          3,
          4,
          5,
          6,
          7,
          8,
          9,
          10,
          11,
          12,
          13,
          14,
          15,
          16
         ],
         "y": [
          41,
          41,
          41,
          41,
          41,
          41,
          41,
          41,
          41,
          41,
          41,
          41,
          41,
          41,
          41,
          41
         ]
        }
       ],
       "layout": {
        "height": 1200,
        "template": {
         "data": {
          "bar": [
           {
            "error_x": {
             "color": "#2a3f5f"
            },
            "error_y": {
             "color": "#2a3f5f"
            },
            "marker": {
             "line": {
              "color": "#E5ECF6",
              "width": 0.5
             },
             "pattern": {
              "fillmode": "overlay",
              "size": 10,
              "solidity": 0.2
             }
            },
            "type": "bar"
           }
          ],
          "barpolar": [
           {
            "marker": {
             "line": {
              "color": "#E5ECF6",
              "width": 0.5
             },
             "pattern": {
              "fillmode": "overlay",
              "size": 10,
              "solidity": 0.2
             }
            },
            "type": "barpolar"
           }
          ],
          "carpet": [
           {
            "aaxis": {
             "endlinecolor": "#2a3f5f",
             "gridcolor": "white",
             "linecolor": "white",
             "minorgridcolor": "white",
             "startlinecolor": "#2a3f5f"
            },
            "baxis": {
             "endlinecolor": "#2a3f5f",
             "gridcolor": "white",
             "linecolor": "white",
             "minorgridcolor": "white",
             "startlinecolor": "#2a3f5f"
            },
            "type": "carpet"
           }
          ],
          "choropleth": [
           {
            "colorbar": {
             "outlinewidth": 0,
             "ticks": ""
            },
            "type": "choropleth"
           }
          ],
          "contour": [
           {
            "colorbar": {
             "outlinewidth": 0,
             "ticks": ""
            },
            "colorscale": [
             [
              0,
              "#0d0887"
             ],
             [
              0.1111111111111111,
              "#46039f"
             ],
             [
              0.2222222222222222,
              "#7201a8"
             ],
             [
              0.3333333333333333,
              "#9c179e"
             ],
             [
              0.4444444444444444,
              "#bd3786"
             ],
             [
              0.5555555555555556,
              "#d8576b"
             ],
             [
              0.6666666666666666,
              "#ed7953"
             ],
             [
              0.7777777777777778,
              "#fb9f3a"
             ],
             [
              0.8888888888888888,
              "#fdca26"
             ],
             [
              1,
              "#f0f921"
             ]
            ],
            "type": "contour"
           }
          ],
          "contourcarpet": [
           {
            "colorbar": {
             "outlinewidth": 0,
             "ticks": ""
            },
            "type": "contourcarpet"
           }
          ],
          "heatmap": [
           {
            "colorbar": {
             "outlinewidth": 0,
             "ticks": ""
            },
            "colorscale": [
             [
              0,
              "#0d0887"
             ],
             [
              0.1111111111111111,
              "#46039f"
             ],
             [
              0.2222222222222222,
              "#7201a8"
             ],
             [
              0.3333333333333333,
              "#9c179e"
             ],
             [
              0.4444444444444444,
              "#bd3786"
             ],
             [
              0.5555555555555556,
              "#d8576b"
             ],
             [
              0.6666666666666666,
              "#ed7953"
             ],
             [
              0.7777777777777778,
              "#fb9f3a"
             ],
             [
              0.8888888888888888,
              "#fdca26"
             ],
             [
              1,
              "#f0f921"
             ]
            ],
            "type": "heatmap"
           }
          ],
          "heatmapgl": [
           {
            "colorbar": {
             "outlinewidth": 0,
             "ticks": ""
            },
            "colorscale": [
             [
              0,
              "#0d0887"
             ],
             [
              0.1111111111111111,
              "#46039f"
             ],
             [
              0.2222222222222222,
              "#7201a8"
             ],
             [
              0.3333333333333333,
              "#9c179e"
             ],
             [
              0.4444444444444444,
              "#bd3786"
             ],
             [
              0.5555555555555556,
              "#d8576b"
             ],
             [
              0.6666666666666666,
              "#ed7953"
             ],
             [
              0.7777777777777778,
              "#fb9f3a"
             ],
             [
              0.8888888888888888,
              "#fdca26"
             ],
             [
              1,
              "#f0f921"
             ]
            ],
            "type": "heatmapgl"
           }
          ],
          "histogram": [
           {
            "marker": {
             "pattern": {
              "fillmode": "overlay",
              "size": 10,
              "solidity": 0.2
             }
            },
            "type": "histogram"
           }
          ],
          "histogram2d": [
           {
            "colorbar": {
             "outlinewidth": 0,
             "ticks": ""
            },
            "colorscale": [
             [
              0,
              "#0d0887"
             ],
             [
              0.1111111111111111,
              "#46039f"
             ],
             [
              0.2222222222222222,
              "#7201a8"
             ],
             [
              0.3333333333333333,
              "#9c179e"
             ],
             [
              0.4444444444444444,
              "#bd3786"
             ],
             [
              0.5555555555555556,
              "#d8576b"
             ],
             [
              0.6666666666666666,
              "#ed7953"
             ],
             [
              0.7777777777777778,
              "#fb9f3a"
             ],
             [
              0.8888888888888888,
              "#fdca26"
             ],
             [
              1,
              "#f0f921"
             ]
            ],
            "type": "histogram2d"
           }
          ],
          "histogram2dcontour": [
           {
            "colorbar": {
             "outlinewidth": 0,
             "ticks": ""
            },
            "colorscale": [
             [
              0,
              "#0d0887"
             ],
             [
              0.1111111111111111,
              "#46039f"
             ],
             [
              0.2222222222222222,
              "#7201a8"
             ],
             [
              0.3333333333333333,
              "#9c179e"
             ],
             [
              0.4444444444444444,
              "#bd3786"
             ],
             [
              0.5555555555555556,
              "#d8576b"
             ],
             [
              0.6666666666666666,
              "#ed7953"
             ],
             [
              0.7777777777777778,
              "#fb9f3a"
             ],
             [
              0.8888888888888888,
              "#fdca26"
             ],
             [
              1,
              "#f0f921"
             ]
            ],
            "type": "histogram2dcontour"
           }
          ],
          "mesh3d": [
           {
            "colorbar": {
             "outlinewidth": 0,
             "ticks": ""
            },
            "type": "mesh3d"
           }
          ],
          "parcoords": [
           {
            "line": {
             "colorbar": {
              "outlinewidth": 0,
              "ticks": ""
             }
            },
            "type": "parcoords"
           }
          ],
          "pie": [
           {
            "automargin": true,
            "type": "pie"
           }
          ],
          "scatter": [
           {
            "fillpattern": {
             "fillmode": "overlay",
             "size": 10,
             "solidity": 0.2
            },
            "type": "scatter"
           }
          ],
          "scatter3d": [
           {
            "line": {
             "colorbar": {
              "outlinewidth": 0,
              "ticks": ""
             }
            },
            "marker": {
             "colorbar": {
              "outlinewidth": 0,
              "ticks": ""
             }
            },
            "type": "scatter3d"
           }
          ],
          "scattercarpet": [
           {
            "marker": {
             "colorbar": {
              "outlinewidth": 0,
              "ticks": ""
             }
            },
            "type": "scattercarpet"
           }
          ],
          "scattergeo": [
           {
            "marker": {
             "colorbar": {
              "outlinewidth": 0,
              "ticks": ""
             }
            },
            "type": "scattergeo"
           }
          ],
          "scattergl": [
           {
            "marker": {
             "colorbar": {
              "outlinewidth": 0,
              "ticks": ""
             }
            },
            "type": "scattergl"
           }
          ],
          "scattermapbox": [
           {
            "marker": {
             "colorbar": {
              "outlinewidth": 0,
              "ticks": ""
             }
            },
            "type": "scattermapbox"
           }
          ],
          "scatterpolar": [
           {
            "marker": {
             "colorbar": {
              "outlinewidth": 0,
              "ticks": ""
             }
            },
            "type": "scatterpolar"
           }
          ],
          "scatterpolargl": [
           {
            "marker": {
             "colorbar": {
              "outlinewidth": 0,
              "ticks": ""
             }
            },
            "type": "scatterpolargl"
           }
          ],
          "scatterternary": [
           {
            "marker": {
             "colorbar": {
              "outlinewidth": 0,
              "ticks": ""
             }
            },
            "type": "scatterternary"
           }
          ],
          "surface": [
           {
            "colorbar": {
             "outlinewidth": 0,
             "ticks": ""
            },
            "colorscale": [
             [
              0,
              "#0d0887"
             ],
             [
              0.1111111111111111,
              "#46039f"
             ],
             [
              0.2222222222222222,
              "#7201a8"
             ],
             [
              0.3333333333333333,
              "#9c179e"
             ],
             [
              0.4444444444444444,
              "#bd3786"
             ],
             [
              0.5555555555555556,
              "#d8576b"
             ],
             [
              0.6666666666666666,
              "#ed7953"
             ],
             [
              0.7777777777777778,
              "#fb9f3a"
             ],
             [
              0.8888888888888888,
              "#fdca26"
             ],
             [
              1,
              "#f0f921"
             ]
            ],
            "type": "surface"
           }
          ],
          "table": [
           {
            "cells": {
             "fill": {
              "color": "#EBF0F8"
             },
             "line": {
              "color": "white"
             }
            },
            "header": {
             "fill": {
              "color": "#C8D4E3"
             },
             "line": {
              "color": "white"
             }
            },
            "type": "table"
           }
          ]
         },
         "layout": {
          "annotationdefaults": {
           "arrowcolor": "#2a3f5f",
           "arrowhead": 0,
           "arrowwidth": 1
          },
          "autotypenumbers": "strict",
          "coloraxis": {
           "colorbar": {
            "outlinewidth": 0,
            "ticks": ""
           }
          },
          "colorscale": {
           "diverging": [
            [
             0,
             "#8e0152"
            ],
            [
             0.1,
             "#c51b7d"
            ],
            [
             0.2,
             "#de77ae"
            ],
            [
             0.3,
             "#f1b6da"
            ],
            [
             0.4,
             "#fde0ef"
            ],
            [
             0.5,
             "#f7f7f7"
            ],
            [
             0.6,
             "#e6f5d0"
            ],
            [
             0.7,
             "#b8e186"
            ],
            [
             0.8,
             "#7fbc41"
            ],
            [
             0.9,
             "#4d9221"
            ],
            [
             1,
             "#276419"
            ]
           ],
           "sequential": [
            [
             0,
             "#0d0887"
            ],
            [
             0.1111111111111111,
             "#46039f"
            ],
            [
             0.2222222222222222,
             "#7201a8"
            ],
            [
             0.3333333333333333,
             "#9c179e"
            ],
            [
             0.4444444444444444,
             "#bd3786"
            ],
            [
             0.5555555555555556,
             "#d8576b"
            ],
            [
             0.6666666666666666,
             "#ed7953"
            ],
            [
             0.7777777777777778,
             "#fb9f3a"
            ],
            [
             0.8888888888888888,
             "#fdca26"
            ],
            [
             1,
             "#f0f921"
            ]
           ],
           "sequentialminus": [
            [
             0,
             "#0d0887"
            ],
            [
             0.1111111111111111,
             "#46039f"
            ],
            [
             0.2222222222222222,
             "#7201a8"
            ],
            [
             0.3333333333333333,
             "#9c179e"
            ],
            [
             0.4444444444444444,
             "#bd3786"
            ],
            [
             0.5555555555555556,
             "#d8576b"
            ],
            [
             0.6666666666666666,
             "#ed7953"
            ],
            [
             0.7777777777777778,
             "#fb9f3a"
            ],
            [
             0.8888888888888888,
             "#fdca26"
            ],
            [
             1,
             "#f0f921"
            ]
           ]
          },
          "colorway": [
           "#636efa",
           "#EF553B",
           "#00cc96",
           "#ab63fa",
           "#FFA15A",
           "#19d3f3",
           "#FF6692",
           "#B6E880",
           "#FF97FF",
           "#FECB52"
          ],
          "font": {
           "color": "#2a3f5f"
          },
          "geo": {
           "bgcolor": "white",
           "lakecolor": "white",
           "landcolor": "#E5ECF6",
           "showlakes": true,
           "showland": true,
           "subunitcolor": "white"
          },
          "hoverlabel": {
           "align": "left"
          },
          "hovermode": "closest",
          "mapbox": {
           "style": "light"
          },
          "paper_bgcolor": "white",
          "plot_bgcolor": "#E5ECF6",
          "polar": {
           "angularaxis": {
            "gridcolor": "white",
            "linecolor": "white",
            "ticks": ""
           },
           "bgcolor": "#E5ECF6",
           "radialaxis": {
            "gridcolor": "white",
            "linecolor": "white",
            "ticks": ""
           }
          },
          "scene": {
           "xaxis": {
            "backgroundcolor": "#E5ECF6",
            "gridcolor": "white",
            "gridwidth": 2,
            "linecolor": "white",
            "showbackground": true,
            "ticks": "",
            "zerolinecolor": "white"
           },
           "yaxis": {
            "backgroundcolor": "#E5ECF6",
            "gridcolor": "white",
            "gridwidth": 2,
            "linecolor": "white",
            "showbackground": true,
            "ticks": "",
            "zerolinecolor": "white"
           },
           "zaxis": {
            "backgroundcolor": "#E5ECF6",
            "gridcolor": "white",
            "gridwidth": 2,
            "linecolor": "white",
            "showbackground": true,
            "ticks": "",
            "zerolinecolor": "white"
           }
          },
          "shapedefaults": {
           "line": {
            "color": "#2a3f5f"
           }
          },
          "ternary": {
           "aaxis": {
            "gridcolor": "white",
            "linecolor": "white",
            "ticks": ""
           },
           "baxis": {
            "gridcolor": "white",
            "linecolor": "white",
            "ticks": ""
           },
           "bgcolor": "#E5ECF6",
           "caxis": {
            "gridcolor": "white",
            "linecolor": "white",
            "ticks": ""
           }
          },
          "title": {
           "x": 0.05
          },
          "xaxis": {
           "automargin": true,
           "gridcolor": "white",
           "linecolor": "white",
           "ticks": "",
           "title": {
            "standoff": 15
           },
           "zerolinecolor": "white",
           "zerolinewidth": 2
          },
          "yaxis": {
           "automargin": true,
           "gridcolor": "white",
           "linecolor": "white",
           "ticks": "",
           "title": {
            "standoff": 15
           },
           "zerolinecolor": "white",
           "zerolinewidth": 2
          }
         }
        },
        "title": {
         "text": "Training Progress of All Mice (447_demo, task = Coupled Baiting)"
        },
        "xaxis": {
         "title": {
          "text": "Session"
         }
        },
        "yaxis": {
         "tickmode": "array",
         "ticktext": [
          "00000",
          "641733",
          "668463",
          "671087",
          "676746",
          "676747",
          "680396",
          "680397",
          "680398",
          "680399",
          "680599",
          "680600",
          "684039",
          "684041",
          "684853",
          "684890",
          "684891",
          "685641",
          "685642",
          "685983",
          "686837",
          "686868",
          "687069",
          "687070",
          "687552",
          "687553",
          "687582",
          "689514",
          "689515",
          "689726",
          "689727",
          "689729",
          "689798",
          "689799",
          "694688",
          "694874",
          "695329",
          "695810",
          "695950",
          "697062",
          "699979",
          "699982"
         ],
         "tickvals": [
          0,
          1,
          2,
          3,
          4,
          5,
          6,
          7,
          8,
          9,
          10,
          11,
          12,
          13,
          14,
          15,
          16,
          17,
          18,
          19,
          20,
          21,
          22,
          23,
          24,
          25,
          26,
          27,
          28,
          29,
          30,
          31,
          32,
          33,
          34,
          35,
          36,
          37,
          38,
          39,
          40,
          41
         ],
         "title": {
          "text": "Mouse"
         }
        }
       }
      }
     },
     "metadata": {},
     "output_type": "display_data"
    }
   ],
   "source": [
    "curriculum_manager_447.plot_all_progress();"
   ]
  },
  {
   "cell_type": "markdown",
   "metadata": {},
   "source": [
    "## Show curriculum"
   ]
  },
  {
   "cell_type": "code",
   "execution_count": 4,
   "metadata": {},
   "outputs": [
    {
     "data": {
      "image/svg+xml": [
       "<?xml version=\"1.0\" encoding=\"UTF-8\" standalone=\"no\"?>\n",
       "<!DOCTYPE svg PUBLIC \"-//W3C//DTD SVG 1.1//EN\"\n",
       " \"http://www.w3.org/Graphics/SVG/1.1/DTD/svg11.dtd\">\n",
       "<!-- Generated by graphviz version 2.50.0 (0)\n",
       " -->\n",
       "<!-- Pages: 1 -->\n",
       "<svg width=\"352pt\" height=\"544pt\"\n",
       " viewBox=\"0.00 0.00 351.87 544.00\" xmlns=\"http://www.w3.org/2000/svg\" xmlns:xlink=\"http://www.w3.org/1999/xlink\">\n",
       "<g id=\"graph0\" class=\"graph\" transform=\"scale(1 1) rotate(0) translate(4 540)\">\n",
       "<polygon fill=\"white\" stroke=\"transparent\" points=\"-4,4 -4,-540 347.87,-540 347.87,4 -4,4\"/>\n",
       "<!-- STAGE_1 -->\n",
       "<g id=\"node1\" class=\"node\">\n",
       "<title>STAGE_1</title>\n",
       "<g id=\"a_node1\"><a xlink:title=\"Phase B in Han&#39;s slides (block = [10, 20, 5], p_sum = 0.8, p_ratio = [1:0])\">\n",
       "<ellipse fill=\"red\" stroke=\"black\" cx=\"176\" cy=\"-518\" rx=\"47.39\" ry=\"18\"/>\n",
       "<text text-anchor=\"middle\" x=\"176\" y=\"-514.3\" font-family=\"Times New Roman,serif\" font-size=\"14.00\">STAGE_1</text>\n",
       "</a>\n",
       "</g>\n",
       "</g>\n",
       "<!-- STAGE_2 -->\n",
       "<g id=\"node2\" class=\"node\">\n",
       "<title>STAGE_2</title>\n",
       "<g id=\"a_node2\"><a xlink:title=\"Phase C in Han&#39;s slides (block = [10, 40, 10], p_sum = 0.6, p_ratio = [8:1])\">\n",
       "<ellipse fill=\"orange\" stroke=\"black\" cx=\"176\" cy=\"-393\" rx=\"47.39\" ry=\"18\"/>\n",
       "<text text-anchor=\"middle\" x=\"176\" y=\"-389.3\" font-family=\"Times New Roman,serif\" font-size=\"14.00\">STAGE_2</text>\n",
       "</a>\n",
       "</g>\n",
       "</g>\n",
       "<!-- STAGE_1&#45;&gt;STAGE_2 -->\n",
       "<g id=\"edge1\" class=\"edge\">\n",
       "<title>STAGE_1&#45;&gt;STAGE_2</title>\n",
       "<g id=\"a_edge1\"><a xlink:title=\"PROGRESS\">\n",
       "<path fill=\"none\" stroke=\"black\" stroke-width=\"2\" d=\"M171.54,-499.63C169.06,-489.11 166.25,-475.38 165,-463 163.59,-449.04 165.7,-433.62 168.44,-420.9\"/>\n",
       "<polygon fill=\"black\" stroke=\"black\" stroke-width=\"2\" points=\"171.9,-421.48 170.82,-410.94 165.09,-419.85 171.9,-421.48\"/>\n",
       "</a>\n",
       "</g>\n",
       "<text text-anchor=\"middle\" x=\"176.5\" y=\"-451.8\" font-family=\"Times New Roman,serif\" font-size=\"14.00\"> &#160;&#160;&#160;&#160;&#160;</text>\n",
       "<g id=\"a_edge1&#45;headlabel\"><a xlink:title=\"metrics.finished_trials[&#45;1] &gt;= 200&#10;and&#10;metrics.foraging_efficiency[&#45;1] &gt;= 0.6&#10;\">\n",
       "<text text-anchor=\"middle\" x=\"98.32\" y=\"-429.74\" font-family=\"Times New Roman,serif\" font-size=\"14.00\">Finished trials &gt;= 200 and</text>\n",
       "<text text-anchor=\"middle\" x=\"98.32\" y=\"-414.74\" font-family=\"Times New Roman,serif\" font-size=\"14.00\"> efficiency &gt;= 0.6</text>\n",
       "</a>\n",
       "</g>\n",
       "</g>\n",
       "<!-- STAGE_2&#45;&gt;STAGE_1 -->\n",
       "<g id=\"edge3\" class=\"edge\">\n",
       "<title>STAGE_2&#45;&gt;STAGE_1</title>\n",
       "<g id=\"a_edge3\"><a xlink:title=\"ROLLBACK\">\n",
       "<path fill=\"none\" stroke=\"grey\" stroke-width=\"2\" stroke-dasharray=\"5,2\" d=\"M180.87,-411.35C183.56,-421.86 186.64,-435.59 188,-448 189.53,-461.97 187.23,-477.4 184.25,-490.12\"/>\n",
       "<polygon fill=\"grey\" stroke=\"grey\" stroke-width=\"2\" points=\"180.79,-489.51 181.65,-500.07 187.57,-491.28 180.79,-489.51\"/>\n",
       "</a>\n",
       "</g>\n",
       "<g id=\"a_edge3&#45;taillabel\"><a xlink:title=\"metrics.finished_trials[&#45;1] &lt; 200&#10;or&#10;metrics.foraging_efficiency[&#45;1] &lt; 0.55&#10;\">\n",
       "<text text-anchor=\"middle\" x=\"245.37\" y=\"-430.15\" font-family=\"Times New Roman,serif\" font-size=\"14.00\" fill=\"grey\">Finished trials &lt; 200 or</text>\n",
       "<text text-anchor=\"middle\" x=\"245.37\" y=\"-415.15\" font-family=\"Times New Roman,serif\" font-size=\"14.00\" fill=\"grey\"> efficiency &lt; 0.55</text>\n",
       "</a>\n",
       "</g>\n",
       "</g>\n",
       "<!-- STAGE_3 -->\n",
       "<g id=\"node3\" class=\"node\">\n",
       "<title>STAGE_3</title>\n",
       "<g id=\"a_node3\"><a xlink:title=\"Phase D in Han&#39;s slides (block = [10, 40, 10], p_sum = 0.45, p_ratio = [8:1])\">\n",
       "<ellipse fill=\"yellow\" stroke=\"black\" cx=\"176\" cy=\"-268\" rx=\"47.39\" ry=\"18\"/>\n",
       "<text text-anchor=\"middle\" x=\"176\" y=\"-264.3\" font-family=\"Times New Roman,serif\" font-size=\"14.00\">STAGE_3</text>\n",
       "</a>\n",
       "</g>\n",
       "</g>\n",
       "<!-- STAGE_2&#45;&gt;STAGE_3 -->\n",
       "<g id=\"edge2\" class=\"edge\">\n",
       "<title>STAGE_2&#45;&gt;STAGE_3</title>\n",
       "<g id=\"a_edge2\"><a xlink:title=\"PROGRESS\">\n",
       "<path fill=\"none\" stroke=\"black\" stroke-width=\"2\" d=\"M171.54,-374.63C169.06,-364.11 166.25,-350.38 165,-338 163.59,-324.04 165.7,-308.62 168.44,-295.9\"/>\n",
       "<polygon fill=\"black\" stroke=\"black\" stroke-width=\"2\" points=\"171.9,-296.48 170.82,-285.94 165.09,-294.85 171.9,-296.48\"/>\n",
       "</a>\n",
       "</g>\n",
       "<text text-anchor=\"middle\" x=\"176.5\" y=\"-326.8\" font-family=\"Times New Roman,serif\" font-size=\"14.00\"> &#160;&#160;&#160;&#160;&#160;</text>\n",
       "<g id=\"a_edge2&#45;headlabel\"><a xlink:title=\"metrics.finished_trials[&#45;1] &gt;= 300&#10;and&#10;metrics.foraging_efficiency[&#45;1] &gt;= 0.65&#10;\">\n",
       "<text text-anchor=\"middle\" x=\"98.32\" y=\"-304.74\" font-family=\"Times New Roman,serif\" font-size=\"14.00\">Finished trials &gt;= 300 and</text>\n",
       "<text text-anchor=\"middle\" x=\"98.32\" y=\"-289.74\" font-family=\"Times New Roman,serif\" font-size=\"14.00\"> efficiency &gt; 0.65</text>\n",
       "</a>\n",
       "</g>\n",
       "</g>\n",
       "<!-- STAGE_3&#45;&gt;STAGE_2 -->\n",
       "<g id=\"edge5\" class=\"edge\">\n",
       "<title>STAGE_3&#45;&gt;STAGE_2</title>\n",
       "<g id=\"a_edge5\"><a xlink:title=\"ROLLBACK\">\n",
       "<path fill=\"none\" stroke=\"grey\" stroke-width=\"2\" stroke-dasharray=\"5,2\" d=\"M181.65,-285.93C185.65,-299.85 189.96,-320.11 188,-338 187.03,-346.82 185.2,-356.31 183.25,-364.84\"/>\n",
       "<polygon fill=\"grey\" stroke=\"grey\" stroke-width=\"2\" points=\"179.83,-364.11 180.87,-374.65 186.63,-365.76 179.83,-364.11\"/>\n",
       "</a>\n",
       "</g>\n",
       "<g id=\"a_edge5&#45;taillabel\"><a xlink:title=\"metrics.finished_trials[&#45;1] &lt; 200&#10;or&#10;metrics.foraging_efficiency[&#45;1] &lt; 0.6&#10;\">\n",
       "<text text-anchor=\"middle\" x=\"246.15\" y=\"-304.73\" font-family=\"Times New Roman,serif\" font-size=\"14.00\" fill=\"grey\">Finished trials &lt; 200 or</text>\n",
       "<text text-anchor=\"middle\" x=\"246.15\" y=\"-289.73\" font-family=\"Times New Roman,serif\" font-size=\"14.00\" fill=\"grey\"> efficiency &lt; 0.6</text>\n",
       "</a>\n",
       "</g>\n",
       "</g>\n",
       "<!-- STAGE_FINAL -->\n",
       "<g id=\"node4\" class=\"node\">\n",
       "<title>STAGE_FINAL</title>\n",
       "<g id=\"a_node4\"><a xlink:title=\"Phase E in Han&#39;s slides (full task: block = [20, 60, 20], p_sum = 0.45, p_ratio = [8:1], [6:1], [3:1], [1:1])\">\n",
       "<ellipse fill=\"lightgreen\" stroke=\"black\" cx=\"176\" cy=\"-143\" rx=\"68.79\" ry=\"18\"/>\n",
       "<text text-anchor=\"middle\" x=\"176\" y=\"-139.3\" font-family=\"Times New Roman,serif\" font-size=\"14.00\">STAGE_FINAL</text>\n",
       "</a>\n",
       "</g>\n",
       "</g>\n",
       "<!-- STAGE_3&#45;&gt;STAGE_FINAL -->\n",
       "<g id=\"edge4\" class=\"edge\">\n",
       "<title>STAGE_3&#45;&gt;STAGE_FINAL</title>\n",
       "<g id=\"a_edge4\"><a xlink:title=\"PROGRESS\">\n",
       "<path fill=\"none\" stroke=\"black\" stroke-width=\"2\" d=\"M171.54,-249.63C169.06,-239.11 166.25,-225.38 165,-213 163.6,-199.14 165.67,-183.83 168.38,-171.16\"/>\n",
       "<polygon fill=\"black\" stroke=\"black\" stroke-width=\"2\" points=\"171.83,-171.76 170.74,-161.23 165.02,-170.14 171.83,-171.76\"/>\n",
       "</a>\n",
       "</g>\n",
       "<text text-anchor=\"middle\" x=\"176.5\" y=\"-201.8\" font-family=\"Times New Roman,serif\" font-size=\"14.00\"> &#160;&#160;&#160;&#160;&#160;</text>\n",
       "<g id=\"a_edge4&#45;headlabel\"><a xlink:title=\"metrics.finished_trials[&#45;1] &gt;= 400&#10;and&#10;metrics.foraging_efficiency[&#45;1] &gt;= 0.7&#10;\">\n",
       "<text text-anchor=\"middle\" x=\"98.24\" y=\"-180.03\" font-family=\"Times New Roman,serif\" font-size=\"14.00\">Finished trials &gt;= 400 and</text>\n",
       "<text text-anchor=\"middle\" x=\"98.24\" y=\"-165.03\" font-family=\"Times New Roman,serif\" font-size=\"14.00\"> efficiency &gt;= 0.7</text>\n",
       "</a>\n",
       "</g>\n",
       "</g>\n",
       "<!-- STAGE_FINAL&#45;&gt;STAGE_3 -->\n",
       "<g id=\"edge7\" class=\"edge\">\n",
       "<title>STAGE_FINAL&#45;&gt;STAGE_3</title>\n",
       "<g id=\"a_edge7\"><a xlink:title=\"ROLLBACK\">\n",
       "<path fill=\"none\" stroke=\"grey\" stroke-width=\"2\" stroke-dasharray=\"5,2\" d=\"M180.87,-161.35C183.56,-171.86 186.64,-185.59 188,-198 189.53,-211.97 187.23,-227.4 184.25,-240.12\"/>\n",
       "<polygon fill=\"grey\" stroke=\"grey\" stroke-width=\"2\" points=\"180.79,-239.51 181.65,-250.07 187.57,-241.28 180.79,-239.51\"/>\n",
       "</a>\n",
       "</g>\n",
       "<g id=\"a_edge7&#45;taillabel\"><a xlink:title=\"np.mean(metrics.finished_trials[&#45;2:]) &lt; 400&#10;or&#10;np.mean(metrics.foraging_efficiency[&#45;2:]) &lt; 0.6&#10;\">\n",
       "<text text-anchor=\"middle\" x=\"262.37\" y=\"-195.15\" font-family=\"Times New Roman,serif\" font-size=\"14.00\" fill=\"grey\">For recent 2 sessions,</text>\n",
       "<text text-anchor=\"middle\" x=\"262.37\" y=\"-180.15\" font-family=\"Times New Roman,serif\" font-size=\"14.00\" fill=\"grey\"> mean finished trials &lt; 400 or</text>\n",
       "<text text-anchor=\"middle\" x=\"262.37\" y=\"-165.15\" font-family=\"Times New Roman,serif\" font-size=\"14.00\" fill=\"grey\"> efficiency &lt; 0.6</text>\n",
       "</a>\n",
       "</g>\n",
       "</g>\n",
       "<!-- GRADUATED -->\n",
       "<g id=\"node5\" class=\"node\">\n",
       "<title>GRADUATED</title>\n",
       "<polygon fill=\"green\" stroke=\"black\" points=\"225.5,-36 126.5,-36 126.5,0 225.5,0 225.5,-36\"/>\n",
       "<text text-anchor=\"middle\" x=\"176\" y=\"-14.3\" font-family=\"Times New Roman,serif\" font-size=\"14.00\">GRADUATED</text>\n",
       "</g>\n",
       "<!-- STAGE_FINAL&#45;&gt;GRADUATED -->\n",
       "<g id=\"edge6\" class=\"edge\">\n",
       "<title>STAGE_FINAL&#45;&gt;GRADUATED</title>\n",
       "<g id=\"a_edge6\"><a xlink:title=\"PROGRESS\">\n",
       "<path fill=\"none\" stroke=\"black\" stroke-width=\"2\" d=\"M176,-124.9C176,-104.63 176,-70.6 176,-46.59\"/>\n",
       "<polygon fill=\"black\" stroke=\"black\" stroke-width=\"2\" points=\"179.5,-46.35 176,-36.35 172.5,-46.35 179.5,-46.35\"/>\n",
       "</a>\n",
       "</g>\n",
       "<text text-anchor=\"middle\" x=\"187.5\" y=\"-76.8\" font-family=\"Times New Roman,serif\" font-size=\"14.00\"> &#160;&#160;&#160;&#160;&#160;</text>\n",
       "<g id=\"a_edge6&#45;headlabel\"><a xlink:title=\"metrics.session_total &gt;= 10 &#10;and&#10;metrics.session_at_current_stage &gt;= 5&#10;and&#10;np.mean(metrics.finished_trials[&#45;5:]) &gt;= 500&#10;and&#10;np.mean(metrics.foraging_efficiency[&#45;5:]) &gt;= 0.7&#10;\">\n",
       "<text text-anchor=\"middle\" x=\"88\" y=\"-100.15\" font-family=\"Times New Roman,serif\" font-size=\"14.00\">For recent 5 sessions,</text>\n",
       "<text text-anchor=\"middle\" x=\"88\" y=\"-85.15\" font-family=\"Times New Roman,serif\" font-size=\"14.00\">mean finished trials &gt;= 500 and</text>\n",
       "<text text-anchor=\"middle\" x=\"88\" y=\"-70.15\" font-family=\"Times New Roman,serif\" font-size=\"14.00\"> mean efficiency &gt;= 0.7 and</text>\n",
       "<text text-anchor=\"middle\" x=\"88\" y=\"-55.15\" font-family=\"Times New Roman,serif\" font-size=\"14.00\"> total sessions &gt;= 10 and</text>\n",
       "<text text-anchor=\"middle\" x=\"88\" y=\"-40.15\" font-family=\"Times New Roman,serif\" font-size=\"14.00\"> sessions at final &gt;= 5</text>\n",
       "</a>\n",
       "</g>\n",
       "</g>\n",
       "</g>\n",
       "</svg>\n"
      ],
      "text/plain": [
       "<graphviz.graphs.Digraph at 0x157b77b70a0>"
      ]
     },
     "execution_count": 4,
     "metadata": {},
     "output_type": "execute_result"
    }
   ],
   "source": [
    "from dynamic_foraging_curriculum.curriculums.coupled_baiting import coupled_baiting_curriculum\n",
    "coupled_baiting_curriculum.diagram_rules()"
   ]
  },
  {
   "cell_type": "code",
   "execution_count": 3,
   "metadata": {},
   "outputs": [
    {
     "data": {
      "image/svg+xml": [
       "<?xml version=\"1.0\" encoding=\"UTF-8\" standalone=\"no\"?>\n",
       "<!DOCTYPE svg PUBLIC \"-//W3C//DTD SVG 1.1//EN\"\n",
       " \"http://www.w3.org/Graphics/SVG/1.1/DTD/svg11.dtd\">\n",
       "<!-- Generated by graphviz version 2.50.0 (0)\n",
       " -->\n",
       "<!-- Title: G Pages: 1 -->\n",
       "<svg width=\"494pt\" height=\"812pt\"\n",
       " viewBox=\"0.00 0.00 493.50 812.00\" xmlns=\"http://www.w3.org/2000/svg\" xmlns:xlink=\"http://www.w3.org/1999/xlink\">\n",
       "<g id=\"graph0\" class=\"graph\" transform=\"scale(1 1) rotate(0) translate(4 808)\">\n",
       "<title>G</title>\n",
       "<polygon fill=\"white\" stroke=\"transparent\" points=\"-4,4 -4,-808 489.5,-808 489.5,4 -4,4\"/>\n",
       "<!-- cell_1_1 -->\n",
       "<g id=\"node1\" class=\"node\">\n",
       "<title>cell_1_1</title>\n",
       "<g id=\"a_node1\"><a xlink:title=\"BaseRewardSum @ STAGE_1\">\n",
       "<polygon fill=\"lightgrey\" stroke=\"black\" points=\"223,-775 151,-775 151,-754 223,-754 223,-775\"/>\n",
       "<text text-anchor=\"middle\" x=\"187\" y=\"-761.4\" font-family=\"Times New Roman,serif\" font-size=\"12.00\">0.8</text>\n",
       "</a>\n",
       "</g>\n",
       "</g>\n",
       "<!-- cell_2_1 -->\n",
       "<g id=\"node2\" class=\"node\">\n",
       "<title>cell_2_1</title>\n",
       "<g id=\"a_node2\"><a xlink:title=\"RewardFamily @ STAGE_1\">\n",
       "<polygon fill=\"lightgrey\" stroke=\"black\" points=\"223,-746 151,-746 151,-725 223,-725 223,-746\"/>\n",
       "<text text-anchor=\"middle\" x=\"187\" y=\"-732.4\" font-family=\"Times New Roman,serif\" font-size=\"12.00\">3</text>\n",
       "</a>\n",
       "</g>\n",
       "</g>\n",
       "<!-- cell_1_1&#45;&gt;cell_2_1 -->\n",
       "<!-- cell_1_2 -->\n",
       "<g id=\"node28\" class=\"node\">\n",
       "<title>cell_1_2</title>\n",
       "<g id=\"a_node28\"><a xlink:title=\"BaseRewardSum @ STAGE_2\">\n",
       "<polygon fill=\"darkseagreen\" stroke=\"black\" points=\"302,-775 230,-775 230,-754 302,-754 302,-775\"/>\n",
       "<text text-anchor=\"middle\" x=\"266\" y=\"-761.4\" font-family=\"Times New Roman,serif\" font-size=\"12.00\">0.6</text>\n",
       "</a>\n",
       "</g>\n",
       "</g>\n",
       "<!-- cell_1_1&#45;&gt;cell_1_2 -->\n",
       "<!-- cell_3_1 -->\n",
       "<g id=\"node3\" class=\"node\">\n",
       "<title>cell_3_1</title>\n",
       "<g id=\"a_node3\"><a xlink:title=\"RewardParisN @ STAGE_1\">\n",
       "<polygon fill=\"lightgrey\" stroke=\"black\" points=\"223,-717 151,-717 151,-696 223,-696 223,-717\"/>\n",
       "<text text-anchor=\"middle\" x=\"187\" y=\"-703.4\" font-family=\"Times New Roman,serif\" font-size=\"12.00\">1</text>\n",
       "</a>\n",
       "</g>\n",
       "</g>\n",
       "<!-- cell_2_1&#45;&gt;cell_3_1 -->\n",
       "<!-- cell_2_2 -->\n",
       "<g id=\"node29\" class=\"node\">\n",
       "<title>cell_2_2</title>\n",
       "<g id=\"a_node29\"><a xlink:title=\"RewardFamily @ STAGE_2\">\n",
       "<polygon fill=\"darkseagreen\" stroke=\"black\" points=\"302,-746 230,-746 230,-725 302,-725 302,-746\"/>\n",
       "<text text-anchor=\"middle\" x=\"266\" y=\"-732.4\" font-family=\"Times New Roman,serif\" font-size=\"12.00\">1</text>\n",
       "</a>\n",
       "</g>\n",
       "</g>\n",
       "<!-- cell_2_1&#45;&gt;cell_2_2 -->\n",
       "<!-- cell_4_1 -->\n",
       "<g id=\"node4\" class=\"node\">\n",
       "<title>cell_4_1</title>\n",
       "<g id=\"a_node4\"><a xlink:title=\"BlockMin @ STAGE_1\">\n",
       "<polygon fill=\"lightgrey\" stroke=\"black\" points=\"223,-688 151,-688 151,-667 223,-667 223,-688\"/>\n",
       "<text text-anchor=\"middle\" x=\"187\" y=\"-674.4\" font-family=\"Times New Roman,serif\" font-size=\"12.00\">10</text>\n",
       "</a>\n",
       "</g>\n",
       "</g>\n",
       "<!-- cell_3_1&#45;&gt;cell_4_1 -->\n",
       "<!-- cell_3_2 -->\n",
       "<g id=\"node30\" class=\"node\">\n",
       "<title>cell_3_2</title>\n",
       "<g id=\"a_node30\"><a xlink:title=\"RewardParisN @ STAGE_2\">\n",
       "<polygon fill=\"lightgrey\" stroke=\"black\" points=\"302,-717 230,-717 230,-696 302,-696 302,-717\"/>\n",
       "<text text-anchor=\"middle\" x=\"266\" y=\"-703.4\" font-family=\"Times New Roman,serif\" font-size=\"12.00\">1</text>\n",
       "</a>\n",
       "</g>\n",
       "</g>\n",
       "<!-- cell_3_1&#45;&gt;cell_3_2 -->\n",
       "<!-- cell_5_1 -->\n",
       "<g id=\"node5\" class=\"node\">\n",
       "<title>cell_5_1</title>\n",
       "<g id=\"a_node5\"><a xlink:title=\"BlockMax @ STAGE_1\">\n",
       "<polygon fill=\"lightgrey\" stroke=\"black\" points=\"223,-659 151,-659 151,-638 223,-638 223,-659\"/>\n",
       "<text text-anchor=\"middle\" x=\"187\" y=\"-645.4\" font-family=\"Times New Roman,serif\" font-size=\"12.00\">20</text>\n",
       "</a>\n",
       "</g>\n",
       "</g>\n",
       "<!-- cell_4_1&#45;&gt;cell_5_1 -->\n",
       "<!-- cell_4_2 -->\n",
       "<g id=\"node31\" class=\"node\">\n",
       "<title>cell_4_2</title>\n",
       "<g id=\"a_node31\"><a xlink:title=\"BlockMin @ STAGE_2\">\n",
       "<polygon fill=\"lightgrey\" stroke=\"black\" points=\"302,-688 230,-688 230,-667 302,-667 302,-688\"/>\n",
       "<text text-anchor=\"middle\" x=\"266\" y=\"-674.4\" font-family=\"Times New Roman,serif\" font-size=\"12.00\">10</text>\n",
       "</a>\n",
       "</g>\n",
       "</g>\n",
       "<!-- cell_4_1&#45;&gt;cell_4_2 -->\n",
       "<!-- cell_6_1 -->\n",
       "<g id=\"node6\" class=\"node\">\n",
       "<title>cell_6_1</title>\n",
       "<g id=\"a_node6\"><a xlink:title=\"BlockBeta @ STAGE_1\">\n",
       "<polygon fill=\"lightgrey\" stroke=\"black\" points=\"223,-630 151,-630 151,-609 223,-609 223,-630\"/>\n",
       "<text text-anchor=\"middle\" x=\"187\" y=\"-616.4\" font-family=\"Times New Roman,serif\" font-size=\"12.00\">5</text>\n",
       "</a>\n",
       "</g>\n",
       "</g>\n",
       "<!-- cell_5_1&#45;&gt;cell_6_1 -->\n",
       "<!-- cell_5_2 -->\n",
       "<g id=\"node32\" class=\"node\">\n",
       "<title>cell_5_2</title>\n",
       "<g id=\"a_node32\"><a xlink:title=\"BlockMax @ STAGE_2\">\n",
       "<polygon fill=\"darkseagreen\" stroke=\"black\" points=\"302,-659 230,-659 230,-638 302,-638 302,-659\"/>\n",
       "<text text-anchor=\"middle\" x=\"266\" y=\"-645.4\" font-family=\"Times New Roman,serif\" font-size=\"12.00\">40</text>\n",
       "</a>\n",
       "</g>\n",
       "</g>\n",
       "<!-- cell_5_1&#45;&gt;cell_5_2 -->\n",
       "<!-- cell_7_1 -->\n",
       "<g id=\"node7\" class=\"node\">\n",
       "<title>cell_7_1</title>\n",
       "<g id=\"a_node7\"><a xlink:title=\"BlockMinReward @ STAGE_1\">\n",
       "<polygon fill=\"lightgrey\" stroke=\"black\" points=\"223,-601 151,-601 151,-580 223,-580 223,-601\"/>\n",
       "<text text-anchor=\"middle\" x=\"187\" y=\"-587.4\" font-family=\"Times New Roman,serif\" font-size=\"12.00\">0</text>\n",
       "</a>\n",
       "</g>\n",
       "</g>\n",
       "<!-- cell_6_1&#45;&gt;cell_7_1 -->\n",
       "<!-- cell_6_2 -->\n",
       "<g id=\"node33\" class=\"node\">\n",
       "<title>cell_6_2</title>\n",
       "<g id=\"a_node33\"><a xlink:title=\"BlockBeta @ STAGE_2\">\n",
       "<polygon fill=\"darkseagreen\" stroke=\"black\" points=\"302,-630 230,-630 230,-609 302,-609 302,-630\"/>\n",
       "<text text-anchor=\"middle\" x=\"266\" y=\"-616.4\" font-family=\"Times New Roman,serif\" font-size=\"12.00\">10</text>\n",
       "</a>\n",
       "</g>\n",
       "</g>\n",
       "<!-- cell_6_1&#45;&gt;cell_6_2 -->\n",
       "<!-- cell_8_1 -->\n",
       "<g id=\"node8\" class=\"node\">\n",
       "<title>cell_8_1</title>\n",
       "<g id=\"a_node8\"><a xlink:title=\"DelayMin @ STAGE_1\">\n",
       "<polygon fill=\"lightgrey\" stroke=\"black\" points=\"223,-572 151,-572 151,-551 223,-551 223,-572\"/>\n",
       "<text text-anchor=\"middle\" x=\"187\" y=\"-558.4\" font-family=\"Times New Roman,serif\" font-size=\"12.00\">0.5</text>\n",
       "</a>\n",
       "</g>\n",
       "</g>\n",
       "<!-- cell_7_1&#45;&gt;cell_8_1 -->\n",
       "<!-- cell_7_2 -->\n",
       "<g id=\"node34\" class=\"node\">\n",
       "<title>cell_7_2</title>\n",
       "<g id=\"a_node34\"><a xlink:title=\"BlockMinReward @ STAGE_2\">\n",
       "<polygon fill=\"lightgrey\" stroke=\"black\" points=\"302,-601 230,-601 230,-580 302,-580 302,-601\"/>\n",
       "<text text-anchor=\"middle\" x=\"266\" y=\"-587.4\" font-family=\"Times New Roman,serif\" font-size=\"12.00\">0</text>\n",
       "</a>\n",
       "</g>\n",
       "</g>\n",
       "<!-- cell_7_1&#45;&gt;cell_7_2 -->\n",
       "<!-- cell_9_1 -->\n",
       "<g id=\"node9\" class=\"node\">\n",
       "<title>cell_9_1</title>\n",
       "<g id=\"a_node9\"><a xlink:title=\"DelayMax @ STAGE_1\">\n",
       "<polygon fill=\"lightgrey\" stroke=\"black\" points=\"223,-543 151,-543 151,-522 223,-522 223,-543\"/>\n",
       "<text text-anchor=\"middle\" x=\"187\" y=\"-529.4\" font-family=\"Times New Roman,serif\" font-size=\"12.00\">0.5</text>\n",
       "</a>\n",
       "</g>\n",
       "</g>\n",
       "<!-- cell_8_1&#45;&gt;cell_9_1 -->\n",
       "<!-- cell_8_2 -->\n",
       "<g id=\"node35\" class=\"node\">\n",
       "<title>cell_8_2</title>\n",
       "<g id=\"a_node35\"><a xlink:title=\"DelayMin @ STAGE_2\">\n",
       "<polygon fill=\"darkseagreen\" stroke=\"black\" points=\"302,-572 230,-572 230,-551 302,-551 302,-572\"/>\n",
       "<text text-anchor=\"middle\" x=\"266\" y=\"-558.4\" font-family=\"Times New Roman,serif\" font-size=\"12.00\">1.0</text>\n",
       "</a>\n",
       "</g>\n",
       "</g>\n",
       "<!-- cell_8_1&#45;&gt;cell_8_2 -->\n",
       "<!-- cell_10_1 -->\n",
       "<g id=\"node10\" class=\"node\">\n",
       "<title>cell_10_1</title>\n",
       "<g id=\"a_node10\"><a xlink:title=\"DelayBeta @ STAGE_1\">\n",
       "<polygon fill=\"lightgrey\" stroke=\"black\" points=\"223,-514 151,-514 151,-493 223,-493 223,-514\"/>\n",
       "<text text-anchor=\"middle\" x=\"187\" y=\"-500.4\" font-family=\"Times New Roman,serif\" font-size=\"12.00\">0.0</text>\n",
       "</a>\n",
       "</g>\n",
       "</g>\n",
       "<!-- cell_9_1&#45;&gt;cell_10_1 -->\n",
       "<!-- cell_9_2 -->\n",
       "<g id=\"node36\" class=\"node\">\n",
       "<title>cell_9_2</title>\n",
       "<g id=\"a_node36\"><a xlink:title=\"DelayMax @ STAGE_2\">\n",
       "<polygon fill=\"darkseagreen\" stroke=\"black\" points=\"302,-543 230,-543 230,-522 302,-522 302,-543\"/>\n",
       "<text text-anchor=\"middle\" x=\"266\" y=\"-529.4\" font-family=\"Times New Roman,serif\" font-size=\"12.00\">1.0</text>\n",
       "</a>\n",
       "</g>\n",
       "</g>\n",
       "<!-- cell_9_1&#45;&gt;cell_9_2 -->\n",
       "<!-- cell_11_1 -->\n",
       "<g id=\"node11\" class=\"node\">\n",
       "<title>cell_11_1</title>\n",
       "<g id=\"a_node11\"><a xlink:title=\"AutoReward @ STAGE_1\">\n",
       "<polygon fill=\"lightgrey\" stroke=\"black\" points=\"223,-485 151,-485 151,-464 223,-464 223,-485\"/>\n",
       "<text text-anchor=\"middle\" x=\"187\" y=\"-471.4\" font-family=\"Times New Roman,serif\" font-size=\"12.00\">True</text>\n",
       "</a>\n",
       "</g>\n",
       "</g>\n",
       "<!-- cell_10_1&#45;&gt;cell_11_1 -->\n",
       "<!-- cell_10_2 -->\n",
       "<g id=\"node37\" class=\"node\">\n",
       "<title>cell_10_2</title>\n",
       "<g id=\"a_node37\"><a xlink:title=\"DelayBeta @ STAGE_2\">\n",
       "<polygon fill=\"lightgrey\" stroke=\"black\" points=\"302,-514 230,-514 230,-493 302,-493 302,-514\"/>\n",
       "<text text-anchor=\"middle\" x=\"266\" y=\"-500.4\" font-family=\"Times New Roman,serif\" font-size=\"12.00\">0.0</text>\n",
       "</a>\n",
       "</g>\n",
       "</g>\n",
       "<!-- cell_10_1&#45;&gt;cell_10_2 -->\n",
       "<!-- cell_12_1 -->\n",
       "<g id=\"node12\" class=\"node\">\n",
       "<title>cell_12_1</title>\n",
       "<g id=\"a_node12\"><a xlink:title=\"AutoWaterType @ STAGE_1\">\n",
       "<polygon fill=\"lightgrey\" stroke=\"black\" points=\"223,-456 151,-456 151,-435 223,-435 223,-456\"/>\n",
       "<text text-anchor=\"middle\" x=\"187\" y=\"-442.4\" font-family=\"Times New Roman,serif\" font-size=\"12.00\">Natural</text>\n",
       "</a>\n",
       "</g>\n",
       "</g>\n",
       "<!-- cell_11_1&#45;&gt;cell_12_1 -->\n",
       "<!-- cell_11_2 -->\n",
       "<g id=\"node38\" class=\"node\">\n",
       "<title>cell_11_2</title>\n",
       "<g id=\"a_node38\"><a xlink:title=\"AutoReward @ STAGE_2\">\n",
       "<polygon fill=\"lightgrey\" stroke=\"black\" points=\"302,-485 230,-485 230,-464 302,-464 302,-485\"/>\n",
       "<text text-anchor=\"middle\" x=\"266\" y=\"-471.4\" font-family=\"Times New Roman,serif\" font-size=\"12.00\">True</text>\n",
       "</a>\n",
       "</g>\n",
       "</g>\n",
       "<!-- cell_11_1&#45;&gt;cell_11_2 -->\n",
       "<!-- cell_13_1 -->\n",
       "<g id=\"node13\" class=\"node\">\n",
       "<title>cell_13_1</title>\n",
       "<g id=\"a_node13\"><a xlink:title=\"Multiplier @ STAGE_1\">\n",
       "<polygon fill=\"lightgrey\" stroke=\"black\" points=\"223,-427 151,-427 151,-406 223,-406 223,-427\"/>\n",
       "<text text-anchor=\"middle\" x=\"187\" y=\"-413.4\" font-family=\"Times New Roman,serif\" font-size=\"12.00\">0.5</text>\n",
       "</a>\n",
       "</g>\n",
       "</g>\n",
       "<!-- cell_12_1&#45;&gt;cell_13_1 -->\n",
       "<!-- cell_12_2 -->\n",
       "<g id=\"node39\" class=\"node\">\n",
       "<title>cell_12_2</title>\n",
       "<g id=\"a_node39\"><a xlink:title=\"AutoWaterType @ STAGE_2\">\n",
       "<polygon fill=\"lightgrey\" stroke=\"black\" points=\"302,-456 230,-456 230,-435 302,-435 302,-456\"/>\n",
       "<text text-anchor=\"middle\" x=\"266\" y=\"-442.4\" font-family=\"Times New Roman,serif\" font-size=\"12.00\">Natural</text>\n",
       "</a>\n",
       "</g>\n",
       "</g>\n",
       "<!-- cell_12_1&#45;&gt;cell_12_2 -->\n",
       "<!-- cell_14_1 -->\n",
       "<g id=\"node14\" class=\"node\">\n",
       "<title>cell_14_1</title>\n",
       "<g id=\"a_node14\"><a xlink:title=\"Unrewarded @ STAGE_1\">\n",
       "<polygon fill=\"lightgrey\" stroke=\"black\" points=\"223,-398 151,-398 151,-377 223,-377 223,-398\"/>\n",
       "<text text-anchor=\"middle\" x=\"187\" y=\"-384.4\" font-family=\"Times New Roman,serif\" font-size=\"12.00\">5</text>\n",
       "</a>\n",
       "</g>\n",
       "</g>\n",
       "<!-- cell_13_1&#45;&gt;cell_14_1 -->\n",
       "<!-- cell_13_2 -->\n",
       "<g id=\"node40\" class=\"node\">\n",
       "<title>cell_13_2</title>\n",
       "<g id=\"a_node40\"><a xlink:title=\"Multiplier @ STAGE_2\">\n",
       "<polygon fill=\"lightgrey\" stroke=\"black\" points=\"302,-427 230,-427 230,-406 302,-406 302,-427\"/>\n",
       "<text text-anchor=\"middle\" x=\"266\" y=\"-413.4\" font-family=\"Times New Roman,serif\" font-size=\"12.00\">0.5</text>\n",
       "</a>\n",
       "</g>\n",
       "</g>\n",
       "<!-- cell_13_1&#45;&gt;cell_13_2 -->\n",
       "<!-- cell_15_1 -->\n",
       "<g id=\"node15\" class=\"node\">\n",
       "<title>cell_15_1</title>\n",
       "<g id=\"a_node15\"><a xlink:title=\"Ignored @ STAGE_1\">\n",
       "<polygon fill=\"lightgrey\" stroke=\"black\" points=\"223,-369 151,-369 151,-348 223,-348 223,-369\"/>\n",
       "<text text-anchor=\"middle\" x=\"187\" y=\"-355.4\" font-family=\"Times New Roman,serif\" font-size=\"12.00\">5</text>\n",
       "</a>\n",
       "</g>\n",
       "</g>\n",
       "<!-- cell_14_1&#45;&gt;cell_15_1 -->\n",
       "<!-- cell_14_2 -->\n",
       "<g id=\"node41\" class=\"node\">\n",
       "<title>cell_14_2</title>\n",
       "<g id=\"a_node41\"><a xlink:title=\"Unrewarded @ STAGE_2\">\n",
       "<polygon fill=\"darkseagreen\" stroke=\"black\" points=\"302,-398 230,-398 230,-377 302,-377 302,-398\"/>\n",
       "<text text-anchor=\"middle\" x=\"266\" y=\"-384.4\" font-family=\"Times New Roman,serif\" font-size=\"12.00\">10</text>\n",
       "</a>\n",
       "</g>\n",
       "</g>\n",
       "<!-- cell_14_1&#45;&gt;cell_14_2 -->\n",
       "<!-- cell_16_1 -->\n",
       "<g id=\"node16\" class=\"node\">\n",
       "<title>cell_16_1</title>\n",
       "<g id=\"a_node16\"><a xlink:title=\"ITIMin @ STAGE_1\">\n",
       "<polygon fill=\"lightgrey\" stroke=\"black\" points=\"223,-340 151,-340 151,-319 223,-319 223,-340\"/>\n",
       "<text text-anchor=\"middle\" x=\"187\" y=\"-326.4\" font-family=\"Times New Roman,serif\" font-size=\"12.00\">1.0</text>\n",
       "</a>\n",
       "</g>\n",
       "</g>\n",
       "<!-- cell_15_1&#45;&gt;cell_16_1 -->\n",
       "<!-- cell_15_2 -->\n",
       "<g id=\"node42\" class=\"node\">\n",
       "<title>cell_15_2</title>\n",
       "<g id=\"a_node42\"><a xlink:title=\"Ignored @ STAGE_2\">\n",
       "<polygon fill=\"darkseagreen\" stroke=\"black\" points=\"302,-369 230,-369 230,-348 302,-348 302,-369\"/>\n",
       "<text text-anchor=\"middle\" x=\"266\" y=\"-355.4\" font-family=\"Times New Roman,serif\" font-size=\"12.00\">10</text>\n",
       "</a>\n",
       "</g>\n",
       "</g>\n",
       "<!-- cell_15_1&#45;&gt;cell_15_2 -->\n",
       "<!-- cell_17_1 -->\n",
       "<g id=\"node17\" class=\"node\">\n",
       "<title>cell_17_1</title>\n",
       "<g id=\"a_node17\"><a xlink:title=\"ITIMax @ STAGE_1\">\n",
       "<polygon fill=\"lightgrey\" stroke=\"black\" points=\"223,-311 151,-311 151,-290 223,-290 223,-311\"/>\n",
       "<text text-anchor=\"middle\" x=\"187\" y=\"-297.4\" font-family=\"Times New Roman,serif\" font-size=\"12.00\">7.0</text>\n",
       "</a>\n",
       "</g>\n",
       "</g>\n",
       "<!-- cell_16_1&#45;&gt;cell_17_1 -->\n",
       "<!-- cell_16_2 -->\n",
       "<g id=\"node43\" class=\"node\">\n",
       "<title>cell_16_2</title>\n",
       "<g id=\"a_node43\"><a xlink:title=\"ITIMin @ STAGE_2\">\n",
       "<polygon fill=\"darkseagreen\" stroke=\"black\" points=\"302,-340 230,-340 230,-319 302,-319 302,-340\"/>\n",
       "<text text-anchor=\"middle\" x=\"266\" y=\"-326.4\" font-family=\"Times New Roman,serif\" font-size=\"12.00\">2</text>\n",
       "</a>\n",
       "</g>\n",
       "</g>\n",
       "<!-- cell_16_1&#45;&gt;cell_16_2 -->\n",
       "<!-- cell_18_1 -->\n",
       "<g id=\"node18\" class=\"node\">\n",
       "<title>cell_18_1</title>\n",
       "<g id=\"a_node18\"><a xlink:title=\"ITIBeta @ STAGE_1\">\n",
       "<polygon fill=\"lightgrey\" stroke=\"black\" points=\"223,-282 151,-282 151,-261 223,-261 223,-282\"/>\n",
       "<text text-anchor=\"middle\" x=\"187\" y=\"-268.4\" font-family=\"Times New Roman,serif\" font-size=\"12.00\">3.0</text>\n",
       "</a>\n",
       "</g>\n",
       "</g>\n",
       "<!-- cell_17_1&#45;&gt;cell_18_1 -->\n",
       "<!-- cell_17_2 -->\n",
       "<g id=\"node44\" class=\"node\">\n",
       "<title>cell_17_2</title>\n",
       "<g id=\"a_node44\"><a xlink:title=\"ITIMax @ STAGE_2\">\n",
       "<polygon fill=\"darkseagreen\" stroke=\"black\" points=\"302,-311 230,-311 230,-290 302,-290 302,-311\"/>\n",
       "<text text-anchor=\"middle\" x=\"266\" y=\"-297.4\" font-family=\"Times New Roman,serif\" font-size=\"12.00\">10</text>\n",
       "</a>\n",
       "</g>\n",
       "</g>\n",
       "<!-- cell_17_1&#45;&gt;cell_17_2 -->\n",
       "<!-- cell_19_1 -->\n",
       "<g id=\"node19\" class=\"node\">\n",
       "<title>cell_19_1</title>\n",
       "<g id=\"a_node19\"><a xlink:title=\"ITIIncrease @ STAGE_1\">\n",
       "<polygon fill=\"lightgrey\" stroke=\"black\" points=\"223,-253 151,-253 151,-232 223,-232 223,-253\"/>\n",
       "<text text-anchor=\"middle\" x=\"187\" y=\"-239.4\" font-family=\"Times New Roman,serif\" font-size=\"12.00\">0.0</text>\n",
       "</a>\n",
       "</g>\n",
       "</g>\n",
       "<!-- cell_18_1&#45;&gt;cell_19_1 -->\n",
       "<!-- cell_18_2 -->\n",
       "<g id=\"node45\" class=\"node\">\n",
       "<title>cell_18_2</title>\n",
       "<g id=\"a_node45\"><a xlink:title=\"ITIBeta @ STAGE_2\">\n",
       "<polygon fill=\"darkseagreen\" stroke=\"black\" points=\"302,-282 230,-282 230,-261 302,-261 302,-282\"/>\n",
       "<text text-anchor=\"middle\" x=\"266\" y=\"-268.4\" font-family=\"Times New Roman,serif\" font-size=\"12.00\">5</text>\n",
       "</a>\n",
       "</g>\n",
       "</g>\n",
       "<!-- cell_18_1&#45;&gt;cell_18_2 -->\n",
       "<!-- cell_20_1 -->\n",
       "<g id=\"node20\" class=\"node\">\n",
       "<title>cell_20_1</title>\n",
       "<g id=\"a_node20\"><a xlink:title=\"ResponseTime @ STAGE_1\">\n",
       "<polygon fill=\"lightgrey\" stroke=\"black\" points=\"223,-224 151,-224 151,-203 223,-203 223,-224\"/>\n",
       "<text text-anchor=\"middle\" x=\"187\" y=\"-210.4\" font-family=\"Times New Roman,serif\" font-size=\"12.00\">5.0</text>\n",
       "</a>\n",
       "</g>\n",
       "</g>\n",
       "<!-- cell_19_1&#45;&gt;cell_20_1 -->\n",
       "<!-- cell_19_2 -->\n",
       "<g id=\"node46\" class=\"node\">\n",
       "<title>cell_19_2</title>\n",
       "<g id=\"a_node46\"><a xlink:title=\"ITIIncrease @ STAGE_2\">\n",
       "<polygon fill=\"lightgrey\" stroke=\"black\" points=\"302,-253 230,-253 230,-232 302,-232 302,-253\"/>\n",
       "<text text-anchor=\"middle\" x=\"266\" y=\"-239.4\" font-family=\"Times New Roman,serif\" font-size=\"12.00\">0.0</text>\n",
       "</a>\n",
       "</g>\n",
       "</g>\n",
       "<!-- cell_19_1&#45;&gt;cell_19_2 -->\n",
       "<!-- cell_21_1 -->\n",
       "<g id=\"node21\" class=\"node\">\n",
       "<title>cell_21_1</title>\n",
       "<g id=\"a_node21\"><a xlink:title=\"RewardConsumeTime @ STAGE_1\">\n",
       "<polygon fill=\"lightgrey\" stroke=\"black\" points=\"223,-195 151,-195 151,-174 223,-174 223,-195\"/>\n",
       "<text text-anchor=\"middle\" x=\"187\" y=\"-181.4\" font-family=\"Times New Roman,serif\" font-size=\"12.00\">3.0</text>\n",
       "</a>\n",
       "</g>\n",
       "</g>\n",
       "<!-- cell_20_1&#45;&gt;cell_21_1 -->\n",
       "<!-- cell_20_2 -->\n",
       "<g id=\"node47\" class=\"node\">\n",
       "<title>cell_20_2</title>\n",
       "<g id=\"a_node47\"><a xlink:title=\"ResponseTime @ STAGE_2\">\n",
       "<polygon fill=\"darkseagreen\" stroke=\"black\" points=\"302,-224 230,-224 230,-203 302,-203 302,-224\"/>\n",
       "<text text-anchor=\"middle\" x=\"266\" y=\"-210.4\" font-family=\"Times New Roman,serif\" font-size=\"12.00\">3</text>\n",
       "</a>\n",
       "</g>\n",
       "</g>\n",
       "<!-- cell_20_1&#45;&gt;cell_20_2 -->\n",
       "<!-- cell_22_1 -->\n",
       "<g id=\"node22\" class=\"node\">\n",
       "<title>cell_22_1</title>\n",
       "<g id=\"a_node22\"><a xlink:title=\"StopIgnores @ STAGE_1\">\n",
       "<polygon fill=\"lightgrey\" stroke=\"black\" points=\"223,-166 151,-166 151,-145 223,-145 223,-166\"/>\n",
       "<text text-anchor=\"middle\" x=\"187\" y=\"-152.4\" font-family=\"Times New Roman,serif\" font-size=\"12.00\">20000</text>\n",
       "</a>\n",
       "</g>\n",
       "</g>\n",
       "<!-- cell_21_1&#45;&gt;cell_22_1 -->\n",
       "<!-- cell_21_2 -->\n",
       "<g id=\"node48\" class=\"node\">\n",
       "<title>cell_21_2</title>\n",
       "<g id=\"a_node48\"><a xlink:title=\"RewardConsumeTime @ STAGE_2\">\n",
       "<polygon fill=\"lightgrey\" stroke=\"black\" points=\"302,-195 230,-195 230,-174 302,-174 302,-195\"/>\n",
       "<text text-anchor=\"middle\" x=\"266\" y=\"-181.4\" font-family=\"Times New Roman,serif\" font-size=\"12.00\">3.0</text>\n",
       "</a>\n",
       "</g>\n",
       "</g>\n",
       "<!-- cell_21_1&#45;&gt;cell_21_2 -->\n",
       "<!-- cell_23_1 -->\n",
       "<g id=\"node23\" class=\"node\">\n",
       "<title>cell_23_1</title>\n",
       "<g id=\"a_node23\"><a xlink:title=\"AdvancedBlockAuto @ STAGE_1\">\n",
       "<polygon fill=\"lightgrey\" stroke=\"black\" points=\"223,-137 151,-137 151,-116 223,-116 223,-137\"/>\n",
       "<text text-anchor=\"middle\" x=\"187\" y=\"-123.4\" font-family=\"Times New Roman,serif\" font-size=\"12.00\">now</text>\n",
       "</a>\n",
       "</g>\n",
       "</g>\n",
       "<!-- cell_22_1&#45;&gt;cell_23_1 -->\n",
       "<!-- cell_22_2 -->\n",
       "<g id=\"node49\" class=\"node\">\n",
       "<title>cell_22_2</title>\n",
       "<g id=\"a_node49\"><a xlink:title=\"StopIgnores @ STAGE_2\">\n",
       "<polygon fill=\"darkseagreen\" stroke=\"black\" points=\"302,-166 230,-166 230,-145 302,-145 302,-166\"/>\n",
       "<text text-anchor=\"middle\" x=\"266\" y=\"-152.4\" font-family=\"Times New Roman,serif\" font-size=\"12.00\">50</text>\n",
       "</a>\n",
       "</g>\n",
       "</g>\n",
       "<!-- cell_22_1&#45;&gt;cell_22_2 -->\n",
       "<!-- cell_24_1 -->\n",
       "<g id=\"node24\" class=\"node\">\n",
       "<title>cell_24_1</title>\n",
       "<g id=\"a_node24\"><a xlink:title=\"SwitchThr @ STAGE_1\">\n",
       "<polygon fill=\"lightgrey\" stroke=\"black\" points=\"223,-108 151,-108 151,-87 223,-87 223,-108\"/>\n",
       "<text text-anchor=\"middle\" x=\"187\" y=\"-94.4\" font-family=\"Times New Roman,serif\" font-size=\"12.00\">0.5</text>\n",
       "</a>\n",
       "</g>\n",
       "</g>\n",
       "<!-- cell_23_1&#45;&gt;cell_24_1 -->\n",
       "<!-- cell_23_2 -->\n",
       "<g id=\"node50\" class=\"node\">\n",
       "<title>cell_23_2</title>\n",
       "<g id=\"a_node50\"><a xlink:title=\"AdvancedBlockAuto @ STAGE_2\">\n",
       "<polygon fill=\"lightgrey\" stroke=\"black\" points=\"302,-137 230,-137 230,-116 302,-116 302,-137\"/>\n",
       "<text text-anchor=\"middle\" x=\"266\" y=\"-123.4\" font-family=\"Times New Roman,serif\" font-size=\"12.00\">now</text>\n",
       "</a>\n",
       "</g>\n",
       "</g>\n",
       "<!-- cell_23_1&#45;&gt;cell_23_2 -->\n",
       "<!-- cell_25_1 -->\n",
       "<g id=\"node25\" class=\"node\">\n",
       "<title>cell_25_1</title>\n",
       "<g id=\"a_node25\"><a xlink:title=\"PointsInARow @ STAGE_1\">\n",
       "<polygon fill=\"lightgrey\" stroke=\"black\" points=\"223,-79 151,-79 151,-58 223,-58 223,-79\"/>\n",
       "<text text-anchor=\"middle\" x=\"187\" y=\"-65.4\" font-family=\"Times New Roman,serif\" font-size=\"12.00\">5</text>\n",
       "</a>\n",
       "</g>\n",
       "</g>\n",
       "<!-- cell_24_1&#45;&gt;cell_25_1 -->\n",
       "<!-- cell_24_2 -->\n",
       "<g id=\"node51\" class=\"node\">\n",
       "<title>cell_24_2</title>\n",
       "<g id=\"a_node51\"><a xlink:title=\"SwitchThr @ STAGE_2\">\n",
       "<polygon fill=\"darkseagreen\" stroke=\"black\" points=\"302,-108 230,-108 230,-87 302,-87 302,-108\"/>\n",
       "<text text-anchor=\"middle\" x=\"266\" y=\"-94.4\" font-family=\"Times New Roman,serif\" font-size=\"12.00\">0.6</text>\n",
       "</a>\n",
       "</g>\n",
       "</g>\n",
       "<!-- cell_24_1&#45;&gt;cell_24_2 -->\n",
       "<!-- cell_26_1 -->\n",
       "<g id=\"node26\" class=\"node\">\n",
       "<title>cell_26_1</title>\n",
       "<g id=\"a_node26\"><a xlink:title=\"MaxTrial @ STAGE_1\">\n",
       "<polygon fill=\"lightgrey\" stroke=\"black\" points=\"223,-50 151,-50 151,-29 223,-29 223,-50\"/>\n",
       "<text text-anchor=\"middle\" x=\"187\" y=\"-36.4\" font-family=\"Times New Roman,serif\" font-size=\"12.00\">1000</text>\n",
       "</a>\n",
       "</g>\n",
       "</g>\n",
       "<!-- cell_25_1&#45;&gt;cell_26_1 -->\n",
       "<!-- cell_25_2 -->\n",
       "<g id=\"node52\" class=\"node\">\n",
       "<title>cell_25_2</title>\n",
       "<g id=\"a_node52\"><a xlink:title=\"PointsInARow @ STAGE_2\">\n",
       "<polygon fill=\"lightgrey\" stroke=\"black\" points=\"302,-79 230,-79 230,-58 302,-58 302,-79\"/>\n",
       "<text text-anchor=\"middle\" x=\"266\" y=\"-65.4\" font-family=\"Times New Roman,serif\" font-size=\"12.00\">5</text>\n",
       "</a>\n",
       "</g>\n",
       "</g>\n",
       "<!-- cell_25_1&#45;&gt;cell_25_2 -->\n",
       "<!-- cell_27_1 -->\n",
       "<g id=\"node27\" class=\"node\">\n",
       "<title>cell_27_1</title>\n",
       "<g id=\"a_node27\"><a xlink:title=\"MaxTime @ STAGE_1\">\n",
       "<polygon fill=\"lightgrey\" stroke=\"black\" points=\"223,-21 151,-21 151,0 223,0 223,-21\"/>\n",
       "<text text-anchor=\"middle\" x=\"187\" y=\"-7.4\" font-family=\"Times New Roman,serif\" font-size=\"12.00\">90</text>\n",
       "</a>\n",
       "</g>\n",
       "</g>\n",
       "<!-- cell_26_1&#45;&gt;cell_27_1 -->\n",
       "<!-- cell_26_2 -->\n",
       "<g id=\"node53\" class=\"node\">\n",
       "<title>cell_26_2</title>\n",
       "<g id=\"a_node53\"><a xlink:title=\"MaxTrial @ STAGE_2\">\n",
       "<polygon fill=\"lightgrey\" stroke=\"black\" points=\"302,-50 230,-50 230,-29 302,-29 302,-50\"/>\n",
       "<text text-anchor=\"middle\" x=\"266\" y=\"-36.4\" font-family=\"Times New Roman,serif\" font-size=\"12.00\">1000</text>\n",
       "</a>\n",
       "</g>\n",
       "</g>\n",
       "<!-- cell_26_1&#45;&gt;cell_26_2 -->\n",
       "<!-- cell_27_2 -->\n",
       "<g id=\"node54\" class=\"node\">\n",
       "<title>cell_27_2</title>\n",
       "<g id=\"a_node54\"><a xlink:title=\"MaxTime @ STAGE_2\">\n",
       "<polygon fill=\"lightgrey\" stroke=\"black\" points=\"302,-21 230,-21 230,0 302,0 302,-21\"/>\n",
       "<text text-anchor=\"middle\" x=\"266\" y=\"-7.4\" font-family=\"Times New Roman,serif\" font-size=\"12.00\">90</text>\n",
       "</a>\n",
       "</g>\n",
       "</g>\n",
       "<!-- cell_27_1&#45;&gt;cell_27_2 -->\n",
       "<!-- cell_1_2&#45;&gt;cell_2_2 -->\n",
       "<!-- cell_1_3 -->\n",
       "<g id=\"node55\" class=\"node\">\n",
       "<title>cell_1_3</title>\n",
       "<g id=\"a_node55\"><a xlink:title=\"BaseRewardSum @ STAGE_3\">\n",
       "<polygon fill=\"darkseagreen\" stroke=\"black\" points=\"381,-775 309,-775 309,-754 381,-754 381,-775\"/>\n",
       "<text text-anchor=\"middle\" x=\"345\" y=\"-761.4\" font-family=\"Times New Roman,serif\" font-size=\"12.00\">0.45</text>\n",
       "</a>\n",
       "</g>\n",
       "</g>\n",
       "<!-- cell_1_2&#45;&gt;cell_1_3 -->\n",
       "<!-- cell_2_2&#45;&gt;cell_3_2 -->\n",
       "<!-- cell_2_3 -->\n",
       "<g id=\"node56\" class=\"node\">\n",
       "<title>cell_2_3</title>\n",
       "<g id=\"a_node56\"><a xlink:title=\"RewardFamily @ STAGE_3\">\n",
       "<polygon fill=\"lightgrey\" stroke=\"black\" points=\"381,-746 309,-746 309,-725 381,-725 381,-746\"/>\n",
       "<text text-anchor=\"middle\" x=\"345\" y=\"-732.4\" font-family=\"Times New Roman,serif\" font-size=\"12.00\">1</text>\n",
       "</a>\n",
       "</g>\n",
       "</g>\n",
       "<!-- cell_2_2&#45;&gt;cell_2_3 -->\n",
       "<!-- cell_3_2&#45;&gt;cell_4_2 -->\n",
       "<!-- cell_3_3 -->\n",
       "<g id=\"node57\" class=\"node\">\n",
       "<title>cell_3_3</title>\n",
       "<g id=\"a_node57\"><a xlink:title=\"RewardParisN @ STAGE_3\">\n",
       "<polygon fill=\"lightgrey\" stroke=\"black\" points=\"381,-717 309,-717 309,-696 381,-696 381,-717\"/>\n",
       "<text text-anchor=\"middle\" x=\"345\" y=\"-703.4\" font-family=\"Times New Roman,serif\" font-size=\"12.00\">1</text>\n",
       "</a>\n",
       "</g>\n",
       "</g>\n",
       "<!-- cell_3_2&#45;&gt;cell_3_3 -->\n",
       "<!-- cell_4_2&#45;&gt;cell_5_2 -->\n",
       "<!-- cell_4_3 -->\n",
       "<g id=\"node58\" class=\"node\">\n",
       "<title>cell_4_3</title>\n",
       "<g id=\"a_node58\"><a xlink:title=\"BlockMin @ STAGE_3\">\n",
       "<polygon fill=\"darkseagreen\" stroke=\"black\" points=\"381,-688 309,-688 309,-667 381,-667 381,-688\"/>\n",
       "<text text-anchor=\"middle\" x=\"345\" y=\"-674.4\" font-family=\"Times New Roman,serif\" font-size=\"12.00\">20</text>\n",
       "</a>\n",
       "</g>\n",
       "</g>\n",
       "<!-- cell_4_2&#45;&gt;cell_4_3 -->\n",
       "<!-- cell_5_2&#45;&gt;cell_6_2 -->\n",
       "<!-- cell_5_3 -->\n",
       "<g id=\"node59\" class=\"node\">\n",
       "<title>cell_5_3</title>\n",
       "<g id=\"a_node59\"><a xlink:title=\"BlockMax @ STAGE_3\">\n",
       "<polygon fill=\"darkseagreen\" stroke=\"black\" points=\"381,-659 309,-659 309,-638 381,-638 381,-659\"/>\n",
       "<text text-anchor=\"middle\" x=\"345\" y=\"-645.4\" font-family=\"Times New Roman,serif\" font-size=\"12.00\">60</text>\n",
       "</a>\n",
       "</g>\n",
       "</g>\n",
       "<!-- cell_5_2&#45;&gt;cell_5_3 -->\n",
       "<!-- cell_6_2&#45;&gt;cell_7_2 -->\n",
       "<!-- cell_6_3 -->\n",
       "<g id=\"node60\" class=\"node\">\n",
       "<title>cell_6_3</title>\n",
       "<g id=\"a_node60\"><a xlink:title=\"BlockBeta @ STAGE_3\">\n",
       "<polygon fill=\"darkseagreen\" stroke=\"black\" points=\"381,-630 309,-630 309,-609 381,-609 381,-630\"/>\n",
       "<text text-anchor=\"middle\" x=\"345\" y=\"-616.4\" font-family=\"Times New Roman,serif\" font-size=\"12.00\">20</text>\n",
       "</a>\n",
       "</g>\n",
       "</g>\n",
       "<!-- cell_6_2&#45;&gt;cell_6_3 -->\n",
       "<!-- cell_7_2&#45;&gt;cell_8_2 -->\n",
       "<!-- cell_7_3 -->\n",
       "<g id=\"node61\" class=\"node\">\n",
       "<title>cell_7_3</title>\n",
       "<g id=\"a_node61\"><a xlink:title=\"BlockMinReward @ STAGE_3\">\n",
       "<polygon fill=\"lightgrey\" stroke=\"black\" points=\"381,-601 309,-601 309,-580 381,-580 381,-601\"/>\n",
       "<text text-anchor=\"middle\" x=\"345\" y=\"-587.4\" font-family=\"Times New Roman,serif\" font-size=\"12.00\">0</text>\n",
       "</a>\n",
       "</g>\n",
       "</g>\n",
       "<!-- cell_7_2&#45;&gt;cell_7_3 -->\n",
       "<!-- cell_8_2&#45;&gt;cell_9_2 -->\n",
       "<!-- cell_8_3 -->\n",
       "<g id=\"node62\" class=\"node\">\n",
       "<title>cell_8_3</title>\n",
       "<g id=\"a_node62\"><a xlink:title=\"DelayMin @ STAGE_3\">\n",
       "<polygon fill=\"darkseagreen\" stroke=\"black\" points=\"381,-572 309,-572 309,-551 381,-551 381,-572\"/>\n",
       "<text text-anchor=\"middle\" x=\"345\" y=\"-558.4\" font-family=\"Times New Roman,serif\" font-size=\"12.00\">1.5</text>\n",
       "</a>\n",
       "</g>\n",
       "</g>\n",
       "<!-- cell_8_2&#45;&gt;cell_8_3 -->\n",
       "<!-- cell_9_2&#45;&gt;cell_10_2 -->\n",
       "<!-- cell_9_3 -->\n",
       "<g id=\"node63\" class=\"node\">\n",
       "<title>cell_9_3</title>\n",
       "<g id=\"a_node63\"><a xlink:title=\"DelayMax @ STAGE_3\">\n",
       "<polygon fill=\"darkseagreen\" stroke=\"black\" points=\"381,-543 309,-543 309,-522 381,-522 381,-543\"/>\n",
       "<text text-anchor=\"middle\" x=\"345\" y=\"-529.4\" font-family=\"Times New Roman,serif\" font-size=\"12.00\">1.5</text>\n",
       "</a>\n",
       "</g>\n",
       "</g>\n",
       "<!-- cell_9_2&#45;&gt;cell_9_3 -->\n",
       "<!-- cell_10_2&#45;&gt;cell_11_2 -->\n",
       "<!-- cell_10_3 -->\n",
       "<g id=\"node64\" class=\"node\">\n",
       "<title>cell_10_3</title>\n",
       "<g id=\"a_node64\"><a xlink:title=\"DelayBeta @ STAGE_3\">\n",
       "<polygon fill=\"lightgrey\" stroke=\"black\" points=\"381,-514 309,-514 309,-493 381,-493 381,-514\"/>\n",
       "<text text-anchor=\"middle\" x=\"345\" y=\"-500.4\" font-family=\"Times New Roman,serif\" font-size=\"12.00\">0.0</text>\n",
       "</a>\n",
       "</g>\n",
       "</g>\n",
       "<!-- cell_10_2&#45;&gt;cell_10_3 -->\n",
       "<!-- cell_11_2&#45;&gt;cell_12_2 -->\n",
       "<!-- cell_11_3 -->\n",
       "<g id=\"node65\" class=\"node\">\n",
       "<title>cell_11_3</title>\n",
       "<g id=\"a_node65\"><a xlink:title=\"AutoReward @ STAGE_3\">\n",
       "<polygon fill=\"lightgrey\" stroke=\"black\" points=\"381,-485 309,-485 309,-464 381,-464 381,-485\"/>\n",
       "<text text-anchor=\"middle\" x=\"345\" y=\"-471.4\" font-family=\"Times New Roman,serif\" font-size=\"12.00\">True</text>\n",
       "</a>\n",
       "</g>\n",
       "</g>\n",
       "<!-- cell_11_2&#45;&gt;cell_11_3 -->\n",
       "<!-- cell_12_2&#45;&gt;cell_13_2 -->\n",
       "<!-- cell_12_3 -->\n",
       "<g id=\"node66\" class=\"node\">\n",
       "<title>cell_12_3</title>\n",
       "<g id=\"a_node66\"><a xlink:title=\"AutoWaterType @ STAGE_3\">\n",
       "<polygon fill=\"lightgrey\" stroke=\"black\" points=\"381,-456 309,-456 309,-435 381,-435 381,-456\"/>\n",
       "<text text-anchor=\"middle\" x=\"345\" y=\"-442.4\" font-family=\"Times New Roman,serif\" font-size=\"12.00\">Natural</text>\n",
       "</a>\n",
       "</g>\n",
       "</g>\n",
       "<!-- cell_12_2&#45;&gt;cell_12_3 -->\n",
       "<!-- cell_13_2&#45;&gt;cell_14_2 -->\n",
       "<!-- cell_13_3 -->\n",
       "<g id=\"node67\" class=\"node\">\n",
       "<title>cell_13_3</title>\n",
       "<g id=\"a_node67\"><a xlink:title=\"Multiplier @ STAGE_3\">\n",
       "<polygon fill=\"lightgrey\" stroke=\"black\" points=\"381,-427 309,-427 309,-406 381,-406 381,-427\"/>\n",
       "<text text-anchor=\"middle\" x=\"345\" y=\"-413.4\" font-family=\"Times New Roman,serif\" font-size=\"12.00\">0.5</text>\n",
       "</a>\n",
       "</g>\n",
       "</g>\n",
       "<!-- cell_13_2&#45;&gt;cell_13_3 -->\n",
       "<!-- cell_14_2&#45;&gt;cell_15_2 -->\n",
       "<!-- cell_14_3 -->\n",
       "<g id=\"node68\" class=\"node\">\n",
       "<title>cell_14_3</title>\n",
       "<g id=\"a_node68\"><a xlink:title=\"Unrewarded @ STAGE_3\">\n",
       "<polygon fill=\"lightgrey\" stroke=\"black\" points=\"381,-398 309,-398 309,-377 381,-377 381,-398\"/>\n",
       "<text text-anchor=\"middle\" x=\"345\" y=\"-384.4\" font-family=\"Times New Roman,serif\" font-size=\"12.00\">10</text>\n",
       "</a>\n",
       "</g>\n",
       "</g>\n",
       "<!-- cell_14_2&#45;&gt;cell_14_3 -->\n",
       "<!-- cell_15_2&#45;&gt;cell_16_2 -->\n",
       "<!-- cell_15_3 -->\n",
       "<g id=\"node69\" class=\"node\">\n",
       "<title>cell_15_3</title>\n",
       "<g id=\"a_node69\"><a xlink:title=\"Ignored @ STAGE_3\">\n",
       "<polygon fill=\"lightgrey\" stroke=\"black\" points=\"381,-369 309,-369 309,-348 381,-348 381,-369\"/>\n",
       "<text text-anchor=\"middle\" x=\"345\" y=\"-355.4\" font-family=\"Times New Roman,serif\" font-size=\"12.00\">10</text>\n",
       "</a>\n",
       "</g>\n",
       "</g>\n",
       "<!-- cell_15_2&#45;&gt;cell_15_3 -->\n",
       "<!-- cell_16_2&#45;&gt;cell_17_2 -->\n",
       "<!-- cell_16_3 -->\n",
       "<g id=\"node70\" class=\"node\">\n",
       "<title>cell_16_3</title>\n",
       "<g id=\"a_node70\"><a xlink:title=\"ITIMin @ STAGE_3\">\n",
       "<polygon fill=\"darkseagreen\" stroke=\"black\" points=\"381,-340 309,-340 309,-319 381,-319 381,-340\"/>\n",
       "<text text-anchor=\"middle\" x=\"345\" y=\"-326.4\" font-family=\"Times New Roman,serif\" font-size=\"12.00\">3</text>\n",
       "</a>\n",
       "</g>\n",
       "</g>\n",
       "<!-- cell_16_2&#45;&gt;cell_16_3 -->\n",
       "<!-- cell_17_2&#45;&gt;cell_18_2 -->\n",
       "<!-- cell_17_3 -->\n",
       "<g id=\"node71\" class=\"node\">\n",
       "<title>cell_17_3</title>\n",
       "<g id=\"a_node71\"><a xlink:title=\"ITIMax @ STAGE_3\">\n",
       "<polygon fill=\"darkseagreen\" stroke=\"black\" points=\"381,-311 309,-311 309,-290 381,-290 381,-311\"/>\n",
       "<text text-anchor=\"middle\" x=\"345\" y=\"-297.4\" font-family=\"Times New Roman,serif\" font-size=\"12.00\">15</text>\n",
       "</a>\n",
       "</g>\n",
       "</g>\n",
       "<!-- cell_17_2&#45;&gt;cell_17_3 -->\n",
       "<!-- cell_18_2&#45;&gt;cell_19_2 -->\n",
       "<!-- cell_18_3 -->\n",
       "<g id=\"node72\" class=\"node\">\n",
       "<title>cell_18_3</title>\n",
       "<g id=\"a_node72\"><a xlink:title=\"ITIBeta @ STAGE_3\">\n",
       "<polygon fill=\"lightgrey\" stroke=\"black\" points=\"381,-282 309,-282 309,-261 381,-261 381,-282\"/>\n",
       "<text text-anchor=\"middle\" x=\"345\" y=\"-268.4\" font-family=\"Times New Roman,serif\" font-size=\"12.00\">5</text>\n",
       "</a>\n",
       "</g>\n",
       "</g>\n",
       "<!-- cell_18_2&#45;&gt;cell_18_3 -->\n",
       "<!-- cell_19_2&#45;&gt;cell_20_2 -->\n",
       "<!-- cell_19_3 -->\n",
       "<g id=\"node73\" class=\"node\">\n",
       "<title>cell_19_3</title>\n",
       "<g id=\"a_node73\"><a xlink:title=\"ITIIncrease @ STAGE_3\">\n",
       "<polygon fill=\"lightgrey\" stroke=\"black\" points=\"381,-253 309,-253 309,-232 381,-232 381,-253\"/>\n",
       "<text text-anchor=\"middle\" x=\"345\" y=\"-239.4\" font-family=\"Times New Roman,serif\" font-size=\"12.00\">0.0</text>\n",
       "</a>\n",
       "</g>\n",
       "</g>\n",
       "<!-- cell_19_2&#45;&gt;cell_19_3 -->\n",
       "<!-- cell_20_2&#45;&gt;cell_21_2 -->\n",
       "<!-- cell_20_3 -->\n",
       "<g id=\"node74\" class=\"node\">\n",
       "<title>cell_20_3</title>\n",
       "<g id=\"a_node74\"><a xlink:title=\"ResponseTime @ STAGE_3\">\n",
       "<polygon fill=\"darkseagreen\" stroke=\"black\" points=\"381,-224 309,-224 309,-203 381,-203 381,-224\"/>\n",
       "<text text-anchor=\"middle\" x=\"345\" y=\"-210.4\" font-family=\"Times New Roman,serif\" font-size=\"12.00\">2</text>\n",
       "</a>\n",
       "</g>\n",
       "</g>\n",
       "<!-- cell_20_2&#45;&gt;cell_20_3 -->\n",
       "<!-- cell_21_2&#45;&gt;cell_22_2 -->\n",
       "<!-- cell_21_3 -->\n",
       "<g id=\"node75\" class=\"node\">\n",
       "<title>cell_21_3</title>\n",
       "<g id=\"a_node75\"><a xlink:title=\"RewardConsumeTime @ STAGE_3\">\n",
       "<polygon fill=\"lightgrey\" stroke=\"black\" points=\"381,-195 309,-195 309,-174 381,-174 381,-195\"/>\n",
       "<text text-anchor=\"middle\" x=\"345\" y=\"-181.4\" font-family=\"Times New Roman,serif\" font-size=\"12.00\">3.0</text>\n",
       "</a>\n",
       "</g>\n",
       "</g>\n",
       "<!-- cell_21_2&#45;&gt;cell_21_3 -->\n",
       "<!-- cell_22_2&#45;&gt;cell_23_2 -->\n",
       "<!-- cell_22_3 -->\n",
       "<g id=\"node76\" class=\"node\">\n",
       "<title>cell_22_3</title>\n",
       "<g id=\"a_node76\"><a xlink:title=\"StopIgnores @ STAGE_3\">\n",
       "<polygon fill=\"lightgrey\" stroke=\"black\" points=\"381,-166 309,-166 309,-145 381,-145 381,-166\"/>\n",
       "<text text-anchor=\"middle\" x=\"345\" y=\"-152.4\" font-family=\"Times New Roman,serif\" font-size=\"12.00\">50</text>\n",
       "</a>\n",
       "</g>\n",
       "</g>\n",
       "<!-- cell_22_2&#45;&gt;cell_22_3 -->\n",
       "<!-- cell_23_2&#45;&gt;cell_24_2 -->\n",
       "<!-- cell_23_3 -->\n",
       "<g id=\"node77\" class=\"node\">\n",
       "<title>cell_23_3</title>\n",
       "<g id=\"a_node77\"><a xlink:title=\"AdvancedBlockAuto @ STAGE_3\">\n",
       "<polygon fill=\"lightgrey\" stroke=\"black\" points=\"381,-137 309,-137 309,-116 381,-116 381,-137\"/>\n",
       "<text text-anchor=\"middle\" x=\"345\" y=\"-123.4\" font-family=\"Times New Roman,serif\" font-size=\"12.00\">now</text>\n",
       "</a>\n",
       "</g>\n",
       "</g>\n",
       "<!-- cell_23_2&#45;&gt;cell_23_3 -->\n",
       "<!-- cell_24_2&#45;&gt;cell_25_2 -->\n",
       "<!-- cell_24_3 -->\n",
       "<g id=\"node78\" class=\"node\">\n",
       "<title>cell_24_3</title>\n",
       "<g id=\"a_node78\"><a xlink:title=\"SwitchThr @ STAGE_3\">\n",
       "<polygon fill=\"lightgrey\" stroke=\"black\" points=\"381,-108 309,-108 309,-87 381,-87 381,-108\"/>\n",
       "<text text-anchor=\"middle\" x=\"345\" y=\"-94.4\" font-family=\"Times New Roman,serif\" font-size=\"12.00\">0.6</text>\n",
       "</a>\n",
       "</g>\n",
       "</g>\n",
       "<!-- cell_24_2&#45;&gt;cell_24_3 -->\n",
       "<!-- cell_25_2&#45;&gt;cell_26_2 -->\n",
       "<!-- cell_25_3 -->\n",
       "<g id=\"node79\" class=\"node\">\n",
       "<title>cell_25_3</title>\n",
       "<g id=\"a_node79\"><a xlink:title=\"PointsInARow @ STAGE_3\">\n",
       "<polygon fill=\"lightgrey\" stroke=\"black\" points=\"381,-79 309,-79 309,-58 381,-58 381,-79\"/>\n",
       "<text text-anchor=\"middle\" x=\"345\" y=\"-65.4\" font-family=\"Times New Roman,serif\" font-size=\"12.00\">5</text>\n",
       "</a>\n",
       "</g>\n",
       "</g>\n",
       "<!-- cell_25_2&#45;&gt;cell_25_3 -->\n",
       "<!-- cell_26_2&#45;&gt;cell_27_2 -->\n",
       "<!-- cell_26_3 -->\n",
       "<g id=\"node80\" class=\"node\">\n",
       "<title>cell_26_3</title>\n",
       "<g id=\"a_node80\"><a xlink:title=\"MaxTrial @ STAGE_3\">\n",
       "<polygon fill=\"lightgrey\" stroke=\"black\" points=\"381,-50 309,-50 309,-29 381,-29 381,-50\"/>\n",
       "<text text-anchor=\"middle\" x=\"345\" y=\"-36.4\" font-family=\"Times New Roman,serif\" font-size=\"12.00\">1000</text>\n",
       "</a>\n",
       "</g>\n",
       "</g>\n",
       "<!-- cell_26_2&#45;&gt;cell_26_3 -->\n",
       "<!-- cell_27_3 -->\n",
       "<g id=\"node81\" class=\"node\">\n",
       "<title>cell_27_3</title>\n",
       "<g id=\"a_node81\"><a xlink:title=\"MaxTime @ STAGE_3\">\n",
       "<polygon fill=\"lightgrey\" stroke=\"black\" points=\"381,-21 309,-21 309,0 381,0 381,-21\"/>\n",
       "<text text-anchor=\"middle\" x=\"345\" y=\"-7.4\" font-family=\"Times New Roman,serif\" font-size=\"12.00\">90</text>\n",
       "</a>\n",
       "</g>\n",
       "</g>\n",
       "<!-- cell_27_2&#45;&gt;cell_27_3 -->\n",
       "<!-- cell_1_3&#45;&gt;cell_2_3 -->\n",
       "<!-- cell_1_4 -->\n",
       "<g id=\"node82\" class=\"node\">\n",
       "<title>cell_1_4</title>\n",
       "<g id=\"a_node82\"><a xlink:title=\"BaseRewardSum @ STAGE_FINAL\">\n",
       "<polygon fill=\"lightgrey\" stroke=\"black\" points=\"460,-775 388,-775 388,-754 460,-754 460,-775\"/>\n",
       "<text text-anchor=\"middle\" x=\"424\" y=\"-761.4\" font-family=\"Times New Roman,serif\" font-size=\"12.00\">0.45</text>\n",
       "</a>\n",
       "</g>\n",
       "</g>\n",
       "<!-- cell_1_3&#45;&gt;cell_1_4 -->\n",
       "<!-- cell_2_3&#45;&gt;cell_3_3 -->\n",
       "<!-- cell_2_4 -->\n",
       "<g id=\"node83\" class=\"node\">\n",
       "<title>cell_2_4</title>\n",
       "<g id=\"a_node83\"><a xlink:title=\"RewardFamily @ STAGE_FINAL\">\n",
       "<polygon fill=\"lightgrey\" stroke=\"black\" points=\"460,-746 388,-746 388,-725 460,-725 460,-746\"/>\n",
       "<text text-anchor=\"middle\" x=\"424\" y=\"-732.4\" font-family=\"Times New Roman,serif\" font-size=\"12.00\">1</text>\n",
       "</a>\n",
       "</g>\n",
       "</g>\n",
       "<!-- cell_2_3&#45;&gt;cell_2_4 -->\n",
       "<!-- cell_3_3&#45;&gt;cell_4_3 -->\n",
       "<!-- cell_3_4 -->\n",
       "<g id=\"node84\" class=\"node\">\n",
       "<title>cell_3_4</title>\n",
       "<g id=\"a_node84\"><a xlink:title=\"RewardParisN @ STAGE_FINAL\">\n",
       "<polygon fill=\"darkseagreen\" stroke=\"black\" points=\"460,-717 388,-717 388,-696 460,-696 460,-717\"/>\n",
       "<text text-anchor=\"middle\" x=\"424\" y=\"-703.4\" font-family=\"Times New Roman,serif\" font-size=\"12.00\">4</text>\n",
       "</a>\n",
       "</g>\n",
       "</g>\n",
       "<!-- cell_3_3&#45;&gt;cell_3_4 -->\n",
       "<!-- cell_4_3&#45;&gt;cell_5_3 -->\n",
       "<!-- cell_4_4 -->\n",
       "<g id=\"node85\" class=\"node\">\n",
       "<title>cell_4_4</title>\n",
       "<g id=\"a_node85\"><a xlink:title=\"BlockMin @ STAGE_FINAL\">\n",
       "<polygon fill=\"lightgrey\" stroke=\"black\" points=\"460,-688 388,-688 388,-667 460,-667 460,-688\"/>\n",
       "<text text-anchor=\"middle\" x=\"424\" y=\"-674.4\" font-family=\"Times New Roman,serif\" font-size=\"12.00\">20</text>\n",
       "</a>\n",
       "</g>\n",
       "</g>\n",
       "<!-- cell_4_3&#45;&gt;cell_4_4 -->\n",
       "<!-- cell_5_3&#45;&gt;cell_6_3 -->\n",
       "<!-- cell_5_4 -->\n",
       "<g id=\"node86\" class=\"node\">\n",
       "<title>cell_5_4</title>\n",
       "<g id=\"a_node86\"><a xlink:title=\"BlockMax @ STAGE_FINAL\">\n",
       "<polygon fill=\"lightgrey\" stroke=\"black\" points=\"460,-659 388,-659 388,-638 460,-638 460,-659\"/>\n",
       "<text text-anchor=\"middle\" x=\"424\" y=\"-645.4\" font-family=\"Times New Roman,serif\" font-size=\"12.00\">60</text>\n",
       "</a>\n",
       "</g>\n",
       "</g>\n",
       "<!-- cell_5_3&#45;&gt;cell_5_4 -->\n",
       "<!-- cell_6_3&#45;&gt;cell_7_3 -->\n",
       "<!-- cell_6_4 -->\n",
       "<g id=\"node87\" class=\"node\">\n",
       "<title>cell_6_4</title>\n",
       "<g id=\"a_node87\"><a xlink:title=\"BlockBeta @ STAGE_FINAL\">\n",
       "<polygon fill=\"lightgrey\" stroke=\"black\" points=\"460,-630 388,-630 388,-609 460,-609 460,-630\"/>\n",
       "<text text-anchor=\"middle\" x=\"424\" y=\"-616.4\" font-family=\"Times New Roman,serif\" font-size=\"12.00\">20</text>\n",
       "</a>\n",
       "</g>\n",
       "</g>\n",
       "<!-- cell_6_3&#45;&gt;cell_6_4 -->\n",
       "<!-- cell_7_3&#45;&gt;cell_8_3 -->\n",
       "<!-- cell_7_4 -->\n",
       "<g id=\"node88\" class=\"node\">\n",
       "<title>cell_7_4</title>\n",
       "<g id=\"a_node88\"><a xlink:title=\"BlockMinReward @ STAGE_FINAL\">\n",
       "<polygon fill=\"lightgrey\" stroke=\"black\" points=\"460,-601 388,-601 388,-580 460,-580 460,-601\"/>\n",
       "<text text-anchor=\"middle\" x=\"424\" y=\"-587.4\" font-family=\"Times New Roman,serif\" font-size=\"12.00\">0</text>\n",
       "</a>\n",
       "</g>\n",
       "</g>\n",
       "<!-- cell_7_3&#45;&gt;cell_7_4 -->\n",
       "<!-- cell_8_3&#45;&gt;cell_9_3 -->\n",
       "<!-- cell_8_4 -->\n",
       "<g id=\"node89\" class=\"node\">\n",
       "<title>cell_8_4</title>\n",
       "<g id=\"a_node89\"><a xlink:title=\"DelayMin @ STAGE_FINAL\">\n",
       "<polygon fill=\"darkseagreen\" stroke=\"black\" points=\"460,-572 388,-572 388,-551 460,-551 460,-572\"/>\n",
       "<text text-anchor=\"middle\" x=\"424\" y=\"-558.4\" font-family=\"Times New Roman,serif\" font-size=\"12.00\">2.0</text>\n",
       "</a>\n",
       "</g>\n",
       "</g>\n",
       "<!-- cell_8_3&#45;&gt;cell_8_4 -->\n",
       "<!-- cell_9_3&#45;&gt;cell_10_3 -->\n",
       "<!-- cell_9_4 -->\n",
       "<g id=\"node90\" class=\"node\">\n",
       "<title>cell_9_4</title>\n",
       "<g id=\"a_node90\"><a xlink:title=\"DelayMax @ STAGE_FINAL\">\n",
       "<polygon fill=\"darkseagreen\" stroke=\"black\" points=\"460,-543 388,-543 388,-522 460,-522 460,-543\"/>\n",
       "<text text-anchor=\"middle\" x=\"424\" y=\"-529.4\" font-family=\"Times New Roman,serif\" font-size=\"12.00\">2.0</text>\n",
       "</a>\n",
       "</g>\n",
       "</g>\n",
       "<!-- cell_9_3&#45;&gt;cell_9_4 -->\n",
       "<!-- cell_10_3&#45;&gt;cell_11_3 -->\n",
       "<!-- cell_10_4 -->\n",
       "<g id=\"node91\" class=\"node\">\n",
       "<title>cell_10_4</title>\n",
       "<g id=\"a_node91\"><a xlink:title=\"DelayBeta @ STAGE_FINAL\">\n",
       "<polygon fill=\"darkseagreen\" stroke=\"black\" points=\"460,-514 388,-514 388,-493 460,-493 460,-514\"/>\n",
       "<text text-anchor=\"middle\" x=\"424\" y=\"-500.4\" font-family=\"Times New Roman,serif\" font-size=\"12.00\">0</text>\n",
       "</a>\n",
       "</g>\n",
       "</g>\n",
       "<!-- cell_10_3&#45;&gt;cell_10_4 -->\n",
       "<!-- cell_11_3&#45;&gt;cell_12_3 -->\n",
       "<!-- cell_11_4 -->\n",
       "<g id=\"node92\" class=\"node\">\n",
       "<title>cell_11_4</title>\n",
       "<g id=\"a_node92\"><a xlink:title=\"AutoReward @ STAGE_FINAL\">\n",
       "<polygon fill=\"darkseagreen\" stroke=\"black\" points=\"460,-485 388,-485 388,-464 460,-464 460,-485\"/>\n",
       "<text text-anchor=\"middle\" x=\"424\" y=\"-471.4\" font-family=\"Times New Roman,serif\" font-size=\"12.00\">False</text>\n",
       "</a>\n",
       "</g>\n",
       "</g>\n",
       "<!-- cell_11_3&#45;&gt;cell_11_4 -->\n",
       "<!-- cell_12_3&#45;&gt;cell_13_3 -->\n",
       "<!-- cell_12_4 -->\n",
       "<g id=\"node93\" class=\"node\">\n",
       "<title>cell_12_4</title>\n",
       "<g id=\"a_node93\"><a xlink:title=\"AutoWaterType @ STAGE_FINAL\">\n",
       "<polygon fill=\"lightgrey\" stroke=\"black\" points=\"460,-456 388,-456 388,-435 460,-435 460,-456\"/>\n",
       "<text text-anchor=\"middle\" x=\"424\" y=\"-442.4\" font-family=\"Times New Roman,serif\" font-size=\"12.00\">Natural</text>\n",
       "</a>\n",
       "</g>\n",
       "</g>\n",
       "<!-- cell_12_3&#45;&gt;cell_12_4 -->\n",
       "<!-- cell_13_3&#45;&gt;cell_14_3 -->\n",
       "<!-- cell_13_4 -->\n",
       "<g id=\"node94\" class=\"node\">\n",
       "<title>cell_13_4</title>\n",
       "<g id=\"a_node94\"><a xlink:title=\"Multiplier @ STAGE_FINAL\">\n",
       "<polygon fill=\"lightgrey\" stroke=\"black\" points=\"460,-427 388,-427 388,-406 460,-406 460,-427\"/>\n",
       "<text text-anchor=\"middle\" x=\"424\" y=\"-413.4\" font-family=\"Times New Roman,serif\" font-size=\"12.00\">0.5</text>\n",
       "</a>\n",
       "</g>\n",
       "</g>\n",
       "<!-- cell_13_3&#45;&gt;cell_13_4 -->\n",
       "<!-- cell_14_3&#45;&gt;cell_15_3 -->\n",
       "<!-- cell_14_4 -->\n",
       "<g id=\"node95\" class=\"node\">\n",
       "<title>cell_14_4</title>\n",
       "<g id=\"a_node95\"><a xlink:title=\"Unrewarded @ STAGE_FINAL\">\n",
       "<polygon fill=\"lightgrey\" stroke=\"black\" points=\"460,-398 388,-398 388,-377 460,-377 460,-398\"/>\n",
       "<text text-anchor=\"middle\" x=\"424\" y=\"-384.4\" font-family=\"Times New Roman,serif\" font-size=\"12.00\">10</text>\n",
       "</a>\n",
       "</g>\n",
       "</g>\n",
       "<!-- cell_14_3&#45;&gt;cell_14_4 -->\n",
       "<!-- cell_15_3&#45;&gt;cell_16_3 -->\n",
       "<!-- cell_15_4 -->\n",
       "<g id=\"node96\" class=\"node\">\n",
       "<title>cell_15_4</title>\n",
       "<g id=\"a_node96\"><a xlink:title=\"Ignored @ STAGE_FINAL\">\n",
       "<polygon fill=\"lightgrey\" stroke=\"black\" points=\"460,-369 388,-369 388,-348 460,-348 460,-369\"/>\n",
       "<text text-anchor=\"middle\" x=\"424\" y=\"-355.4\" font-family=\"Times New Roman,serif\" font-size=\"12.00\">10</text>\n",
       "</a>\n",
       "</g>\n",
       "</g>\n",
       "<!-- cell_15_3&#45;&gt;cell_15_4 -->\n",
       "<!-- cell_16_3&#45;&gt;cell_17_3 -->\n",
       "<!-- cell_16_4 -->\n",
       "<g id=\"node97\" class=\"node\">\n",
       "<title>cell_16_4</title>\n",
       "<g id=\"a_node97\"><a xlink:title=\"ITIMin @ STAGE_FINAL\">\n",
       "<polygon fill=\"lightgrey\" stroke=\"black\" points=\"460,-340 388,-340 388,-319 460,-319 460,-340\"/>\n",
       "<text text-anchor=\"middle\" x=\"424\" y=\"-326.4\" font-family=\"Times New Roman,serif\" font-size=\"12.00\">3</text>\n",
       "</a>\n",
       "</g>\n",
       "</g>\n",
       "<!-- cell_16_3&#45;&gt;cell_16_4 -->\n",
       "<!-- cell_17_3&#45;&gt;cell_18_3 -->\n",
       "<!-- cell_17_4 -->\n",
       "<g id=\"node98\" class=\"node\">\n",
       "<title>cell_17_4</title>\n",
       "<g id=\"a_node98\"><a xlink:title=\"ITIMax @ STAGE_FINAL\">\n",
       "<polygon fill=\"darkseagreen\" stroke=\"black\" points=\"460,-311 388,-311 388,-290 460,-290 460,-311\"/>\n",
       "<text text-anchor=\"middle\" x=\"424\" y=\"-297.4\" font-family=\"Times New Roman,serif\" font-size=\"12.00\">30</text>\n",
       "</a>\n",
       "</g>\n",
       "</g>\n",
       "<!-- cell_17_3&#45;&gt;cell_17_4 -->\n",
       "<!-- cell_18_3&#45;&gt;cell_19_3 -->\n",
       "<!-- cell_18_4 -->\n",
       "<g id=\"node99\" class=\"node\">\n",
       "<title>cell_18_4</title>\n",
       "<g id=\"a_node99\"><a xlink:title=\"ITIBeta @ STAGE_FINAL\">\n",
       "<polygon fill=\"lightgrey\" stroke=\"black\" points=\"460,-282 388,-282 388,-261 460,-261 460,-282\"/>\n",
       "<text text-anchor=\"middle\" x=\"424\" y=\"-268.4\" font-family=\"Times New Roman,serif\" font-size=\"12.00\">5</text>\n",
       "</a>\n",
       "</g>\n",
       "</g>\n",
       "<!-- cell_18_3&#45;&gt;cell_18_4 -->\n",
       "<!-- cell_19_3&#45;&gt;cell_20_3 -->\n",
       "<!-- cell_19_4 -->\n",
       "<g id=\"node100\" class=\"node\">\n",
       "<title>cell_19_4</title>\n",
       "<g id=\"a_node100\"><a xlink:title=\"ITIIncrease @ STAGE_FINAL\">\n",
       "<polygon fill=\"lightgrey\" stroke=\"black\" points=\"460,-253 388,-253 388,-232 460,-232 460,-253\"/>\n",
       "<text text-anchor=\"middle\" x=\"424\" y=\"-239.4\" font-family=\"Times New Roman,serif\" font-size=\"12.00\">0.0</text>\n",
       "</a>\n",
       "</g>\n",
       "</g>\n",
       "<!-- cell_19_3&#45;&gt;cell_19_4 -->\n",
       "<!-- cell_20_3&#45;&gt;cell_21_3 -->\n",
       "<!-- cell_20_4 -->\n",
       "<g id=\"node101\" class=\"node\">\n",
       "<title>cell_20_4</title>\n",
       "<g id=\"a_node101\"><a xlink:title=\"ResponseTime @ STAGE_FINAL\">\n",
       "<polygon fill=\"lightgrey\" stroke=\"black\" points=\"460,-224 388,-224 388,-203 460,-203 460,-224\"/>\n",
       "<text text-anchor=\"middle\" x=\"424\" y=\"-210.4\" font-family=\"Times New Roman,serif\" font-size=\"12.00\">2</text>\n",
       "</a>\n",
       "</g>\n",
       "</g>\n",
       "<!-- cell_20_3&#45;&gt;cell_20_4 -->\n",
       "<!-- cell_21_3&#45;&gt;cell_22_3 -->\n",
       "<!-- cell_21_4 -->\n",
       "<g id=\"node102\" class=\"node\">\n",
       "<title>cell_21_4</title>\n",
       "<g id=\"a_node102\"><a xlink:title=\"RewardConsumeTime @ STAGE_FINAL\">\n",
       "<polygon fill=\"darkseagreen\" stroke=\"black\" points=\"460,-195 388,-195 388,-174 460,-174 460,-195\"/>\n",
       "<text text-anchor=\"middle\" x=\"424\" y=\"-181.4\" font-family=\"Times New Roman,serif\" font-size=\"12.00\">3</text>\n",
       "</a>\n",
       "</g>\n",
       "</g>\n",
       "<!-- cell_21_3&#45;&gt;cell_21_4 -->\n",
       "<!-- cell_22_3&#45;&gt;cell_23_3 -->\n",
       "<!-- cell_22_4 -->\n",
       "<g id=\"node103\" class=\"node\">\n",
       "<title>cell_22_4</title>\n",
       "<g id=\"a_node103\"><a xlink:title=\"StopIgnores @ STAGE_FINAL\">\n",
       "<polygon fill=\"lightgrey\" stroke=\"black\" points=\"460,-166 388,-166 388,-145 460,-145 460,-166\"/>\n",
       "<text text-anchor=\"middle\" x=\"424\" y=\"-152.4\" font-family=\"Times New Roman,serif\" font-size=\"12.00\">50</text>\n",
       "</a>\n",
       "</g>\n",
       "</g>\n",
       "<!-- cell_22_3&#45;&gt;cell_22_4 -->\n",
       "<!-- cell_23_3&#45;&gt;cell_24_3 -->\n",
       "<!-- cell_23_4 -->\n",
       "<g id=\"node104\" class=\"node\">\n",
       "<title>cell_23_4</title>\n",
       "<g id=\"a_node104\"><a xlink:title=\"AdvancedBlockAuto @ STAGE_FINAL\">\n",
       "<polygon fill=\"darkseagreen\" stroke=\"black\" points=\"460,-137 388,-137 388,-116 460,-116 460,-137\"/>\n",
       "<text text-anchor=\"middle\" x=\"424\" y=\"-123.4\" font-family=\"Times New Roman,serif\" font-size=\"12.00\">off</text>\n",
       "</a>\n",
       "</g>\n",
       "</g>\n",
       "<!-- cell_23_3&#45;&gt;cell_23_4 -->\n",
       "<!-- cell_24_3&#45;&gt;cell_25_3 -->\n",
       "<!-- cell_24_4 -->\n",
       "<g id=\"node105\" class=\"node\">\n",
       "<title>cell_24_4</title>\n",
       "<g id=\"a_node105\"><a xlink:title=\"SwitchThr @ STAGE_FINAL\">\n",
       "<polygon fill=\"lightgrey\" stroke=\"black\" points=\"460,-108 388,-108 388,-87 460,-87 460,-108\"/>\n",
       "<text text-anchor=\"middle\" x=\"424\" y=\"-94.4\" font-family=\"Times New Roman,serif\" font-size=\"12.00\">0.6</text>\n",
       "</a>\n",
       "</g>\n",
       "</g>\n",
       "<!-- cell_24_3&#45;&gt;cell_24_4 -->\n",
       "<!-- cell_25_3&#45;&gt;cell_26_3 -->\n",
       "<!-- cell_25_4 -->\n",
       "<g id=\"node106\" class=\"node\">\n",
       "<title>cell_25_4</title>\n",
       "<g id=\"a_node106\"><a xlink:title=\"PointsInARow @ STAGE_FINAL\">\n",
       "<polygon fill=\"lightgrey\" stroke=\"black\" points=\"460,-79 388,-79 388,-58 460,-58 460,-79\"/>\n",
       "<text text-anchor=\"middle\" x=\"424\" y=\"-65.4\" font-family=\"Times New Roman,serif\" font-size=\"12.00\">5</text>\n",
       "</a>\n",
       "</g>\n",
       "</g>\n",
       "<!-- cell_25_3&#45;&gt;cell_25_4 -->\n",
       "<!-- cell_26_3&#45;&gt;cell_27_3 -->\n",
       "<!-- cell_26_4 -->\n",
       "<g id=\"node107\" class=\"node\">\n",
       "<title>cell_26_4</title>\n",
       "<g id=\"a_node107\"><a xlink:title=\"MaxTrial @ STAGE_FINAL\">\n",
       "<polygon fill=\"lightgrey\" stroke=\"black\" points=\"460,-50 388,-50 388,-29 460,-29 460,-50\"/>\n",
       "<text text-anchor=\"middle\" x=\"424\" y=\"-36.4\" font-family=\"Times New Roman,serif\" font-size=\"12.00\">1000</text>\n",
       "</a>\n",
       "</g>\n",
       "</g>\n",
       "<!-- cell_26_3&#45;&gt;cell_26_4 -->\n",
       "<!-- cell_27_4 -->\n",
       "<g id=\"node108\" class=\"node\">\n",
       "<title>cell_27_4</title>\n",
       "<g id=\"a_node108\"><a xlink:title=\"MaxTime @ STAGE_FINAL\">\n",
       "<polygon fill=\"lightgrey\" stroke=\"black\" points=\"460,-21 388,-21 388,0 460,0 460,-21\"/>\n",
       "<text text-anchor=\"middle\" x=\"424\" y=\"-7.4\" font-family=\"Times New Roman,serif\" font-size=\"12.00\">90</text>\n",
       "</a>\n",
       "</g>\n",
       "</g>\n",
       "<!-- cell_27_3&#45;&gt;cell_27_4 -->\n",
       "<!-- cell_1_4&#45;&gt;cell_2_4 -->\n",
       "<!-- cell_2_4&#45;&gt;cell_3_4 -->\n",
       "<!-- cell_3_4&#45;&gt;cell_4_4 -->\n",
       "<!-- cell_4_4&#45;&gt;cell_5_4 -->\n",
       "<!-- cell_5_4&#45;&gt;cell_6_4 -->\n",
       "<!-- cell_6_4&#45;&gt;cell_7_4 -->\n",
       "<!-- cell_7_4&#45;&gt;cell_8_4 -->\n",
       "<!-- cell_8_4&#45;&gt;cell_9_4 -->\n",
       "<!-- cell_9_4&#45;&gt;cell_10_4 -->\n",
       "<!-- cell_10_4&#45;&gt;cell_11_4 -->\n",
       "<!-- cell_11_4&#45;&gt;cell_12_4 -->\n",
       "<!-- cell_12_4&#45;&gt;cell_13_4 -->\n",
       "<!-- cell_13_4&#45;&gt;cell_14_4 -->\n",
       "<!-- cell_14_4&#45;&gt;cell_15_4 -->\n",
       "<!-- cell_15_4&#45;&gt;cell_16_4 -->\n",
       "<!-- cell_16_4&#45;&gt;cell_17_4 -->\n",
       "<!-- cell_17_4&#45;&gt;cell_18_4 -->\n",
       "<!-- cell_18_4&#45;&gt;cell_19_4 -->\n",
       "<!-- cell_19_4&#45;&gt;cell_20_4 -->\n",
       "<!-- cell_20_4&#45;&gt;cell_21_4 -->\n",
       "<!-- cell_21_4&#45;&gt;cell_22_4 -->\n",
       "<!-- cell_22_4&#45;&gt;cell_23_4 -->\n",
       "<!-- cell_23_4&#45;&gt;cell_24_4 -->\n",
       "<!-- cell_24_4&#45;&gt;cell_25_4 -->\n",
       "<!-- cell_25_4&#45;&gt;cell_26_4 -->\n",
       "<!-- cell_26_4&#45;&gt;cell_27_4 -->\n",
       "<!-- cell_1_0 -->\n",
       "<g id=\"node109\" class=\"node\">\n",
       "<title>cell_1_0</title>\n",
       "<g id=\"a_node109\"><a xlink:title=\"Sum of p_reward\">\n",
       "<polygon fill=\"lightgrey\" stroke=\"black\" points=\"144,-775 0,-775 0,-754 144,-754 144,-775\"/>\n",
       "<text text-anchor=\"middle\" x=\"72\" y=\"-761.4\" font-family=\"Times New Roman,serif\" font-size=\"12.00\">BaseRewardSum</text>\n",
       "</a>\n",
       "</g>\n",
       "</g>\n",
       "<!-- cell_1_0&#45;&gt;cell_1_1 -->\n",
       "<!-- cell_2_0 -->\n",
       "<g id=\"node110\" class=\"node\">\n",
       "<title>cell_2_0</title>\n",
       "<g id=\"a_node110\"><a xlink:title=\"Reward family\">\n",
       "<polygon fill=\"lightgrey\" stroke=\"black\" points=\"144,-746 0,-746 0,-725 144,-725 144,-746\"/>\n",
       "<text text-anchor=\"middle\" x=\"72\" y=\"-732.4\" font-family=\"Times New Roman,serif\" font-size=\"12.00\">RewardFamily</text>\n",
       "</a>\n",
       "</g>\n",
       "</g>\n",
       "<!-- cell_1_0&#45;&gt;cell_2_0 -->\n",
       "<!-- cell_2_0&#45;&gt;cell_2_1 -->\n",
       "<!-- cell_3_0 -->\n",
       "<g id=\"node111\" class=\"node\">\n",
       "<title>cell_3_0</title>\n",
       "<g id=\"a_node111\"><a xlink:title=\"Number of pairs\">\n",
       "<polygon fill=\"lightgrey\" stroke=\"black\" points=\"144,-717 0,-717 0,-696 144,-696 144,-717\"/>\n",
       "<text text-anchor=\"middle\" x=\"72\" y=\"-703.4\" font-family=\"Times New Roman,serif\" font-size=\"12.00\">RewardParisN</text>\n",
       "</a>\n",
       "</g>\n",
       "</g>\n",
       "<!-- cell_2_0&#45;&gt;cell_3_0 -->\n",
       "<!-- cell_3_0&#45;&gt;cell_3_1 -->\n",
       "<!-- cell_4_0 -->\n",
       "<g id=\"node112\" class=\"node\">\n",
       "<title>cell_4_0</title>\n",
       "<g id=\"a_node112\"><a xlink:title=\"Block length (min)\">\n",
       "<polygon fill=\"lightgrey\" stroke=\"black\" points=\"144,-688 0,-688 0,-667 144,-667 144,-688\"/>\n",
       "<text text-anchor=\"middle\" x=\"72\" y=\"-674.4\" font-family=\"Times New Roman,serif\" font-size=\"12.00\">BlockMin</text>\n",
       "</a>\n",
       "</g>\n",
       "</g>\n",
       "<!-- cell_3_0&#45;&gt;cell_4_0 -->\n",
       "<!-- cell_4_0&#45;&gt;cell_4_1 -->\n",
       "<!-- cell_5_0 -->\n",
       "<g id=\"node113\" class=\"node\">\n",
       "<title>cell_5_0</title>\n",
       "<g id=\"a_node113\"><a xlink:title=\"Block length (max)\">\n",
       "<polygon fill=\"lightgrey\" stroke=\"black\" points=\"144,-659 0,-659 0,-638 144,-638 144,-659\"/>\n",
       "<text text-anchor=\"middle\" x=\"72\" y=\"-645.4\" font-family=\"Times New Roman,serif\" font-size=\"12.00\">BlockMax</text>\n",
       "</a>\n",
       "</g>\n",
       "</g>\n",
       "<!-- cell_4_0&#45;&gt;cell_5_0 -->\n",
       "<!-- cell_5_0&#45;&gt;cell_5_1 -->\n",
       "<!-- cell_6_0 -->\n",
       "<g id=\"node114\" class=\"node\">\n",
       "<title>cell_6_0</title>\n",
       "<g id=\"a_node114\"><a xlink:title=\"Block length (beta)\">\n",
       "<polygon fill=\"lightgrey\" stroke=\"black\" points=\"144,-630 0,-630 0,-609 144,-609 144,-630\"/>\n",
       "<text text-anchor=\"middle\" x=\"72\" y=\"-616.4\" font-family=\"Times New Roman,serif\" font-size=\"12.00\">BlockBeta</text>\n",
       "</a>\n",
       "</g>\n",
       "</g>\n",
       "<!-- cell_5_0&#45;&gt;cell_6_0 -->\n",
       "<!-- cell_6_0&#45;&gt;cell_6_1 -->\n",
       "<!-- cell_7_0 -->\n",
       "<g id=\"node115\" class=\"node\">\n",
       "<title>cell_7_0</title>\n",
       "<g id=\"a_node115\"><a xlink:title=\"Minimal rewards in a block to switch\">\n",
       "<polygon fill=\"lightgrey\" stroke=\"black\" points=\"144,-601 0,-601 0,-580 144,-580 144,-601\"/>\n",
       "<text text-anchor=\"middle\" x=\"72\" y=\"-587.4\" font-family=\"Times New Roman,serif\" font-size=\"12.00\">BlockMinReward</text>\n",
       "</a>\n",
       "</g>\n",
       "</g>\n",
       "<!-- cell_6_0&#45;&gt;cell_7_0 -->\n",
       "<!-- cell_7_0&#45;&gt;cell_7_1 -->\n",
       "<!-- cell_8_0 -->\n",
       "<g id=\"node116\" class=\"node\">\n",
       "<title>cell_8_0</title>\n",
       "<g id=\"a_node116\"><a xlink:title=\"Delay period (min) \">\n",
       "<polygon fill=\"lightgrey\" stroke=\"black\" points=\"144,-572 0,-572 0,-551 144,-551 144,-572\"/>\n",
       "<text text-anchor=\"middle\" x=\"72\" y=\"-558.4\" font-family=\"Times New Roman,serif\" font-size=\"12.00\">DelayMin</text>\n",
       "</a>\n",
       "</g>\n",
       "</g>\n",
       "<!-- cell_7_0&#45;&gt;cell_8_0 -->\n",
       "<!-- cell_8_0&#45;&gt;cell_8_1 -->\n",
       "<!-- cell_9_0 -->\n",
       "<g id=\"node117\" class=\"node\">\n",
       "<title>cell_9_0</title>\n",
       "<g id=\"a_node117\"><a xlink:title=\"Delay period (max) \">\n",
       "<polygon fill=\"lightgrey\" stroke=\"black\" points=\"144,-543 0,-543 0,-522 144,-522 144,-543\"/>\n",
       "<text text-anchor=\"middle\" x=\"72\" y=\"-529.4\" font-family=\"Times New Roman,serif\" font-size=\"12.00\">DelayMax</text>\n",
       "</a>\n",
       "</g>\n",
       "</g>\n",
       "<!-- cell_8_0&#45;&gt;cell_9_0 -->\n",
       "<!-- cell_9_0&#45;&gt;cell_9_1 -->\n",
       "<!-- cell_10_0 -->\n",
       "<g id=\"node118\" class=\"node\">\n",
       "<title>cell_10_0</title>\n",
       "<g id=\"a_node118\"><a xlink:title=\"Delay period (beta)\">\n",
       "<polygon fill=\"lightgrey\" stroke=\"black\" points=\"144,-514 0,-514 0,-493 144,-493 144,-514\"/>\n",
       "<text text-anchor=\"middle\" x=\"72\" y=\"-500.4\" font-family=\"Times New Roman,serif\" font-size=\"12.00\">DelayBeta</text>\n",
       "</a>\n",
       "</g>\n",
       "</g>\n",
       "<!-- cell_9_0&#45;&gt;cell_10_0 -->\n",
       "<!-- cell_10_0&#45;&gt;cell_10_1 -->\n",
       "<!-- cell_11_0 -->\n",
       "<g id=\"node119\" class=\"node\">\n",
       "<title>cell_11_0</title>\n",
       "<g id=\"a_node119\"><a xlink:title=\"Auto reward switch\">\n",
       "<polygon fill=\"lightgrey\" stroke=\"black\" points=\"144,-485 0,-485 0,-464 144,-464 144,-485\"/>\n",
       "<text text-anchor=\"middle\" x=\"72\" y=\"-471.4\" font-family=\"Times New Roman,serif\" font-size=\"12.00\">AutoReward</text>\n",
       "</a>\n",
       "</g>\n",
       "</g>\n",
       "<!-- cell_10_0&#45;&gt;cell_11_0 -->\n",
       "<!-- cell_11_0&#45;&gt;cell_11_1 -->\n",
       "<!-- cell_12_0 -->\n",
       "<g id=\"node120\" class=\"node\">\n",
       "<title>cell_12_0</title>\n",
       "<g id=\"a_node120\"><a xlink:title=\"Auto water mode\">\n",
       "<polygon fill=\"lightgrey\" stroke=\"black\" points=\"144,-456 0,-456 0,-435 144,-435 144,-456\"/>\n",
       "<text text-anchor=\"middle\" x=\"72\" y=\"-442.4\" font-family=\"Times New Roman,serif\" font-size=\"12.00\">AutoWaterType</text>\n",
       "</a>\n",
       "</g>\n",
       "</g>\n",
       "<!-- cell_11_0&#45;&gt;cell_12_0 -->\n",
       "<!-- cell_12_0&#45;&gt;cell_12_1 -->\n",
       "<!-- cell_13_0 -->\n",
       "<g id=\"node121\" class=\"node\">\n",
       "<title>cell_13_0</title>\n",
       "<g id=\"a_node121\"><a xlink:title=\"Multiplier for auto reward\">\n",
       "<polygon fill=\"lightgrey\" stroke=\"black\" points=\"144,-427 0,-427 0,-406 144,-406 144,-427\"/>\n",
       "<text text-anchor=\"middle\" x=\"72\" y=\"-413.4\" font-family=\"Times New Roman,serif\" font-size=\"12.00\">Multiplier</text>\n",
       "</a>\n",
       "</g>\n",
       "</g>\n",
       "<!-- cell_12_0&#45;&gt;cell_13_0 -->\n",
       "<!-- cell_13_0&#45;&gt;cell_13_1 -->\n",
       "<!-- cell_14_0 -->\n",
       "<g id=\"node122\" class=\"node\">\n",
       "<title>cell_14_0</title>\n",
       "<g id=\"a_node122\"><a xlink:title=\"Number of unrewarded trials before auto water\">\n",
       "<polygon fill=\"lightgrey\" stroke=\"black\" points=\"144,-398 0,-398 0,-377 144,-377 144,-398\"/>\n",
       "<text text-anchor=\"middle\" x=\"72\" y=\"-384.4\" font-family=\"Times New Roman,serif\" font-size=\"12.00\">Unrewarded</text>\n",
       "</a>\n",
       "</g>\n",
       "</g>\n",
       "<!-- cell_13_0&#45;&gt;cell_14_0 -->\n",
       "<!-- cell_14_0&#45;&gt;cell_14_1 -->\n",
       "<!-- cell_15_0 -->\n",
       "<g id=\"node123\" class=\"node\">\n",
       "<title>cell_15_0</title>\n",
       "<g id=\"a_node123\"><a xlink:title=\"Number of ignored trials before auto water\">\n",
       "<polygon fill=\"lightgrey\" stroke=\"black\" points=\"144,-369 0,-369 0,-348 144,-348 144,-369\"/>\n",
       "<text text-anchor=\"middle\" x=\"72\" y=\"-355.4\" font-family=\"Times New Roman,serif\" font-size=\"12.00\">Ignored</text>\n",
       "</a>\n",
       "</g>\n",
       "</g>\n",
       "<!-- cell_14_0&#45;&gt;cell_15_0 -->\n",
       "<!-- cell_15_0&#45;&gt;cell_15_1 -->\n",
       "<!-- cell_16_0 -->\n",
       "<g id=\"node124\" class=\"node\">\n",
       "<title>cell_16_0</title>\n",
       "<g id=\"a_node124\"><a xlink:title=\"ITI (min)\">\n",
       "<polygon fill=\"lightgrey\" stroke=\"black\" points=\"144,-340 0,-340 0,-319 144,-319 144,-340\"/>\n",
       "<text text-anchor=\"middle\" x=\"72\" y=\"-326.4\" font-family=\"Times New Roman,serif\" font-size=\"12.00\">ITIMin</text>\n",
       "</a>\n",
       "</g>\n",
       "</g>\n",
       "<!-- cell_15_0&#45;&gt;cell_16_0 -->\n",
       "<!-- cell_16_0&#45;&gt;cell_16_1 -->\n",
       "<!-- cell_17_0 -->\n",
       "<g id=\"node125\" class=\"node\">\n",
       "<title>cell_17_0</title>\n",
       "<g id=\"a_node125\"><a xlink:title=\"ITI (max)\">\n",
       "<polygon fill=\"lightgrey\" stroke=\"black\" points=\"144,-311 0,-311 0,-290 144,-290 144,-311\"/>\n",
       "<text text-anchor=\"middle\" x=\"72\" y=\"-297.4\" font-family=\"Times New Roman,serif\" font-size=\"12.00\">ITIMax</text>\n",
       "</a>\n",
       "</g>\n",
       "</g>\n",
       "<!-- cell_16_0&#45;&gt;cell_17_0 -->\n",
       "<!-- cell_17_0&#45;&gt;cell_17_1 -->\n",
       "<!-- cell_18_0 -->\n",
       "<g id=\"node126\" class=\"node\">\n",
       "<title>cell_18_0</title>\n",
       "<g id=\"a_node126\"><a xlink:title=\"ITI (beta)\">\n",
       "<polygon fill=\"lightgrey\" stroke=\"black\" points=\"144,-282 0,-282 0,-261 144,-261 144,-282\"/>\n",
       "<text text-anchor=\"middle\" x=\"72\" y=\"-268.4\" font-family=\"Times New Roman,serif\" font-size=\"12.00\">ITIBeta</text>\n",
       "</a>\n",
       "</g>\n",
       "</g>\n",
       "<!-- cell_17_0&#45;&gt;cell_18_0 -->\n",
       "<!-- cell_18_0&#45;&gt;cell_18_1 -->\n",
       "<!-- cell_19_0 -->\n",
       "<g id=\"node127\" class=\"node\">\n",
       "<title>cell_19_0</title>\n",
       "<g id=\"a_node127\"><a xlink:title=\"ITI increase\">\n",
       "<polygon fill=\"lightgrey\" stroke=\"black\" points=\"144,-253 0,-253 0,-232 144,-232 144,-253\"/>\n",
       "<text text-anchor=\"middle\" x=\"72\" y=\"-239.4\" font-family=\"Times New Roman,serif\" font-size=\"12.00\">ITIIncrease</text>\n",
       "</a>\n",
       "</g>\n",
       "</g>\n",
       "<!-- cell_18_0&#45;&gt;cell_19_0 -->\n",
       "<!-- cell_19_0&#45;&gt;cell_19_1 -->\n",
       "<!-- cell_20_0 -->\n",
       "<g id=\"node128\" class=\"node\">\n",
       "<title>cell_20_0</title>\n",
       "<g id=\"a_node128\"><a xlink:title=\"Response time\">\n",
       "<polygon fill=\"lightgrey\" stroke=\"black\" points=\"144,-224 0,-224 0,-203 144,-203 144,-224\"/>\n",
       "<text text-anchor=\"middle\" x=\"72\" y=\"-210.4\" font-family=\"Times New Roman,serif\" font-size=\"12.00\">ResponseTime</text>\n",
       "</a>\n",
       "</g>\n",
       "</g>\n",
       "<!-- cell_19_0&#45;&gt;cell_20_0 -->\n",
       "<!-- cell_20_0&#45;&gt;cell_20_1 -->\n",
       "<!-- cell_21_0 -->\n",
       "<g id=\"node129\" class=\"node\">\n",
       "<title>cell_21_0</title>\n",
       "<g id=\"a_node129\"><a xlink:title=\"Reward consume time\">\n",
       "<polygon fill=\"lightgrey\" stroke=\"black\" points=\"144,-195 0,-195 0,-174 144,-174 144,-195\"/>\n",
       "<text text-anchor=\"middle\" x=\"72\" y=\"-181.4\" font-family=\"Times New Roman,serif\" font-size=\"12.00\">RewardConsumeTime</text>\n",
       "</a>\n",
       "</g>\n",
       "</g>\n",
       "<!-- cell_20_0&#45;&gt;cell_21_0 -->\n",
       "<!-- cell_21_0&#45;&gt;cell_21_1 -->\n",
       "<!-- cell_22_0 -->\n",
       "<g id=\"node130\" class=\"node\">\n",
       "<title>cell_22_0</title>\n",
       "<g id=\"a_node130\"><a xlink:title=\"Number of ignored trials before stop\">\n",
       "<polygon fill=\"lightgrey\" stroke=\"black\" points=\"144,-166 0,-166 0,-145 144,-145 144,-166\"/>\n",
       "<text text-anchor=\"middle\" x=\"72\" y=\"-152.4\" font-family=\"Times New Roman,serif\" font-size=\"12.00\">StopIgnores</text>\n",
       "</a>\n",
       "</g>\n",
       "</g>\n",
       "<!-- cell_21_0&#45;&gt;cell_22_0 -->\n",
       "<!-- cell_22_0&#45;&gt;cell_22_1 -->\n",
       "<!-- cell_23_0 -->\n",
       "<g id=\"node131\" class=\"node\">\n",
       "<title>cell_23_0</title>\n",
       "<g id=\"a_node131\"><a xlink:title=\"Auto block mode\">\n",
       "<polygon fill=\"lightgrey\" stroke=\"black\" points=\"144,-137 0,-137 0,-116 144,-116 144,-137\"/>\n",
       "<text text-anchor=\"middle\" x=\"72\" y=\"-123.4\" font-family=\"Times New Roman,serif\" font-size=\"12.00\">AdvancedBlockAuto</text>\n",
       "</a>\n",
       "</g>\n",
       "</g>\n",
       "<!-- cell_22_0&#45;&gt;cell_23_0 -->\n",
       "<!-- cell_23_0&#45;&gt;cell_23_1 -->\n",
       "<!-- cell_24_0 -->\n",
       "<g id=\"node132\" class=\"node\">\n",
       "<title>cell_24_0</title>\n",
       "<g id=\"a_node132\"><a xlink:title=\"Switch threshold for auto block\">\n",
       "<polygon fill=\"lightgrey\" stroke=\"black\" points=\"144,-108 0,-108 0,-87 144,-87 144,-108\"/>\n",
       "<text text-anchor=\"middle\" x=\"72\" y=\"-94.4\" font-family=\"Times New Roman,serif\" font-size=\"12.00\">SwitchThr</text>\n",
       "</a>\n",
       "</g>\n",
       "</g>\n",
       "<!-- cell_23_0&#45;&gt;cell_24_0 -->\n",
       "<!-- cell_24_0&#45;&gt;cell_24_1 -->\n",
       "<!-- cell_25_0 -->\n",
       "<g id=\"node133\" class=\"node\">\n",
       "<title>cell_25_0</title>\n",
       "<g id=\"a_node133\"><a xlink:title=\"Points in a row for auto block\">\n",
       "<polygon fill=\"lightgrey\" stroke=\"black\" points=\"144,-79 0,-79 0,-58 144,-58 144,-79\"/>\n",
       "<text text-anchor=\"middle\" x=\"72\" y=\"-65.4\" font-family=\"Times New Roman,serif\" font-size=\"12.00\">PointsInARow</text>\n",
       "</a>\n",
       "</g>\n",
       "</g>\n",
       "<!-- cell_24_0&#45;&gt;cell_25_0 -->\n",
       "<!-- cell_25_0&#45;&gt;cell_25_1 -->\n",
       "<!-- cell_26_0 -->\n",
       "<g id=\"node134\" class=\"node\">\n",
       "<title>cell_26_0</title>\n",
       "<g id=\"a_node134\"><a xlink:title=\"Maximal number of trials\">\n",
       "<polygon fill=\"lightgrey\" stroke=\"black\" points=\"144,-50 0,-50 0,-29 144,-29 144,-50\"/>\n",
       "<text text-anchor=\"middle\" x=\"72\" y=\"-36.4\" font-family=\"Times New Roman,serif\" font-size=\"12.00\">MaxTrial</text>\n",
       "</a>\n",
       "</g>\n",
       "</g>\n",
       "<!-- cell_25_0&#45;&gt;cell_26_0 -->\n",
       "<!-- cell_26_0&#45;&gt;cell_26_1 -->\n",
       "<!-- cell_27_0 -->\n",
       "<g id=\"node135\" class=\"node\">\n",
       "<title>cell_27_0</title>\n",
       "<g id=\"a_node135\"><a xlink:title=\"Maximal session time (min)\">\n",
       "<polygon fill=\"lightgrey\" stroke=\"black\" points=\"144,-21 0,-21 0,0 144,0 144,-21\"/>\n",
       "<text text-anchor=\"middle\" x=\"72\" y=\"-7.4\" font-family=\"Times New Roman,serif\" font-size=\"12.00\">MaxTime</text>\n",
       "</a>\n",
       "</g>\n",
       "</g>\n",
       "<!-- cell_26_0&#45;&gt;cell_27_0 -->\n",
       "<!-- cell_27_0&#45;&gt;cell_27_1 -->\n",
       "<!-- cell_0_1 -->\n",
       "<g id=\"node136\" class=\"node\">\n",
       "<title>cell_0_1</title>\n",
       "<g id=\"a_node136\"><a xlink:title=\"Phase B in Han&#39;s slides (block = [10, 20, 5], p_sum = 0.8, p_ratio = [1:0])\">\n",
       "<polygon fill=\"red\" stroke=\"black\" points=\"223,-804 151,-804 151,-783 223,-783 223,-804\"/>\n",
       "<text text-anchor=\"middle\" x=\"187\" y=\"-790.4\" font-family=\"Times New Roman,serif\" font-size=\"12.00\">STAGE_1</text>\n",
       "</a>\n",
       "</g>\n",
       "</g>\n",
       "<!-- cell_0_1&#45;&gt;cell_1_1 -->\n",
       "<!-- cell_0_2 -->\n",
       "<g id=\"node137\" class=\"node\">\n",
       "<title>cell_0_2</title>\n",
       "<g id=\"a_node137\"><a xlink:title=\"Phase C in Han&#39;s slides (block = [10, 40, 10], p_sum = 0.6, p_ratio = [8:1])\">\n",
       "<polygon fill=\"orange\" stroke=\"black\" points=\"302,-804 230,-804 230,-783 302,-783 302,-804\"/>\n",
       "<text text-anchor=\"middle\" x=\"266\" y=\"-790.4\" font-family=\"Times New Roman,serif\" font-size=\"12.00\">STAGE_2</text>\n",
       "</a>\n",
       "</g>\n",
       "</g>\n",
       "<!-- cell_0_1&#45;&gt;cell_0_2 -->\n",
       "<!-- cell_0_2&#45;&gt;cell_1_2 -->\n",
       "<!-- cell_0_3 -->\n",
       "<g id=\"node138\" class=\"node\">\n",
       "<title>cell_0_3</title>\n",
       "<g id=\"a_node138\"><a xlink:title=\"Phase D in Han&#39;s slides (block = [10, 40, 10], p_sum = 0.45, p_ratio = [8:1])\">\n",
       "<polygon fill=\"yellow\" stroke=\"black\" points=\"381,-804 309,-804 309,-783 381,-783 381,-804\"/>\n",
       "<text text-anchor=\"middle\" x=\"345\" y=\"-790.4\" font-family=\"Times New Roman,serif\" font-size=\"12.00\">STAGE_3</text>\n",
       "</a>\n",
       "</g>\n",
       "</g>\n",
       "<!-- cell_0_2&#45;&gt;cell_0_3 -->\n",
       "<!-- cell_0_3&#45;&gt;cell_1_3 -->\n",
       "<!-- cell_0_4 -->\n",
       "<g id=\"node139\" class=\"node\">\n",
       "<title>cell_0_4</title>\n",
       "<g id=\"a_node139\"><a xlink:title=\"Phase E in Han&#39;s slides (full task: block = [20, 60, 20], p_sum = 0.45, p_ratio = [8:1], [6:1], [3:1], [1:1])\">\n",
       "<polygon fill=\"lightgreen\" stroke=\"black\" points=\"485.5,-804 388.5,-804 388.5,-783 485.5,-783 485.5,-804\"/>\n",
       "<text text-anchor=\"middle\" x=\"437\" y=\"-790.4\" font-family=\"Times New Roman,serif\" font-size=\"12.00\">STAGE_FINAL</text>\n",
       "</a>\n",
       "</g>\n",
       "</g>\n",
       "<!-- cell_0_3&#45;&gt;cell_0_4 -->\n",
       "<!-- cell_0_4&#45;&gt;cell_1_4 -->\n",
       "</g>\n",
       "</svg>\n"
      ],
      "text/plain": [
       "<graphviz.graphs.Digraph at 0x157b778cac0>"
      ]
     },
     "execution_count": 3,
     "metadata": {},
     "output_type": "execute_result"
    }
   ],
   "source": [
    "coupled_baiting_curriculum.diagram_paras()"
   ]
  }
 ],
 "metadata": {
  "kernelspec": {
   "display_name": "bonsai_gui",
   "language": "python",
   "name": "python3"
  },
  "language_info": {
   "codemirror_mode": {
    "name": "ipython",
    "version": 3
   },
   "file_extension": ".py",
   "mimetype": "text/x-python",
   "name": "python",
   "nbconvert_exporter": "python",
   "pygments_lexer": "ipython3",
   "version": "3.8.0"
  }
 },
 "nbformat": 4,
 "nbformat_minor": 2
}
